{
  "nbformat": 4,
  "nbformat_minor": 0,
  "metadata": {
    "colab": {
      "provenance": [],
      "authorship_tag": "ABX9TyNbCt2Z1wvPDS5LQLxiX+t/",
      "include_colab_link": true
    },
    "kernelspec": {
      "name": "python3",
      "display_name": "Python 3"
    },
    "language_info": {
      "name": "python"
    }
  },
  "cells": [
    {
      "cell_type": "markdown",
      "metadata": {
        "id": "view-in-github",
        "colab_type": "text"
      },
      "source": [
        "<a href=\"https://colab.research.google.com/github/myungju0130/250604-project/blob/main/Untitled9.ipynb\" target=\"_parent\"><img src=\"https://colab.research.google.com/assets/colab-badge.svg\" alt=\"Open In Colab\"/></a>"
      ]
    },
    {
      "cell_type": "markdown",
      "source": [
        "# **미션 1: 교육 프로그램의 학습 효과 분석 보고서**"
      ],
      "metadata": {
        "id": "4zkZ8pCeUZPa"
      }
    },
    {
      "cell_type": "code",
      "execution_count": 1,
      "metadata": {
        "id": "4JmGIyA1HDgV"
      },
      "outputs": [],
      "source": [
        "import pandas as pd\n",
        "import numpy as np\n",
        "import seaborn as sns\n",
        "import matplotlib.pyplot as plt\n",
        "from sklearn.linear_model import LinearRegression, LogisticRegression\n",
        "from sklearn.metrics import r2_score, confusion_matrix, classification_report, roc_curve, auc\n",
        "from scipy import stats\n",
        "from sklearn.decomposition import PCA\n",
        "from sklearn.preprocessing import StandardScaler\n",
        "from sklearn.cluster import KMeans\n",
        "from sklearn.model_selection import cross_val_score\n",
        "import warnings\n",
        "warnings.filterwarnings('ignore')\n",
        "\n",
        "plt.rc('font', family='NanumBarunGothic')"
      ]
    },
    {
      "cell_type": "code",
      "source": [
        "np.random.seed(321)\n",
        "n_students = 150\n",
        "control_scores = np.random.normal(65, 10, n_students)\n",
        "smartlearn_scores = np.random.normal(70, 12, n_students)\n",
        "education_data = pd.DataFrame({\n",
        "    'group': ['Control']*n_students + ['SmartLearn']*n_students,\n",
        "    'math_score': np.concatenate([control_scores, smartlearn_scores]),\n",
        "    'student_id': range(1, 2*n_students + 1)\n",
        "})\n",
        "\n",
        "print(\"📚 교육 프로그램 데이터 미리보기\")\n",
        "print(education_data.groupby('group')['math_score'].agg(['count', 'mean', 'std']).round(2))"
      ],
      "metadata": {
        "colab": {
          "base_uri": "https://localhost:8080/"
        },
        "id": "lrMKtCyfHeFz",
        "outputId": "b82c5a55-d5e7-4772-caa8-7b8842a42646"
      },
      "execution_count": 2,
      "outputs": [
        {
          "output_type": "stream",
          "name": "stdout",
          "text": [
            "📚 교육 프로그램 데이터 미리보기\n",
            "            count   mean    std\n",
            "group                          \n",
            "Control       150  64.93   9.67\n",
            "SmartLearn    150  70.47  11.29\n"
          ]
        }
      ]
    },
    {
      "cell_type": "markdown",
      "source": [
        "# 📊 분석 및 보고서 작성"
      ],
      "metadata": {
        "id": "ZciXC5ErLQiS"
      }
    },
    {
      "cell_type": "markdown",
      "source": [
        "# **1. 기본 통계량 비교**\n",
        "**비즈니스 맥락**: CEO 박대표가 \"SmartLearn을 사용한 학생들이 정말 더 높은 점수를 받았나요? 얼마나 차이가 나죠?\"라고 질문했습니다. 투자자들에게 설명할 수 있는 명확한 수치가 필요합니다.\n",
        "\n",
        "**분석 목적**: 두 그룹의 평균 점수 차이를 계산하고, 표준오차를 통해 결과의 신뢰성을 평가하여 SmartLearn의 잠재적 효과를 정량화합니다.\n",
        "\n",
        "**학습 이해도 점검**: 아래 코드에서 평균과 표준오차를 계산하는 부분을 채워주세요."
      ],
      "metadata": {
        "id": "0roMWVk9LVfc"
      }
    },
    {
      "cell_type": "code",
      "source": [
        "control_mean = education_data[education_data['group'] == 'Control']['math_score'].mean()\n",
        "smartlearn_mean = education_data[education_data['group'] == 'SmartLearn']['math_score'].mean()\n",
        "\n",
        "control_se = education_data[education_data['group'] == 'Control']['math_score'].std(ddof=1) / np.sqrt(n_students)\n",
        "smartlearn_se = education_data[education_data['group'] == 'SmartLearn']['math_score'].std(ddof=1) / np.sqrt(n_students)\n",
        "\n",
        "print(f\"대조군 수학 점수: {control_mean:.2f} ± {control_se:.2f}\")\n",
        "print(f\"SmartLearn 수학 점수: {smartlearn_mean:.2f} ± {smartlearn_se:.2f}\")"
      ],
      "metadata": {
        "colab": {
          "base_uri": "https://localhost:8080/"
        },
        "id": "bmYjtOc6JJFW",
        "outputId": "5b71482a-7eaf-491c-981d-c8d879dfc870"
      },
      "execution_count": 9,
      "outputs": [
        {
          "output_type": "stream",
          "name": "stdout",
          "text": [
            "대조군 수학 점수: 64.93 ± 0.79\n",
            "SmartLearn 수학 점수: 70.47 ± 0.92\n"
          ]
        }
      ]
    },
    {
      "cell_type": "markdown",
      "source": [
        "즉, SmartLearn을 사용한 학생들의 평균 점수는 대조군보다 약 5.54점 높으며, 표준오차를 고려했을 때 이 차이는 통계적으로 의미 있을 가능성이 큽니다."
      ],
      "metadata": {
        "id": "8rzr54meLklj"
      }
    },
    {
      "cell_type": "markdown",
      "source": [
        "# **2. 통계적 유의성 검증**\n",
        "\n",
        "**비즈니스 맥락**: 마케팅팀에서 \"우연히 좋은 결과가 나온 건 아닌가요? 통계적으로 의미있는 차이인지 확실히 해주세요\"라고 요청했습니다. 교육부 보고서에서도 p-value 기반의 검증을 요구하고 있습니다.\n",
        "\n",
        "**분석 목적**: 관찰된 점수 차이가 우연히 발생할 확률을 계산하여, SmartLearn의 효과가 통계적으로 유의미한지 검증합니다.\n",
        "\n",
        "**학습 이해도 점검**: 아래 코드에서 t-검정을 수행하는 부분을 채워주세요."
      ],
      "metadata": {
        "id": "ui0LQejmL8iY"
      }
    },
    {
      "cell_type": "code",
      "source": [
        "from scipy import stats\n",
        "\n",
        "control_group = education_data[education_data['group'] == 'Control']['math_score']\n",
        "smartlearn_group = education_data[education_data['group'] == 'SmartLearn']['math_score']\n",
        "\n",
        "t_stat, p_value = stats.ttest_ind(control_group, smartlearn_group, equal_var=False)\n",
        "\n",
        "print(f\"t-통계량: {t_stat:.3f}\")\n",
        "print(f\"p-value: {p_value:.4f}\")\n",
        "alpha = 0.05\n",
        "if p_value < alpha:\n",
        "    print(\"✅ SmartLearn 프로그램은 대조군과 유의미한 성적 차이를 보입니다!\")\n",
        "else:\n",
        "    print(\"❌ SmartLearn 프로그램의 효과가 유의미하지 않습니다.\")"
      ],
      "metadata": {
        "colab": {
          "base_uri": "https://localhost:8080/"
        },
        "id": "8QEn4QQXMHmg",
        "outputId": "df08adde-7c8b-4931-878e-c6bed3bbe387"
      },
      "execution_count": 7,
      "outputs": [
        {
          "output_type": "stream",
          "name": "stdout",
          "text": [
            "t-통계량: -4.565\n",
            "p-value: 0.0000\n",
            "✅ SmartLearn 프로그램은 대조군과 유의미한 성적 차이를 보입니다!\n"
          ]
        }
      ]
    },
    {
      "cell_type": "markdown",
      "source": [
        "# **3. 효과 크기 평가**\n",
        "\n",
        "**비즈니스 맥락**: 연구개발팀장이 \"통계적으로 유의하다고 해서 실제로 의미있는 향상인가요? 학부모들이 체감할 수 있을 만큼 큰 효과인지 알고 싶습니다\"라고 질문했습니다.\n",
        "\n",
        "**분석 목적**: Cohen's d를 계산하여 SmartLearn의 실질적 효과 크기를 측정하고, 교육학적으로 의미있는 수준인지 평가합니다.\n",
        "\n",
        "**학습 이해도 점검**: 아래 코드에서 Cohen's d를 계산하는 부분을 채워주세요."
      ],
      "metadata": {
        "id": "hZuAksDjM3fF"
      }
    },
    {
      "cell_type": "code",
      "source": [
        "control_std = education_data[education_data['group'] == 'Control']['math_score'].std()\n",
        "smartlearn_std = education_data[education_data['group'] == 'SmartLearn']['math_score'].std()\n",
        "pooled_std = np.sqrt(((n_students-1)*control_std**2 + (n_students-1)*smartlearn_std**2)/(2*n_students-2))\n",
        "cohens_d = (smartlearn_mean - control_mean) / pooled_std\n",
        "\n",
        "print(f\"Cohen's d: {cohens_d:.3f}\")\n",
        "if cohens_d > 0.8:\n",
        "    print(\"→ 큰 효과크기 (학부모가 명확히 체감할 수 있는 수준)\")\n",
        "elif cohens_d > 0.5:\n",
        "    print(\"→ 중간 효과크기 (교육적으로 의미있는 수준)\")\n",
        "else:\n",
        "    print(\"→ 작은 효과크기 (미미한 개선 수준)\")"
      ],
      "metadata": {
        "colab": {
          "base_uri": "https://localhost:8080/"
        },
        "id": "iwA_rtGRMWFe",
        "outputId": "3906a78f-2352-4738-e497-f3eac2e2745d"
      },
      "execution_count": 10,
      "outputs": [
        {
          "output_type": "stream",
          "name": "stdout",
          "text": [
            "Cohen's d: 0.527\n",
            "→ 중간 효과크기 (교육적으로 의미있는 수준)\n"
          ]
        }
      ]
    },
    {
      "cell_type": "markdown",
      "source": [
        "이는 SmartLearn이 대조군 대비 체감 가능한 수준의 학습 성과 개선을 보여주고 있음을 시사합니다."
      ],
      "metadata": {
        "id": "-WeN1E-qNpL4"
      }
    },
    {
      "cell_type": "markdown",
      "source": [
        "# **4. 결과 시각화**\n",
        "\n",
        "**비즈니스 맥락**: 다음 주 교육부 프레젠테이션에서 공무원들과 정책 담당자들에게 SmartLearn의 효과를 한눈에 보여줄 수 있는 명확한 그래프가 필요합니다.\n",
        "\n",
        "**분석 목적**: 두 그룹의 평균 점수와 95% 신뢰구간을 시각화하여 SmartLearn의 효과를 직관적으로 전달합니다.\n",
        "\n",
        "**학습 이해도 점검**: 아래 코드에서 막대그래프를 생성하는 부분을 채워주세요."
      ],
      "metadata": {
        "id": "TMu-ph-FNq-F"
      }
    },
    {
      "cell_type": "code",
      "source": [
        "plt.figure(figsize=(8, 6))\n",
        "groups = ['Control', 'SmartLearn']\n",
        "means = [control_mean, smartlearn_mean]\n",
        "errors = [1.96 * control_se, 1.96 * smartlearn_se]  # 95% 신뢰구간\n",
        "\n",
        "plt.bar(groups, means, yerr=errors, capsize=5)  # 신뢰구간 포함\n",
        "plt.ylabel('수학 점수')\n",
        "plt.title('SmartLearn vs 대조군 수학 점수 비교 (95% 신뢰구간)')\n",
        "plt.ylim(0, 100)\n",
        "plt.show()"
      ],
      "metadata": {
        "colab": {
          "base_uri": "https://localhost:8080/",
          "height": 1000
        },
        "id": "XucBB9w_Nlok",
        "outputId": "127a8453-0098-4654-d51c-5be12ab8dee6"
      },
      "execution_count": 11,
      "outputs": [
        {
          "output_type": "stream",
          "name": "stderr",
          "text": [
            "WARNING:matplotlib.font_manager:findfont: Font family 'NanumBarunGothic' not found.\n",
            "WARNING:matplotlib.font_manager:findfont: Font family 'NanumBarunGothic' not found.\n",
            "WARNING:matplotlib.font_manager:findfont: Font family 'NanumBarunGothic' not found.\n",
            "WARNING:matplotlib.font_manager:findfont: Font family 'NanumBarunGothic' not found.\n",
            "WARNING:matplotlib.font_manager:findfont: Font family 'NanumBarunGothic' not found.\n",
            "WARNING:matplotlib.font_manager:findfont: Font family 'NanumBarunGothic' not found.\n",
            "WARNING:matplotlib.font_manager:findfont: Font family 'NanumBarunGothic' not found.\n",
            "WARNING:matplotlib.font_manager:findfont: Font family 'NanumBarunGothic' not found.\n",
            "WARNING:matplotlib.font_manager:findfont: Font family 'NanumBarunGothic' not found.\n",
            "WARNING:matplotlib.font_manager:findfont: Font family 'NanumBarunGothic' not found.\n",
            "WARNING:matplotlib.font_manager:findfont: Font family 'NanumBarunGothic' not found.\n",
            "WARNING:matplotlib.font_manager:findfont: Font family 'NanumBarunGothic' not found.\n",
            "WARNING:matplotlib.font_manager:findfont: Font family 'NanumBarunGothic' not found.\n",
            "WARNING:matplotlib.font_manager:findfont: Font family 'NanumBarunGothic' not found.\n",
            "WARNING:matplotlib.font_manager:findfont: Font family 'NanumBarunGothic' not found.\n",
            "WARNING:matplotlib.font_manager:findfont: Font family 'NanumBarunGothic' not found.\n",
            "WARNING:matplotlib.font_manager:findfont: Font family 'NanumBarunGothic' not found.\n",
            "WARNING:matplotlib.font_manager:findfont: Font family 'NanumBarunGothic' not found.\n",
            "WARNING:matplotlib.font_manager:findfont: Font family 'NanumBarunGothic' not found.\n",
            "WARNING:matplotlib.font_manager:findfont: Font family 'NanumBarunGothic' not found.\n",
            "WARNING:matplotlib.font_manager:findfont: Font family 'NanumBarunGothic' not found.\n",
            "WARNING:matplotlib.font_manager:findfont: Font family 'NanumBarunGothic' not found.\n",
            "WARNING:matplotlib.font_manager:findfont: Font family 'NanumBarunGothic' not found.\n",
            "WARNING:matplotlib.font_manager:findfont: Font family 'NanumBarunGothic' not found.\n",
            "WARNING:matplotlib.font_manager:findfont: Font family 'NanumBarunGothic' not found.\n",
            "WARNING:matplotlib.font_manager:findfont: Font family 'NanumBarunGothic' not found.\n",
            "WARNING:matplotlib.font_manager:findfont: Font family 'NanumBarunGothic' not found.\n",
            "WARNING:matplotlib.font_manager:findfont: Font family 'NanumBarunGothic' not found.\n",
            "WARNING:matplotlib.font_manager:findfont: Font family 'NanumBarunGothic' not found.\n",
            "WARNING:matplotlib.font_manager:findfont: Font family 'NanumBarunGothic' not found.\n",
            "WARNING:matplotlib.font_manager:findfont: Font family 'NanumBarunGothic' not found.\n",
            "WARNING:matplotlib.font_manager:findfont: Font family 'NanumBarunGothic' not found.\n",
            "WARNING:matplotlib.font_manager:findfont: Font family 'NanumBarunGothic' not found.\n",
            "WARNING:matplotlib.font_manager:findfont: Font family 'NanumBarunGothic' not found.\n"
          ]
        },
        {
          "output_type": "display_data",
          "data": {
            "text/plain": [
              "<Figure size 800x600 with 1 Axes>"
            ],
            "image/png": "[encoded data removed]"
          },
          "metadata": {}
        }
      ]
    },
    {
      "cell_type": "markdown",
      "source": [
        "이 그래프는 SmartLearn이 평균적으로 대조군보다 높은 점수를 기록했음을 한눈에 보여줍니다."
      ],
      "metadata": {
        "id": "Ux45xVDIOJ_c"
      }
    },
    {
      "cell_type": "markdown",
      "source": [
        "# **5. p-해킹 방지 방안**\n",
        "\n",
        "**비즈니스 맥락**: 투자자 중 한 명이 생명과학 박사 출신으로, \"요즘 연구 재현성 문제가 심각한데, 여러분 분석은 p-해킹 없이 투명하게 진행되었나요?\"라고 까다로운 질문을 할 예정입니다.\n",
        "\n",
        "**분석 목적**: 과학적 엄밀성을 보장하고 결과의 신뢰성을 높이기 위한 방법론을 제시합니다.\n",
        "\n",
        "**학습 이해도 점검**: 아래 텍스트에서 세 번째 방안을 작성하세요."
      ],
      "metadata": {
        "id": "xS8_Zy1BONM4"
      }
    },
    {
      "cell_type": "markdown",
      "source": [
        "📋 p-해킹 방지 방안\n",
        "1. 사전 등록: 연구 계획을 Open Science Framework(OSF)에 등록하여 분석 계획을 투명하게 공개.\n",
        "2. 다중비교 보정: Bonferroni 또는 FDR 방법을 적용하여 다중 검정으로 인한 오류를 최소화.\n",
        "3. p-해킹을 방지하기 위한 추가 방안을 제안하세요 (예: 효과 크기 사전 설정, 독립적 검증 등)"
      ],
      "metadata": {
        "id": "w3H-wrhoOgCO"
      }
    },
    {
      "cell_type": "markdown",
      "source": [
        "***효과 크기 및 검증 계획 사전 설정: 분석 전에 기대되는 효과 크기(예: Cohen’s d 0.5 이상)를 명시하고, 독립된 검증 데이터셋 또는 외부 기관의 재분석을 통해 결과를 교차 검증함으로써 연구의 신뢰성을 높임.***"
      ],
      "metadata": {
        "id": "CfaZFsCMO281"
      }
    },
    {
      "cell_type": "markdown",
      "source": [
        "# **6. 베이즈 인수 계산**\n",
        "\n",
        "**비즈니스 맥락**: 데이터 과학 자문위원이 \"p-value만으로는 부족해요. 베이즈 관점에서 SmartLearn 효과에 대한 증거가 얼마나 강력한지 알고 싶습니다\"라고 요청했습니다.\n",
        "\n",
        "**분석 목적**: p-value의 한계를 보완하고 SmartLearn 효과에 대한 증거의 강도를 베이즈 프레임워크로 평가합니다.\n",
        "\n",
        "**학습 이해도 점검**: 아래 코드에서 베이즈 인수를 근사적으로 계산하는 부분을 채워주세요."
      ],
      "metadata": {
        "id": "IHn1KLVqOsuk"
      }
    },
    {
      "cell_type": "code",
      "source": [
        "# 베이즈 인수 계산 (BIC 기반 근사)\n",
        "# 대립가설(H1): SmartLearn 효과 있음 vs 귀무가설(H0): 효과 없음\n",
        "n_total = 2 * n_students\n",
        "bic_diff = t_stat**2 - np.log(n_total)\n",
        "bf_10 = np.exp(bic_diff / 2)  # 베이즈 인수 근사 계산\n",
        "\n",
        "print(f\"베이즈 인수 (BF₁₀): {bf_10:.2f}\")\n",
        "if bf_10 > 10:\n",
        "    print(\"→ 강한 증거 (H1 지지: SmartLearn 효과가 매우 확실)\")\n",
        "elif bf_10 > 3:\n",
        "    print(\"→ 중간 증거 (H1 지지: SmartLearn 효과가 있을 가능성 높음)\")\n",
        "elif bf_10 > 1:\n",
        "    print(\"→ 약한 증거 (H1 약간 지지)\")\n",
        "elif bf_10 > 0.33:\n",
        "    print(\"→ 불분명한 증거 (결론 내리기 어려움)\")\n",
        "elif bf_10 > 0.1:\n",
        "    print(\"→ 중간 증거 (H0 지지: SmartLearn 효과 의심스러움)\")\n",
        "else:\n",
        "    print(\"→ 강한 증거 (H0 지지: SmartLearn 효과 없음)\")"
      ],
      "metadata": {
        "colab": {
          "base_uri": "https://localhost:8080/"
        },
        "id": "1R7VY1bLN9eK",
        "outputId": "ba1ee66e-c738-4be7-87a5-4745099bdab2"
      },
      "execution_count": 15,
      "outputs": [
        {
          "output_type": "stream",
          "name": "stdout",
          "text": [
            "베이즈 인수 (BF₁₀): 1934.97\n",
            "→ 강한 증거 (H1 지지: SmartLearn 효과가 매우 확실)\n"
          ]
        }
      ]
    },
    {
      "cell_type": "markdown",
      "source": [
        "이는 **H₁(스마트런 효과 있음)**을 지지하는 매우 강한 증거로 해석됩니다. (일반적으로 BF > 10이면 강력한 증거로 봄)"
      ],
      "metadata": {
        "id": "oFDLGDDOQXZX"
      }
    },
    {
      "cell_type": "markdown",
      "source": [
        "# **7. 경영진 보고서 작성**\n",
        "\n",
        "**비즈니스 맥락**: 내일 오전 9시 긴급 경영진 미팅에서 CEO, CTO, 마케팅 이사, 투자 담당자들에게 SmartLearn의 상용화 여부와 향후 투자 방향을 결정할 핵심 데이터를 제시해야 합니다.\n",
        "\n",
        "**학습 이해도 점검**: 아래 텍스트를 작성하여 보고서를 완성하세요."
      ],
      "metadata": {
        "id": "oOpNKDfgQdTq"
      }
    },
    {
      "cell_type": "markdown",
      "source": [
        "📋 경영진 보고서: SmartLearn 프로그램 효과 검증\n",
        "==================================================\n",
        "🎯 핵심 결과\n",
        "• 대조군 수학 점수: [분석 결과로 채워주세요]\n",
        "• SmartLearn 수학 점수: [분석 결과로 채워주세요]\n",
        "• 점수 향상: [차이] 점 (약 [%] 향상)\n",
        "• 효과크기 (Cohen's d): [분석 결과로 채워주세요]\n",
        "• p-value: [분석 결과로 채워주세요]\n",
        "• 베이즈 인수: [분석 결과로 채워주세요]\n",
        "\n",
        "💡 비즈니스 결론 및 권장사항:\n",
        "[결과를 바탕으로 상용화 결정, 마케팅 전략, 투자 방향, 교육부 대응 방안을 구체적으로 작성하세요]\n",
        "\n",
        "⚠️ 리스크 및 제한사항:\n",
        "[추가 검증이 필요한 부분, 잠재적 위험 요소를 작성하세요]"
      ],
      "metadata": {
        "id": "vpAvc60hROTZ"
      }
    },
    {
      "cell_type": "markdown",
      "source": [
        "# **■ 핵심 결과**\n",
        "- 대조군 수학 점수: 64.93 ± 0.79\n",
        "\n",
        "- SmartLearn 수학 점수: 70.47 ± 0.92\n",
        "\n",
        "- 점수 향상: 약 5.54점 상승 (약 8.5% 향상)\n",
        "\n",
        "- 효과크기 (Cohen's d): 0.53 (중간 효과크기 – 교육적으로 의미있는 수준)\n",
        "\n",
        "- p-value: 0.0000074 (유의수준 0.05보다 훨씬 낮아 통계적으로 매우 유의미)\n",
        "\n",
        "- 베이즈 인수 (BF₁₀): 1934.97 (SmartLearn 효과를 강력히 지지)\n",
        "\n",
        "# **■ 비즈니스 결론 및 권장사항**\n",
        "***1. 상용화 전략***\n",
        "\n",
        "- SmartLearn은 대조군 대비 평균 5.5점(약 8.5%) 향상이라는 유의미한 성과를 보였습니다. 이는 **중간 이상 효과크기(Cohen's d=0.53)**로, 학부모와 교육 관계자들에게 **\"실질적으로 체감 가능한 성적 개선\"**으로 설명할 수 있습니다.\n",
        "\n",
        "- **상용화 일정:** 3개월 내 전국 주요 학군(서울, 수도권, 광역시) 대상으로 **단계적 상용화(파일럿 → 확산)**를 실행하고, 연내 5만 명 이상의 유저 확보를 목표로 합니다.\n",
        "\n",
        "***2. 마케팅·브랜딩 전략***\n",
        "\n",
        "- **데이터 기반 스토리텔링:** “SmartLearn 사용 시 평균 8% 성적 상승”이라는 강력한 데이터 포인트를 TV, 온라인 광고, 학부모 설명회에서 핵심 메시지로 강조합니다.\n",
        "\n",
        "- **성공 사례 홍보:** 시범 운영 학교 중 상위 10% 성적 상승 사례를 구체적으로 인터뷰·스토리화하여 케이스 스터디형 홍보 콘텐츠 제작.\n",
        "\n",
        "- **신뢰도 제고:** 공인 시험기관(예: 교육평가원)과 공동 연구 협약을 추진하여 교육부 인증 프로그램으로 포지셔닝.\n",
        "\n",
        "***3. 투자 및 사업 확장 전략***\n",
        "\n",
        "- **투자 포인트:** p-value=0.0000074, 베이즈 인수=1934.97 등 통계적으로 ‘압도적’인 성과 지표를 활용해 투자자들에게 리스크가 낮은 고성장 EdTech 스타트업이라는 이미지를 부각합니다.\n",
        "\n",
        "- **글로벌 확장 계획:** 내년 하반기 일본·동남아 진출을 위해 영문 버전 SmartLearn 개발 및 해외 파트너십을 선제적으로 추진합니다.\n",
        "\n",
        "- **AI 기능 고도화:** 맞춤형 학습 추천 알고리즘의 고도화를 위해 AI R&D 예산 비중을 15% → 25%로 상향 조정 제안.\n",
        "\n",
        "***4. 교육부 대응 전략***\n",
        "\n",
        "- **정책 제안서:** 교육부 보고서에 본 연구의 p-해킹 방지 전략, 효과 크기, 신뢰구간 시각화를 포함한 과학적 검증 과정을 강조하여 투명성과 객관성 확보.\n",
        "\n",
        "- **공교육 연계:** SmartLearn을 **‘공교육 보조 학습 플랫폼’**으로 포지셔닝, 교육청과 협력한 중학교 파일럿 프로그램을 제안하여 시장 점유율 선점.\n",
        "\n",
        "# **■ 리스크 및 제한사항**\n",
        "- **추가 검증이 필요한 부분**\n",
        "  - **일반화 가능성 확보:** 현재 분석은 서울·부산·대구 10개 중학교, 300명의 학생만을 대상으로 한 제한적 연구입니다. 다양한 지역, 학년, 학업 수준의 학생을 포함한 대규모 확장 실험을 통해 결과의 신뢰성과 일반화를 확보해야 합니다.\n",
        "\n",
        "  - **장기적 효과 검증:** SmartLearn의 성적 향상 효과가 단기적 성과(6개월)에 국한되는지 여부를 확인하기 위해 1년 이상의 장기 추적 연구와 성취도 지속성 분석이 필요합니다.\n",
        "\n",
        "  - **비용 대비 효과(ROI) 분석:** SmartLearn 도입·운영 비용이 성적 향상 및 학습 효율 개선과 비용 대비 실질적으로 높은 ROI를 창출하는지 검증이 필요합니다.\n",
        "\n",
        "- **잠재적 위험 요소**\n",
        "  - **외부 요인 개입:** 학교별 수업 방식, 교사 역량, 학부모의 사교육 참여 정도 등 통제되지 않은 요인이 SmartLearn 효과에 영향을 미쳤을 가능성이 존재합니다.\n",
        "\n",
        "  - **표본 편향 및 극단값 영향**: 각 그룹별 표본(150명)이 상대적으로 작아 **극단값(Outlier)**이나 특정 학생군의 특성이 결과를 왜곡할 가능성이 있습니다.\n",
        "\n",
        "  - **재현성 부족:** 단일 실험군·대조군 설계로는 다른 지역이나 환경에서 동일한 성과를 보장하기 어렵습니다. 반복 실험 및 외부 검증 연구가 필수적입니다.\n"
      ],
      "metadata": {
        "id": "IfK6I-OrRw18"
      }
    },
    {
      "cell_type": "markdown",
      "source": [
        "# **미션 2: 마케팅 캠페인 효과 분석 보고서**"
      ],
      "metadata": {
        "id": "JvrX9VqxUhE9"
      }
    },
    {
      "cell_type": "code",
      "source": [
        "np.random.seed(456)\n",
        "n_customers = 1000\n",
        "ad_exposure = np.random.binomial(1, 0.6, n_customers)\n",
        "ages = np.random.randint(20, 60, n_customers)\n",
        "income = np.random.lognormal(np.log(50000), 0.4, n_customers)\n",
        "purchase_amount = 100 + 50*ad_exposure + 0.5*ages + 0.0001*income + np.random.normal(0, 20, n_customers)\n",
        "data_marketing = pd.DataFrame({\n",
        "    'ad_exposure': ad_exposure,\n",
        "    'age': ages,\n",
        "    'income': income,\n",
        "    'purchase_amount': purchase_amount\n",
        "})\n",
        "\n",
        "print(\"📢 마케팅 데이터 미리보기\")\n",
        "print(data_marketing.groupby('ad_exposure')['purchase_amount'].agg(['count', 'mean', 'std']).round(2))"
      ],
      "metadata": {
        "colab": {
          "base_uri": "https://localhost:8080/"
        },
        "id": "7Bjb5ad7PpiQ",
        "outputId": "827dc928-8eb5-4b60-f783-44509994a90b"
      },
      "execution_count": 16,
      "outputs": [
        {
          "output_type": "stream",
          "name": "stdout",
          "text": [
            "📢 마케팅 데이터 미리보기\n",
            "             count    mean    std\n",
            "ad_exposure                      \n",
            "0              386  124.60  22.35\n",
            "1              614  175.32  21.69\n"
          ]
        }
      ]
    },
    {
      "cell_type": "markdown",
      "source": [
        "- 광고 비노출 그룹 평균 구매액: 약 124.6\n",
        "\n",
        "- 광고 노출 그룹 평균 구매액: 약 175.3\n",
        "\n",
        "- 평균 차이: 약 50.7\n",
        "\n",
        "광고 노출 고객의 평균 구매액이 약 40% 이상 더 높은 것을 확인할 수 있습니다."
      ],
      "metadata": {
        "id": "_HIVMpPQU6yL"
      }
    },
    {
      "cell_type": "markdown",
      "source": [
        "# **📊 분석 및 보고서 작성**"
      ],
      "metadata": {
        "id": "LQm-ren0VQbz"
      }
    },
    {
      "cell_type": "markdown",
      "source": [
        "# **1. 상관관계 탐색**\n",
        "\n",
        "**비즈니스 맥락**: 마케팅팀 김팀장이 \"광고를 본 고객들이 정말 더 많이 구매했나요? 그리고 연령이나 소득도 구매에 영향을 주나요?\"라고 질문했습니다. 전체적인 데이터 패턴을 파악해야 합니다.\n",
        "\n",
        "**분석 목적**: 구매 금액과 광고 노출, 고객 특성 간의 상관관계를 탐색하여 마케팅 전략 수립의 기초 자료를 확보합니다.\n",
        "\n",
        "**학습 이해도 점검**: 아래 코드에서 상관계수 행렬을 계산하는 부분을 채워주세요."
      ],
      "metadata": {
        "id": "KOxhKNj5VUNW"
      }
    },
    {
      "cell_type": "code",
      "source": [
        "# 상관계수 행렬 계산\n",
        "correlation_matrix = data_marketing.corr()\n",
        "\n",
        "print(\"📊 상관계수 매트릭스\")\n",
        "print(correlation_matrix.round(3))\n",
        "\n",
        "# 히트맵으로 시각화\n",
        "plt.figure(figsize=(8, 6))\n",
        "sns.heatmap(correlation_matrix, annot=True, cmap='coolwarm', center=0)\n",
        "plt.title('고객 특성 및 광고 노출과 구매 금액 간 상관관계')\n",
        "plt.show()"
      ],
      "metadata": {
        "colab": {
          "base_uri": "https://localhost:8080/",
          "height": 1000
        },
        "id": "D8N0GTr1Uooq",
        "outputId": "0ec90d1d-ac76-4162-af03-2249cdef9960"
      },
      "execution_count": 17,
      "outputs": [
        {
          "output_type": "stream",
          "name": "stderr",
          "text": [
            "WARNING:matplotlib.font_manager:findfont: Font family 'NanumBarunGothic' not found.\n",
            "WARNING:matplotlib.font_manager:findfont: Font family 'NanumBarunGothic' not found.\n",
            "WARNING:matplotlib.font_manager:findfont: Font family 'NanumBarunGothic' not found.\n",
            "WARNING:matplotlib.font_manager:findfont: Font family 'NanumBarunGothic' not found.\n",
            "WARNING:matplotlib.font_manager:findfont: Font family 'NanumBarunGothic' not found.\n",
            "WARNING:matplotlib.font_manager:findfont: Font family 'NanumBarunGothic' not found.\n",
            "WARNING:matplotlib.font_manager:findfont: Font family 'NanumBarunGothic' not found.\n",
            "WARNING:matplotlib.font_manager:findfont: Font family 'NanumBarunGothic' not found.\n",
            "WARNING:matplotlib.font_manager:findfont: Font family 'NanumBarunGothic' not found.\n",
            "WARNING:matplotlib.font_manager:findfont: Font family 'NanumBarunGothic' not found.\n",
            "WARNING:matplotlib.font_manager:findfont: Font family 'NanumBarunGothic' not found.\n",
            "WARNING:matplotlib.font_manager:findfont: Font family 'NanumBarunGothic' not found.\n",
            "WARNING:matplotlib.font_manager:findfont: Font family 'NanumBarunGothic' not found.\n",
            "WARNING:matplotlib.font_manager:findfont: Font family 'NanumBarunGothic' not found.\n",
            "WARNING:matplotlib.font_manager:findfont: Font family 'NanumBarunGothic' not found.\n",
            "WARNING:matplotlib.font_manager:findfont: Font family 'NanumBarunGothic' not found.\n",
            "WARNING:matplotlib.font_manager:findfont: Font family 'NanumBarunGothic' not found.\n",
            "WARNING:matplotlib.font_manager:findfont: Font family 'NanumBarunGothic' not found.\n",
            "WARNING:matplotlib.font_manager:findfont: Font family 'NanumBarunGothic' not found.\n",
            "WARNING:matplotlib.font_manager:findfont: Font family 'NanumBarunGothic' not found.\n",
            "WARNING:matplotlib.font_manager:findfont: Font family 'NanumBarunGothic' not found.\n",
            "WARNING:matplotlib.font_manager:findfont: Font family 'NanumBarunGothic' not found.\n",
            "WARNING:matplotlib.font_manager:findfont: Font family 'NanumBarunGothic' not found.\n",
            "WARNING:matplotlib.font_manager:findfont: Font family 'NanumBarunGothic' not found.\n",
            "WARNING:matplotlib.font_manager:findfont: Font family 'NanumBarunGothic' not found.\n",
            "WARNING:matplotlib.font_manager:findfont: Font family 'NanumBarunGothic' not found.\n",
            "WARNING:matplotlib.font_manager:findfont: Font family 'NanumBarunGothic' not found.\n",
            "WARNING:matplotlib.font_manager:findfont: Font family 'NanumBarunGothic' not found.\n",
            "WARNING:matplotlib.font_manager:findfont: Font family 'NanumBarunGothic' not found.\n",
            "WARNING:matplotlib.font_manager:findfont: Font family 'NanumBarunGothic' not found.\n",
            "WARNING:matplotlib.font_manager:findfont: Font family 'NanumBarunGothic' not found.\n",
            "WARNING:matplotlib.font_manager:findfont: Font family 'NanumBarunGothic' not found.\n",
            "WARNING:matplotlib.font_manager:findfont: Font family 'NanumBarunGothic' not found.\n"
          ]
        },
        {
          "output_type": "stream",
          "name": "stdout",
          "text": [
            "📊 상관계수 매트릭스\n",
            "                 ad_exposure    age  income  purchase_amount\n",
            "ad_exposure            1.000  0.018  -0.050            0.748\n",
            "age                    0.018  1.000  -0.034            0.203\n",
            "income                -0.050 -0.034   1.000            0.046\n",
            "purchase_amount        0.748  0.203   0.046            1.000\n"
          ]
        },
        {
          "output_type": "stream",
          "name": "stderr",
          "text": [
            "WARNING:matplotlib.font_manager:findfont: Font family 'NanumBarunGothic' not found.\n",
            "WARNING:matplotlib.font_manager:findfont: Font family 'NanumBarunGothic' not found.\n",
            "WARNING:matplotlib.font_manager:findfont: Font family 'NanumBarunGothic' not found.\n",
            "WARNING:matplotlib.font_manager:findfont: Font family 'NanumBarunGothic' not found.\n",
            "WARNING:matplotlib.font_manager:findfont: Font family 'NanumBarunGothic' not found.\n",
            "WARNING:matplotlib.font_manager:findfont: Font family 'NanumBarunGothic' not found.\n",
            "WARNING:matplotlib.font_manager:findfont: Font family 'NanumBarunGothic' not found.\n",
            "WARNING:matplotlib.font_manager:findfont: Font family 'NanumBarunGothic' not found.\n",
            "WARNING:matplotlib.font_manager:findfont: Font family 'NanumBarunGothic' not found.\n",
            "WARNING:matplotlib.font_manager:findfont: Font family 'NanumBarunGothic' not found.\n",
            "WARNING:matplotlib.font_manager:findfont: Font family 'NanumBarunGothic' not found.\n",
            "WARNING:matplotlib.font_manager:findfont: Font family 'NanumBarunGothic' not found.\n",
            "WARNING:matplotlib.font_manager:findfont: Font family 'NanumBarunGothic' not found.\n",
            "WARNING:matplotlib.font_manager:findfont: Font family 'NanumBarunGothic' not found.\n",
            "WARNING:matplotlib.font_manager:findfont: Font family 'NanumBarunGothic' not found.\n",
            "WARNING:matplotlib.font_manager:findfont: Font family 'NanumBarunGothic' not found.\n",
            "WARNING:matplotlib.font_manager:findfont: Font family 'NanumBarunGothic' not found.\n",
            "WARNING:matplotlib.font_manager:findfont: Font family 'NanumBarunGothic' not found.\n",
            "WARNING:matplotlib.font_manager:findfont: Font family 'NanumBarunGothic' not found.\n",
            "WARNING:matplotlib.font_manager:findfont: Font family 'NanumBarunGothic' not found.\n",
            "WARNING:matplotlib.font_manager:findfont: Font family 'NanumBarunGothic' not found.\n",
            "WARNING:matplotlib.font_manager:findfont: Font family 'NanumBarunGothic' not found.\n",
            "WARNING:matplotlib.font_manager:findfont: Font family 'NanumBarunGothic' not found.\n",
            "WARNING:matplotlib.font_manager:findfont: Font family 'NanumBarunGothic' not found.\n",
            "WARNING:matplotlib.font_manager:findfont: Font family 'NanumBarunGothic' not found.\n",
            "WARNING:matplotlib.font_manager:findfont: Font family 'NanumBarunGothic' not found.\n",
            "WARNING:matplotlib.font_manager:findfont: Font family 'NanumBarunGothic' not found.\n",
            "WARNING:matplotlib.font_manager:findfont: Font family 'NanumBarunGothic' not found.\n",
            "WARNING:matplotlib.font_manager:findfont: Font family 'NanumBarunGothic' not found.\n",
            "WARNING:matplotlib.font_manager:findfont: Font family 'NanumBarunGothic' not found.\n",
            "WARNING:matplotlib.font_manager:findfont: Font family 'NanumBarunGothic' not found.\n",
            "WARNING:matplotlib.font_manager:findfont: Font family 'NanumBarunGothic' not found.\n",
            "WARNING:matplotlib.font_manager:findfont: Font family 'NanumBarunGothic' not found.\n",
            "WARNING:matplotlib.font_manager:findfont: Font family 'NanumBarunGothic' not found.\n",
            "WARNING:matplotlib.font_manager:findfont: Font family 'NanumBarunGothic' not found.\n",
            "WARNING:matplotlib.font_manager:findfont: Font family 'NanumBarunGothic' not found.\n",
            "WARNING:matplotlib.font_manager:findfont: Font family 'NanumBarunGothic' not found.\n",
            "WARNING:matplotlib.font_manager:findfont: Font family 'NanumBarunGothic' not found.\n",
            "WARNING:matplotlib.font_manager:findfont: Font family 'NanumBarunGothic' not found.\n",
            "WARNING:matplotlib.font_manager:findfont: Font family 'NanumBarunGothic' not found.\n",
            "WARNING:matplotlib.font_manager:findfont: Font family 'NanumBarunGothic' not found.\n",
            "WARNING:matplotlib.font_manager:findfont: Font family 'NanumBarunGothic' not found.\n",
            "WARNING:matplotlib.font_manager:findfont: Font family 'NanumBarunGothic' not found.\n",
            "WARNING:matplotlib.font_manager:findfont: Font family 'NanumBarunGothic' not found.\n",
            "WARNING:matplotlib.font_manager:findfont: Font family 'NanumBarunGothic' not found.\n",
            "WARNING:matplotlib.font_manager:findfont: Font family 'NanumBarunGothic' not found.\n",
            "WARNING:matplotlib.font_manager:findfont: Font family 'NanumBarunGothic' not found.\n",
            "WARNING:matplotlib.font_manager:findfont: Font family 'NanumBarunGothic' not found.\n",
            "WARNING:matplotlib.font_manager:findfont: Font family 'NanumBarunGothic' not found.\n",
            "WARNING:matplotlib.font_manager:findfont: Font family 'NanumBarunGothic' not found.\n"
          ]
        },
        {
          "output_type": "display_data",
          "data": {
            "text/plain": [
              "<Figure size 800x600 with 2 Axes>"
            ],
            "image/png": "[encoded data removed]"
          },
          "metadata": {}
        }
      ]
    },
    {
      "cell_type": "markdown",
      "source": [
        "***상관계수 분석 결과:***\n",
        "\n",
        "1. ad_exposure        0.748 (광고 노출과 구매액 간 강한 양의 상관관계)\n",
        "\n",
        "2. age                0.203 (연령이 높을수록 약간 구매액 증가)\n",
        "\n",
        "3. income             0.046 (소득과 구매액 간 상관은 미약)\n",
        "\n",
        "- **광고 노출(ad_exposure)**이 구매액과 가장 강하게 상관되어 있어 캠페인의 영향이 뚜렷합니다.\n",
        "\n",
        "- **연령(age)**은 중간 정도의 상관성을 보여, 연령대별 맞춤 마케팅이 효과적일 수 있습니다.\n",
        "\n",
        "- **소득(income)**은 구매액과 약한 상관을 보이므로 직접적인 영향은 제한적입니다.\n",
        "\n"
      ],
      "metadata": {
        "id": "wNeVTgNlWNNv"
      }
    },
    {
      "cell_type": "markdown",
      "source": [
        "# **2. 단순 비교와 한계**\n",
        "\n",
        "**비즈니스 맥락**: CFO가 \"광고 본 사람들이 평균적으로 얼마나 더 구매했는지 간단하게 먼저 보여주세요. 하지만 정확한 효과는 따로 분석해주세요\"라고 요청했습니다.\n",
        "\n",
        "**분석 목적**: 광고 노출 그룹과 비노출 그룹의 단순 비교를 통해 초기 인사이트를 얻되, 이 방법의 한계를 명확히 인식합니다.\n",
        "\n",
        "**학습 이해도 점검**: 아래 코드에서 평균 계산 부분을 채워주세요."
      ],
      "metadata": {
        "id": "4i-si_JiWsKO"
      }
    },
    {
      "cell_type": "code",
      "source": [
        "exposed_mean = data_marketing[data_marketing['ad_exposure'] == 1]['purchase_amount'].mean()\n",
        "non_exposed_mean = data_marketing[data_marketing['ad_exposure'] == 0]['purchase_amount'].mean()\n",
        "simple_difference = exposed_mean - non_exposed_mean\n",
        "\n",
        "print(f\"광고 노출 그룹 구매 금액: {exposed_mean:.2f}원\")\n",
        "print(f\"광고 비노출 그룹 구매 금액: {non_exposed_mean:.2f}원\")\n",
        "print(f\"단순 차이: {simple_difference:.2f}원\")\n",
        "print(\"⚠️ 주의사항: 연령, 소득 등의 중첩요인을 통제하지 않아 광고의 순수한 효과를 정확히 측정하기 어려움\")\n",
        "print(\"   → 예: 고소득층에게 광고가 더 많이 노출되었다면 차이가 과대평가될 수 있음\")"
      ],
      "metadata": {
        "colab": {
          "base_uri": "https://localhost:8080/"
        },
        "id": "v6FC5sFrWAmF",
        "outputId": "bdd0b09c-6bd0-406d-b6d1-2953c72af5b9"
      },
      "execution_count": 18,
      "outputs": [
        {
          "output_type": "stream",
          "name": "stdout",
          "text": [
            "광고 노출 그룹 구매 금액: 175.32원\n",
            "광고 비노출 그룹 구매 금액: 124.60원\n",
            "단순 차이: 50.72원\n",
            "⚠️ 주의사항: 연령, 소득 등의 중첩요인을 통제하지 않아 광고의 순수한 효과를 정확히 측정하기 어려움\n",
            "   → 예: 고소득층에게 광고가 더 많이 노출되었다면 차이가 과대평가될 수 있음\n"
          ]
        }
      ]
    },
    {
      "cell_type": "markdown",
      "source": [
        "# **3. 다중회귀분석**\n",
        "\n",
        "**비즈니스 맥락**: 데이터팀 이사가 \"연령과 소득의 영향을 제거하고 순수한 광고 효과만 측정해주세요. 다른 요인들을 통제한 상태에서 광고 1회 노출당 매출 증대 효과가 얼마인지 알고 싶습니다\"라고 요청했습니다.\n",
        "\n",
        "**분석 목적**: 중첩요인을 통제한 다중회귀분석을 통해 광고의 순수한 인과효과를 추정합니다.\n",
        "\n",
        "**학습 이해도 점검**: 아래 코드에서 회귀 모델을 학습시키는 부분을 채워주세요."
      ],
      "metadata": {
        "id": "AZJ0xT4aW4vM"
      }
    },
    {
      "cell_type": "code",
      "source": [
        "X = data_marketing[['ad_exposure', 'age', 'income']]\n",
        "y = data_marketing['purchase_amount']\n",
        "\n",
        "model = LinearRegression()\n",
        "# 모델 학습 코드 작성\n",
        "model.fit(X, y)\n",
        "\n",
        "coeffs = pd.DataFrame({\n",
        "    '변수': ['광고 노출', '연령', '소득'],\n",
        "    '계수': model.coef_,\n",
        "    '해석': ['광고 노출시 구매액 증가', '연령 1세 증가시 구매액 변화', '소득 1원 증가시 구매액 변화']\n",
        "})\n",
        "print(\"📊 회귀계수 분석 결과\")\n",
        "print(coeffs.round(3))\n",
        "\n",
        "ad_effect = coeffs.loc[coeffs['변수'] == '광고 노출', '계수'].values[0]\n",
        "print(f\"\\n🎯 핵심 결과: 광고 효과 = {ad_effect:.2f}원 (다른 조건이 동일할 때)\")"
      ],
      "metadata": {
        "colab": {
          "base_uri": "https://localhost:8080/"
        },
        "id": "m_ezxt_NW7Xo",
        "outputId": "81bdd168-42c0-467a-ca59-085a433f99ab"
      },
      "execution_count": 19,
      "outputs": [
        {
          "output_type": "stream",
          "name": "stdout",
          "text": [
            "📊 회귀계수 분석 결과\n",
            "      변수      계수                해석\n",
            "0  광고 노출  50.792     광고 노출시 구매액 증가\n",
            "1     연령   0.548  연령 1세 증가시 구매액 변화\n",
            "2     소득   0.000  소득 1원 증가시 구매액 변화\n",
            "\n",
            "🎯 핵심 결과: 광고 효과 = 50.79원 (다른 조건이 동일할 때)\n"
          ]
        }
      ]
    },
    {
      "cell_type": "markdown",
      "source": [
        "# **4. 모델 신뢰도 평가**\n",
        "\n",
        "**비즈니스 맥락**: 통계에 까다로운 전략기획팀에서 \"회귀 모델이 얼마나 믿을만한지 교차검증으로 확인해주세요. 과적합은 없나요?\"라고 질문했습니다.\n",
        "\n",
        "**분석 목적**: 5-폴드 교차검증을 통해 모델의 일반화 성능을 평가하고 결과의 신뢰성을 확보합니다.\n",
        "\n",
        "**학습 이해도 점검**: 아래 코드에서 교차검증을 수행하는 부분을 채워주세요."
      ],
      "metadata": {
        "id": "yr5ZqqGrW8Ka"
      }
    },
    {
      "cell_type": "code",
      "source": [
        "from sklearn.model_selection import cross_val_score\n",
        "\n",
        "cv_scores = cross_val_score(model, X, y, cv=5, scoring='r2')\n",
        "print(f\"5-폴드 교차검증 R²: {cv_scores.mean():.3f} ± {cv_scores.std():.3f}\")\n",
        "print(f\"모델 설명력: {cv_scores.mean()*100:.1f}% (구매 금액 변동의 약 {cv_scores.mean()*100:.0f}%를 설명)\")\n",
        "\n",
        "if cv_scores.mean() > 0.7:\n",
        "    print(\"→ 높은 예측 성능 (신뢰할 만한 모델)\")\n",
        "elif cv_scores.mean() > 0.5:\n",
        "    print(\"→ 중간 예측 성능 (참고용으로 활용 가능)\")\n",
        "else:\n",
        "    print(\"→ 낮은 예측 성능 (추가 변수 필요)\")"
      ],
      "metadata": {
        "colab": {
          "base_uri": "https://localhost:8080/"
        },
        "id": "KHyEq7_PXAsk",
        "outputId": "9565fe31-e0d1-487f-9b9d-1c9e95695d8d"
      },
      "execution_count": 20,
      "outputs": [
        {
          "output_type": "stream",
          "name": "stdout",
          "text": [
            "5-폴드 교차검증 R²: 0.597 ± 0.023\n",
            "모델 설명력: 59.7% (구매 금액 변동의 약 60%를 설명)\n",
            "→ 중간 예측 성능 (참고용으로 활용 가능)\n"
          ]
        }
      ]
    },
    {
      "cell_type": "markdown",
      "source": [
        "# **5. 인과관계 해석**\n",
        "\n",
        "**비즈니스 맥락**: CEO가 \"광고비 2억원이 실제로 매출에 기여했다고 확신할 수 있나요? 그리고 ROI는 얼마나 되나요?\"라고 직접적으로 질문했습니다.\n",
        "\n",
        "**분석 목적**: 회귀분석 결과를 비즈니스 맥락에서 해석하고, 인과관계 추론의 한계점을 명시합니다.\n",
        "\n",
        "**학습 이해도 점검**: 아래 코드에서 광고 효과를 추출하고 ROI를 계산하는 부분을 채워주세요."
      ],
      "metadata": {
        "id": "EAJ-Opf0XBN3"
      }
    },
    {
      "cell_type": "code",
      "source": [
        "ad_effect = coeffs.loc[coeffs['변수'] == '광고 노출', '계수'].values[0]\n",
        "total_ad_exposed = data_marketing['ad_exposure'].sum()\n",
        "total_revenue_increase = ad_effect * total_ad_exposed\n",
        "ad_cost = 200_000_000  # 광고비 2억원\n",
        "roi = (total_revenue_increase / ad_cost - 1) * 100\n",
        "\n",
        "print(\"📋 인과관계 해석 및 ROI 분석\")\n",
        "if ad_effect > 0:\n",
        "    print(f\"✅ 광고는 개인당 구매 금액을 평균 {ad_effect:.2f}원 증가시킵니다.\")\n",
        "    print(f\"   총 광고 노출: {total_ad_exposed:,}명\")\n",
        "    print(f\"   예상 총 매출 증대: {total_revenue_increase:,.0f}원\")\n",
        "    print(f\"   광고 ROI: {roi:.1f}%\")\n",
        "    if roi > 0:\n",
        "        print(\"   → 광고 투자 대비 양의 수익 창출\")\n",
        "    else:\n",
        "        print(\"   → 광고 투자 대비 손실\")\n",
        "else:\n",
        "    print(\"❌ 광고 효과가 없거나 부정적입니다.\")\n",
        "\n",
        "print(\"\\n⚠️ 주의사항:\")\n",
        "print(\"1. 관찰 데이터 분석이므로 미측정 중첩요인(브랜드 인지도, 계절성 등) 존재 가능\")\n",
        "print(\"2. 광고의 장기적 효과(브랜드 이미지 개선 등)는 측정되지 않음\")\n",
        "print(\"3. 무작위 통제 실험이 아니므로 인과관계 해석에 신중함 필요\")"
      ],
      "metadata": {
        "colab": {
          "base_uri": "https://localhost:8080/"
        },
        "id": "1rSAM31cXFmp",
        "outputId": "0bd8dd67-7559-4cbc-f5c6-fe3fe68bba02"
      },
      "execution_count": 21,
      "outputs": [
        {
          "output_type": "stream",
          "name": "stdout",
          "text": [
            "📋 인과관계 해석 및 ROI 분석\n",
            "✅ 광고는 개인당 구매 금액을 평균 50.79원 증가시킵니다.\n",
            "   총 광고 노출: 614명\n",
            "   예상 총 매출 증대: 31,186원\n",
            "   광고 ROI: -100.0%\n",
            "   → 광고 투자 대비 손실\n",
            "\n",
            "⚠️ 주의사항:\n",
            "1. 관찰 데이터 분석이므로 미측정 중첩요인(브랜드 인지도, 계절성 등) 존재 가능\n",
            "2. 광고의 장기적 효과(브랜드 이미지 개선 등)는 측정되지 않음\n",
            "3. 무작위 통제 실험이 아니므로 인과관계 해석에 신중함 필요\n"
          ]
        }
      ]
    },
    {
      "cell_type": "markdown",
      "source": [
        "# **6. 결과 시각화**\n",
        "\n",
        "**비즈니스 맥락**: 다음 주 이사회 프레젠테이션에서 광고 효과를 이사진들에게 한눈에 보여줄 수 있는 명확한 시각 자료가 필요합니다.\n",
        "\n",
        "**분석 목적**: 광고 노출 여부에 따른 구매 금액 분포의 차이를 박스플롯으로 시각화하여 효과를 직관적으로 전달합니다.\n",
        "\n",
        "**학습 이해도 점검**: 아래 코드에서 박스플롯을 생성하는 부분을 채워주세요."
      ],
      "metadata": {
        "id": "EwOudxY9XGS2"
      }
    },
    {
      "cell_type": "code",
      "source": [
        "plt.figure(figsize=(10, 6))\n",
        "sns.boxplot(x='ad_exposure', y='purchase_amount', data=data_marketing)\n",
        "plt.xticks([0, 1], ['광고 비노출', '광고 노출'])\n",
        "plt.ylabel('구매 금액 (원)')\n",
        "plt.title('Summer Sale 캠페인: 광고 노출 여부에 따른 구매 금액 분포')\n",
        "\n",
        "# 평균값 표시\n",
        "means = data_marketing.groupby('ad_exposure')['purchase_amount'].mean()\n",
        "for i, mean_val in enumerate(means):\n",
        "    plt.text(i, mean_val + 5, f'평균: {mean_val:.0f}원', ha='center', va='bottom', fontweight='bold')\n",
        "\n",
        "plt.show()"
      ],
      "metadata": {
        "colab": {
          "base_uri": "https://localhost:8080/",
          "height": 1000
        },
        "id": "B-LeiaT5XK-E",
        "outputId": "38dbb9a4-a817-4c90-d525-27f0e54479a9"
      },
      "execution_count": 22,
      "outputs": [
        {
          "output_type": "stream",
          "name": "stderr",
          "text": [
            "WARNING:matplotlib.font_manager:findfont: Font family 'NanumBarunGothic' not found.\n",
            "WARNING:matplotlib.font_manager:findfont: Font family 'NanumBarunGothic' not found.\n",
            "WARNING:matplotlib.font_manager:findfont: Font family 'NanumBarunGothic' not found.\n",
            "WARNING:matplotlib.font_manager:findfont: Font family 'NanumBarunGothic' not found.\n",
            "WARNING:matplotlib.font_manager:findfont: Font family 'NanumBarunGothic' not found.\n",
            "WARNING:matplotlib.font_manager:findfont: Font family 'NanumBarunGothic' not found.\n",
            "WARNING:matplotlib.font_manager:findfont: Font family 'NanumBarunGothic' not found.\n",
            "WARNING:matplotlib.font_manager:findfont: Font family 'NanumBarunGothic' not found.\n",
            "WARNING:matplotlib.font_manager:findfont: Font family 'NanumBarunGothic' not found.\n",
            "WARNING:matplotlib.font_manager:findfont: Font family 'NanumBarunGothic' not found.\n",
            "WARNING:matplotlib.font_manager:findfont: Font family 'NanumBarunGothic' not found.\n",
            "WARNING:matplotlib.font_manager:findfont: Font family 'NanumBarunGothic' not found.\n",
            "WARNING:matplotlib.font_manager:findfont: Font family 'NanumBarunGothic' not found.\n",
            "WARNING:matplotlib.font_manager:findfont: Font family 'NanumBarunGothic' not found.\n",
            "WARNING:matplotlib.font_manager:findfont: Font family 'NanumBarunGothic' not found.\n",
            "WARNING:matplotlib.font_manager:findfont: Font family 'NanumBarunGothic' not found.\n",
            "WARNING:matplotlib.font_manager:findfont: Font family 'NanumBarunGothic' not found.\n",
            "WARNING:matplotlib.font_manager:findfont: Font family 'NanumBarunGothic' not found.\n",
            "WARNING:matplotlib.font_manager:findfont: Font family 'NanumBarunGothic' not found.\n",
            "WARNING:matplotlib.font_manager:findfont: Font family 'NanumBarunGothic' not found.\n",
            "WARNING:matplotlib.font_manager:findfont: Font family 'NanumBarunGothic' not found.\n",
            "WARNING:matplotlib.font_manager:findfont: Font family 'NanumBarunGothic' not found.\n",
            "WARNING:matplotlib.font_manager:findfont: Font family 'NanumBarunGothic' not found.\n",
            "WARNING:matplotlib.font_manager:findfont: Font family 'NanumBarunGothic' not found.\n",
            "WARNING:matplotlib.font_manager:findfont: Font family 'NanumBarunGothic' not found.\n",
            "WARNING:matplotlib.font_manager:findfont: Font family 'NanumBarunGothic' not found.\n",
            "WARNING:matplotlib.font_manager:findfont: Font family 'NanumBarunGothic' not found.\n",
            "WARNING:matplotlib.font_manager:findfont: Font family 'NanumBarunGothic' not found.\n",
            "WARNING:matplotlib.font_manager:findfont: Font family 'NanumBarunGothic' not found.\n",
            "WARNING:matplotlib.font_manager:findfont: Font family 'NanumBarunGothic' not found.\n",
            "WARNING:matplotlib.font_manager:findfont: Font family 'NanumBarunGothic' not found.\n",
            "WARNING:matplotlib.font_manager:findfont: Font family 'NanumBarunGothic' not found.\n",
            "WARNING:matplotlib.font_manager:findfont: Font family 'NanumBarunGothic' not found.\n",
            "WARNING:matplotlib.font_manager:findfont: Font family 'NanumBarunGothic' not found.\n",
            "WARNING:matplotlib.font_manager:findfont: Font family 'NanumBarunGothic' not found.\n",
            "WARNING:matplotlib.font_manager:findfont: Font family 'NanumBarunGothic' not found.\n",
            "WARNING:matplotlib.font_manager:findfont: Font family 'NanumBarunGothic' not found.\n",
            "WARNING:matplotlib.font_manager:findfont: Font family 'NanumBarunGothic' not found.\n",
            "WARNING:matplotlib.font_manager:findfont: Font family 'NanumBarunGothic' not found.\n",
            "WARNING:matplotlib.font_manager:findfont: Font family 'NanumBarunGothic' not found.\n",
            "WARNING:matplotlib.font_manager:findfont: Font family 'NanumBarunGothic' not found.\n",
            "WARNING:matplotlib.font_manager:findfont: Font family 'NanumBarunGothic' not found.\n",
            "WARNING:matplotlib.font_manager:findfont: Font family 'NanumBarunGothic' not found.\n",
            "WARNING:matplotlib.font_manager:findfont: Font family 'NanumBarunGothic' not found.\n",
            "WARNING:matplotlib.font_manager:findfont: Font family 'NanumBarunGothic' not found.\n",
            "WARNING:matplotlib.font_manager:findfont: Font family 'NanumBarunGothic' not found.\n",
            "WARNING:matplotlib.font_manager:findfont: Font family 'NanumBarunGothic' not found.\n",
            "WARNING:matplotlib.font_manager:findfont: Font family 'NanumBarunGothic' not found.\n",
            "WARNING:matplotlib.font_manager:findfont: Font family 'NanumBarunGothic' not found.\n",
            "WARNING:matplotlib.font_manager:findfont: Font family 'NanumBarunGothic' not found.\n",
            "WARNING:matplotlib.font_manager:findfont: Font family 'NanumBarunGothic' not found.\n",
            "WARNING:matplotlib.font_manager:findfont: Font family 'NanumBarunGothic' not found.\n",
            "WARNING:matplotlib.font_manager:findfont: Font family 'NanumBarunGothic' not found.\n",
            "WARNING:matplotlib.font_manager:findfont: Font family 'NanumBarunGothic' not found.\n"
          ]
        },
        {
          "output_type": "display_data",
          "data": {
            "text/plain": [
              "<Figure size 1000x600 with 1 Axes>"
            ],
            "image/png": "[encoded data removed]"
          },
          "metadata": {}
        }
      ]
    },
    {
      "cell_type": "markdown",
      "source": [
        "# **7. 경영진 보고서 작성**\n",
        "\n",
        "**비즈니스 맥락**: 내일 오후 2시 긴급 경영진 회의에서 CMO, CFO, CEO에게 Summer Sale 캠페인의 성과와 향후 마케팅 전략 방향을 제시해야 합니다. 특히 9월 추석 캠페인 예산 승인 여부가 결정될 예정입니다.\n",
        "\n",
        "**학습 이해도 점검**: 아래 텍스트를 작성하여 보고서를 완성하세요."
      ],
      "metadata": {
        "id": "y56Z5j8aXOQi"
      }
    },
    {
      "cell_type": "markdown",
      "source": [
        "📋 경영진 보고서: Summer Mega Sale 캠페인 효과 분석\n",
        "==================================================\n",
        "🎯 핵심 성과 지표\n",
        "• 광고 노출 그룹 평균 구매 금액: [분석 결과로 채워주세요]\n",
        "• 광고 비노출 그룹 평균 구매 금액: [분석 결과로 채워주세요]\n",
        "• 순수 광고 효과 (통제 후): [분석 결과로 채워주세요]\n",
        "• 모델 설명력 (R²): [분석 결과로 채워주세요]\n",
        "• 광고 ROI: [분석 결과로 채워주세요]\n",
        "\n",
        "💡 전략적 권장사항:\n",
        "[결과를 바탕으로 9월 추석 캠페인 전략, 예산 배분, 타겟 고객층 선정 등을 구체적으로 작성하세요]\n",
        "\n",
        "⚠️ 리스크 요소:\n",
        "[관찰 데이터의 한계, 장기 효과 미측정 등의 제한사항을 작성하세요]\n",
        "\n",
        "📅 향후 액션 아이템:\n",
        "[A/B 테스트 도입, 추가 데이터 수집 등의 개선 방안을 작성하세요]"
      ],
      "metadata": {
        "id": "lzwh98YfXRVa"
      }
    },
    {
      "cell_type": "markdown",
      "source": [
        "# **■ 핵심 성과 지표**\n",
        "\n",
        "- 광고 노출 그룹 평균 구매 금액: 175.32원\n",
        "\n",
        "- 광고 비노출 그룹 평균 구매 금액: 124.60원\n",
        "\n",
        "- 순수 광고 효과 (통제 후): 개인당 50.79원 증가 (연령·소득 통제 후 추정)\n",
        "\n",
        "- 모델 설명력 (R²): 59.7% (5-폴드 교차검증 결과)\n",
        "\n",
        "- 광고 ROI: -99.98% (투자 대비 손실)\n",
        "\n",
        "\n",
        "# **■ 전략적 권장사항**\n",
        "\n",
        "***1. 9월 추석 캠페인 전략 고도화***\n",
        "\n",
        "- 핵심 타겟층 재설정:\n",
        "이번 분석 결과 40대 이상 고객층에서 평균 구매 금액이 상대적으로 높았으므로, 추석 선물 수요가 많은 40~50대 직장인 및 주부를 핵심 타겟으로 재설정합니다.\n",
        "추석 선물 세트, 프리미엄 패키지 상품을 중심으로 광고 소재를 기획하고, 가족·명절 관련 감성 메시지를 담은 맞춤형 크리에이티브를 제작합니다.\n",
        "\n",
        "- 크로스 채널 전략:\n",
        "유튜브 및 인스타그램은 명절 분위기 영상 콘텐츠로 감성 자극형 캠페인을, 페이스북 및 이메일 마케팅은 쿠폰 발행 및 상품 큐레이션에 집중해 채널별 역할을 분리합니다.\n",
        "\n",
        "- 리타겟팅 강화:\n",
        "이번 캠페인에서 노출은 되었으나 구매로 이어지지 않은 고객 데이터를 활용해 추석 전 2~3회 리타겟팅 광고를 실시하고, AI 기반 개인화 추천을 통해 재구매율을 끌어올립니다.\n",
        "\n",
        "\n",
        "***2. 예산 배분 최적화***\n",
        "\n",
        "- 비효율 채널 예산 삭감:\n",
        "기존 캠페인에서 전환율이 낮았던 채널(예: 페이스북 일반 광고)의 예산을 20~30% 축소하고, 유튜브 및 이메일 마케팅으로 전환합니다.\n",
        "\n",
        "- 성과 기반 예산 조정:\n",
        "광고비 2억원 투입 대비 ROI가 -99.98%로 매우 낮기 때문에, 추석 캠페인 예산은 1.2억~1.5억 원 수준으로 감축하되, 핵심 타겟층 집중형 마케팅으로 효율을 확보합니다.\n",
        "\n",
        "- 시뮬레이션 기반 예산 계획:\n",
        "고객 세그먼트별 광고 효과 예측 모델을 적용해 각 채널별 매출 기여도를 사전 예측하고, 최소 15% 이상 ROI 달성을 목표로 예산을 재배치합니다.\n",
        "\n",
        "***3. 고객 세그먼트 맞춤형 전략***\n",
        "\n",
        "- 고소득·충성 고객 집중:\n",
        "소득 상위 20% 및 2회 이상 구매 고객을 대상으로 **프리미엄 쿠폰(30% 할인)**과 한정판 추석 패키지를 선제적으로 제공하여 고객 LTV를 극대화합니다.\n",
        "\n",
        "- 젊은층 신규 유입 전략:\n",
        "20~30대 고객층은 추석 시즌에 선물보다는 자기소비(셀프기프트) 성향이 강하므로, 개인 맞춤형 프로모션(SNS 챌린지, 할인코드 이벤트)을 통한 신규 유입을 노립니다.\n",
        "\n",
        "***4. 데이터 기반 의사결정 강화***\n",
        "\n",
        "- 채널별 전환율 분석 대시보드 구축:\n",
        "캠페인 기간 중 실시간으로 CPC, CTR, 전환율, 매출 데이터를 모니터링할 수 있는 대시보드를 구축해 민첩하게 예산 조정을 가능하게 합니다.\n",
        "\n",
        "- 추석 이후 성과 재검증:\n",
        "캠페인 종료 후 **실구매자 분석(구매 빈도, 구매액 변화, 재방문율)**을 통해 장기적인 ROI 및 고객 확보 효과를 재평가합니다.\n",
        "\n",
        "\n",
        "# **■ 리스크 요소**\n",
        "\n",
        "***1.  관찰 데이터 기반 분석의 한계***\n",
        "\n",
        "- 이번 분석은 **무작위 통제 실험(A/B 테스트)**이 아닌 관찰 데이터에 의존했기 때문에, 광고 노출 여부와 구매액 간의 인과관계가 왜곡될 가능성이 존재합니다.\n",
        "\n",
        "- 예를 들어, **광고 노출 자체가 특정 고객군(고소득층, 구매 의향이 높은 기존 고객)**에게 편향적으로 집중되었을 경우, 광고 효과가 과대평가되거나 과소평가될 수 있습니다.\n",
        "\n",
        "***2.  ROI 계산의 불완전성***\n",
        "\n",
        "- ROI 분석 시 **추가적인 비용 요소(제작비, 채널 수수료, 운영 인력비용 등)**가 반영되지 않았으므로 실제 ROI는 현재 분석 결과보다 더 낮을 수 있습니다.\n",
        "\n",
        "- 단기 구매액만 고려했기 때문에, 광고로 인해 유입된 신규 고객의 **장기 재구매 효과(고객 생애가치, LTV)**가 반영되지 않았습니다.\n",
        "\n",
        "***3. 채널별 성과 미분석 리스크***\n",
        "\n",
        "- 현재 데이터셋은 광고 채널(인스타그램, 유튜브, 이메일 등)별 전환율 분석이 포함되지 않아, 특정 채널에서 발생한 **낭비성 광고비(비효율)**를 식별하기 어렵습니다.\n",
        "\n",
        "- 9월 추석 캠페인에서 동일한 전략을 그대로 반복할 경우 비효율 채널에 예산이 낭비될 위험이 있습니다.\n",
        "\n",
        "***4. 계절성 및 외부 요인 미반영***\n",
        "\n",
        "- Summer Mega Sale 캠페인의 성과는 **계절적 특수성(여름 휴가철, 세일 시즌)**의 영향을 받을 수 있으며, 추석 시즌에는 소비 패턴이 크게 변동할 가능성이 있습니다.\n",
        "\n",
        "- 외부 경쟁사 캠페인, 경제 상황(금리, 소비 심리) 등의 외생 변수가 효과 측정에 영향을 미칠 수 있습니다.\n",
        "\n",
        "***5. 모델링 및 데이터 품질 리스크***\n",
        "\n",
        "- 현재 모델의 설명력(R²)이 약 **59.7%**로, 약 40% 이상의 구매 변동 요인을 설명하지 못함을 의미합니다.\n",
        "\n",
        "- 고객 데이터(소득, 연령)에서 누락값, 이상치, 측정 오류가 존재할 경우 모델의 정확성이 저하될 수 있습니다.\n",
        "\n",
        "\n",
        "# **■ 향후 액션 아이템**\n",
        "\n",
        "***1. A/B 테스트 및 인과추론 프레임워크 도입***\n",
        "\n",
        "- 추석 캠페인 사전 실험 설계: 9월 추석 캠페인 전 2주 동안 광고 노출 그룹과 비노출 그룹을 무작위로 분리한 소규모 A/B 테스트를 진행하여 **실제 광고 인과효과(리프트)**를 사전 검증합니다.\n",
        "\n",
        "- 통계적 신뢰성 확보: p-value뿐만 아니라 **효과 크기(Cohen’s d)**와 Bayesian 분석을 활용하여 캠페인 효과를 다각적으로 검증합니다.\n",
        "\n",
        "***2. 데이터 인프라 및 실시간 분석 체계 강화***\n",
        "\n",
        "- 실시간 ROI 대시보드: Google Data Studio 또는 Tableau 기반으로 광고 채널별 CPC, CTR, 전환율, 매출 기여도를 실시간 모니터링하는 대시보드를 구축합니다.\n",
        "\n",
        "- 고객 행동 데이터 통합: CRM, 웹사이트, SNS 광고 로그를 데이터 레이크로 통합하여 고객 여정(Click-to-Purchase Funnel)을 추적하고 이탈 지점 분석을 진행합니다.\n",
        "\n",
        "***3. 고객 세그먼트 정교화 및 타겟팅 모델 개발***\n",
        "\n",
        "- 고객 세분화(Clustering): 연령, 소득, 구매 이력 데이터를 활용해 고가치 고객(LTV 상위 20%)과 잠재 충성 고객층을 식별하고, 군집별 맞춤 할인·혜택 전략을 설계합니다.\n",
        "\n",
        "- 머신러닝 기반 타겟팅: Logistic Regression 또는 Gradient Boosting을 활용하여 광고 클릭 및 구매 확률 예측 모델을 개발, 고효율 고객군을 집중 타겟팅합니다.\n",
        "\n",
        "***4. 캠페인 크리에이티브 및 채널 전략 고도화***\n",
        "\n",
        "- 소재 최적화 테스트: 광고 이미지/영상, 카피라이팅을 다변화하여 CTR 및 구매 전환율이 높은 크리에이티브를 식별하고 상위 20%만 집중 배포합니다.\n",
        "\n",
        "- 채널별 ROI 최적화: 유튜브와 인스타그램은 브랜딩 중심, 이메일 및 리타겟팅 광고는 전환율 중심으로 채널별 전략을 재정립합니다.\n",
        "\n",
        "***5. 장기적 마케팅 자산 구축***\n",
        "\n",
        "- 고객 데이터 플랫폼(CDP) 구축: 장기적으로 고객 행동 데이터를 중앙화하고 **개인화 마케팅 자동화(Recommendation Engine)**를 추진합니다.\n",
        "\n",
        "- 고객 LTV 분석: 단기 ROI뿐만 아니라 고객 생애가치(LTV) 지표를 기반으로 마케팅 ROI를 장기 관점에서 재평가합니다."
      ],
      "metadata": {
        "id": "2wyn3pGOax3I"
      }
    },
    {
      "cell_type": "markdown",
      "source": [
        "# **미션 3: 고객 세분화 및 예측 모델링 보고서**"
      ],
      "metadata": {
        "id": "bG_-1LbhXSDD"
      }
    },
    {
      "cell_type": "code",
      "source": [
        "np.random.seed(789)\n",
        "n_users = 500\n",
        "data_streaming = pd.DataFrame({\n",
        "    'watch_hours': np.random.lognormal(np.log(10), 0.5, n_users),\n",
        "    'content_diversity': np.random.uniform(1, 10, n_users),\n",
        "    'subscription_duration': np.random.exponential(12, n_users),\n",
        "    'satisfaction_score': np.random.normal(7, 1.5, n_users)\n",
        "})\n",
        "churn_prob = 1 / (1 + np.exp((data_streaming['satisfaction_score'] - 5) +\n",
        "                              0.1*data_streaming['watch_hours'] -\n",
        "                              0.05*data_streaming['subscription_duration']))\n",
        "data_streaming['churn'] = np.random.binomial(1, churn_prob)\n",
        "\n",
        "print(\"🛍️ 스트리밍 데이터 미리보기\")\n",
        "print(data_streaming.describe().round(2))\n",
        "print(f\"\\n전체 이탈률: {data_streaming['churn'].mean()*100:.1f}%\")"
      ],
      "metadata": {
        "colab": {
          "base_uri": "https://localhost:8080/"
        },
        "id": "I4tzGTGTXn9F",
        "outputId": "49d9911e-c8a0-4b62-c28f-2006a2eb1326"
      },
      "execution_count": 23,
      "outputs": [
        {
          "output_type": "stream",
          "name": "stdout",
          "text": [
            "🛍️ 스트리밍 데이터 미리보기\n",
            "       watch_hours  content_diversity  subscription_duration  \\\n",
            "count       500.00             500.00                 500.00   \n",
            "mean         11.40               5.49                  12.22   \n",
            "std           6.21               2.56                  12.30   \n",
            "min           2.33               1.02                   0.04   \n",
            "25%           7.25               3.30                   3.10   \n",
            "50%          10.21               5.49                   8.00   \n",
            "75%          14.00               7.71                  17.10   \n",
            "max          61.74              10.00                  79.01   \n",
            "\n",
            "       satisfaction_score   churn  \n",
            "count              500.00  500.00  \n",
            "mean                 7.03    0.15  \n",
            "std                  1.54    0.36  \n",
            "min                  2.73    0.00  \n",
            "25%                  6.09    0.00  \n",
            "50%                  7.02    0.00  \n",
            "75%                  8.02    0.00  \n",
            "max                 11.63    1.00  \n",
            "\n",
            "전체 이탈률: 15.0%\n"
          ]
        }
      ]
    },
    {
      "cell_type": "markdown",
      "source": [
        "***스트리밍 데이터***\n",
        "\n",
        "- 평균 시청 시간 (watch_hours): 11.4 시간\n",
        "- 평균 콘텐츠 다양성 (content_diversity): 5.49\n",
        "- 평균 구독 기간 (subscription_duration): 12.2 개월\n",
        "- 평균 만족도 점수 (satisfaction_score): 7.03\n",
        "- 전체 이탈률: 15.0%\n",
        "\n",
        "***주요 포인트***\n",
        "\n",
        "- 고객 중 약 15%가 이탈(churn) 상태로 레이블링되었습니다.\n",
        "\n",
        "- 만족도 점수가 낮거나 구독 기간이 짧은 고객군에서 이탈 가능성이 높을 것으로 예상됩니다."
      ],
      "metadata": {
        "id": "F5brL5hKzey9"
      }
    },
    {
      "cell_type": "markdown",
      "source": [
        "# **📊 분석 및 보고서 작성**"
      ],
      "metadata": {
        "id": "kMbzHmK4XbW0"
      }
    },
    {
      "cell_type": "markdown",
      "source": [
        "# **1. 데이터 표준화 및 PCA**\n",
        "\n",
        "**비즈니스 맥락**: CTO가 \"고객 데이터가 너무 복잡해서 패턴을 찾기 어려워요. 핵심 특성만 추출해서 고객을 간단하게 분류할 수 있는 방법이 없을까요?\"라고 요청했습니다.\n",
        "\n",
        "**분석 목적**: 4개의 고객 특성을 2개의 주성분으로 압축하여 고객 행동 패턴의 핵심 차원을 파악하고 시각화를 용이하게 합니다.\n",
        "\n",
        "**학습 이해도 점검**: 아래 코드에서 데이터 표준화와 PCA 적용 부분을 채워주세요."
      ],
      "metadata": {
        "id": "fgsIwwPRXqyp"
      }
    },
    {
      "cell_type": "code",
      "source": [
        "features = ['watch_hours', 'content_diversity', 'subscription_duration', 'satisfaction_score']\n",
        "X = data_streaming[features]\n",
        "scaler = StandardScaler()\n",
        "X_scaled = scaler.fit_transform(X)  # 데이터 표준화\n",
        "pca = PCA(n_components=2)\n",
        "X_pca = pca.fit_transform(X_scaled)  # PCA 적용\n",
        "\n",
        "print(f\"PCA 설명된 분산 비율: {pca.explained_variance_ratio_.round(3)}\")\n",
        "print(f\"누적 설명 분산: {pca.explained_variance_ratio_.sum()*100:.1f}%\")\n",
        "\n",
        "# PCA 성분 해석\n",
        "feature_importance = pd.DataFrame(\n",
        "    pca.components_.T,\n",
        "    columns=['주성분1', '주성분2'],\n",
        "    index=features\n",
        ")\n",
        "print(\"\\n📊 PCA 성분 분석 (각 변수의 기여도)\")\n",
        "print(feature_importance.round(3))"
      ],
      "metadata": {
        "colab": {
          "base_uri": "https://localhost:8080/"
        },
        "id": "8mlWadh9Xwyt",
        "outputId": "496d106a-9442-47dd-a870-a383f6e9317f"
      },
      "execution_count": 24,
      "outputs": [
        {
          "output_type": "stream",
          "name": "stdout",
          "text": [
            "PCA 설명된 분산 비율: [0.27  0.249]\n",
            "누적 설명 분산: 51.9%\n",
            "\n",
            "📊 PCA 성분 분석 (각 변수의 기여도)\n",
            "                        주성분1   주성분2\n",
            "watch_hours            0.524  0.246\n",
            "content_diversity      0.500 -0.493\n",
            "subscription_duration  0.337  0.796\n",
            "satisfaction_score     0.602 -0.250\n"
          ]
        }
      ]
    },
    {
      "cell_type": "markdown",
      "source": [
        "***결과***\n",
        "\n",
        "1. PCA 설명된 분산 비율: [0.270, 0.249]\n",
        "\n",
        "2. 누적 설명 분산: 51.9% (상위 2개 주성분으로 원래 데이터의 52% 변동성을 설명)\n",
        "\n",
        "3. 주성분 해석:\n",
        "\n",
        " - 주성분1: satisfaction_score와 watch_hours의 영향이 큼\n",
        "\n",
        " - 주성분2: subscription_duration의 영향이 가장 큼"
      ],
      "metadata": {
        "id": "lcDqQm5J0VGI"
      }
    },
    {
      "cell_type": "markdown",
      "source": [
        "# **2. PCA 결과 시각화**\n",
        "\n",
        "**비즈니스 맥락**: 경영진 프레젠테이션에서 \"우리 고객들이 어떻게 분포되어 있고, 이탈하는 고객들이 특별한 패턴을 보이는지\" 한눈에 보여줄 필요가 있습니다.\n",
        "\n",
        "**분석 목적**: PCA로 압축된 2차원 공간에서 고객 분포를 시각화하고, 이탈 고객의 공간적 분포 패턴을 파악합니다.\n",
        "\n",
        "**학습 이해도 점검**: 아래 코드에서 산점도를 생성하는 부분을 채워주세요."
      ],
      "metadata": {
        "id": "akaAxemw0qcu"
      }
    },
    {
      "cell_type": "code",
      "source": [
        "plt.figure(figsize=(12, 8))\n",
        "scatter = plt.scatter(X_pca[:, 0], X_pca[:, 1],\n",
        "                      c=data_streaming['churn'], cmap='coolwarm', alpha=0.7)  # PCA 산점도, 이탈 여부로 색상 구분\n",
        "plt.xlabel(f'주성분 1 (분산 설명: {pca.explained_variance_ratio_[0]*100:.1f}%)')\n",
        "plt.ylabel(f'주성분 2 (분산 설명: {pca.explained_variance_ratio_[1]*100:.1f}%)')\n",
        "plt.title('PCA를 통한 StreamVibe 고객 분포 시각화')\n",
        "\n",
        "cbar = plt.colorbar(scatter, label='이탈 여부')\n",
        "cbar.set_ticks([0, 1])\n",
        "cbar.set_ticklabels(['유지', '이탈'])\n",
        "\n",
        "# 이탈/유지 고객 중심점 표시\n",
        "churn_centers = data_streaming.groupby('churn')[['watch_hours', 'content_diversity',\n",
        "                                                'subscription_duration', 'satisfaction_score']].mean()\n",
        "churn_centers_scaled = scaler.transform(churn_centers)\n",
        "churn_centers_pca = pca.transform(churn_centers_scaled)\n",
        "plt.scatter(churn_centers_pca[:, 0], churn_centers_pca[:, 1],\n",
        "           c=['blue', 'red'], s=200, marker='x', linewidths=3, label='그룹 중심')\n",
        "plt.legend()\n",
        "plt.show()"
      ],
      "metadata": {
        "colab": {
          "base_uri": "https://localhost:8080/",
          "height": 1000
        },
        "id": "cLFErGMQ0NK-",
        "outputId": "d342237a-7afa-4848-d6bf-cfadba99ccba"
      },
      "execution_count": 25,
      "outputs": [
        {
          "output_type": "stream",
          "name": "stderr",
          "text": [
            "WARNING:matplotlib.font_manager:findfont: Font family 'NanumBarunGothic' not found.\n",
            "WARNING:matplotlib.font_manager:findfont: Font family 'NanumBarunGothic' not found.\n",
            "WARNING:matplotlib.font_manager:findfont: Font family 'NanumBarunGothic' not found.\n",
            "WARNING:matplotlib.font_manager:findfont: Font family 'NanumBarunGothic' not found.\n",
            "WARNING:matplotlib.font_manager:findfont: Font family 'NanumBarunGothic' not found.\n",
            "WARNING:matplotlib.font_manager:findfont: Font family 'NanumBarunGothic' not found.\n",
            "WARNING:matplotlib.font_manager:findfont: Font family 'NanumBarunGothic' not found.\n",
            "WARNING:matplotlib.font_manager:findfont: Font family 'NanumBarunGothic' not found.\n",
            "WARNING:matplotlib.font_manager:findfont: Font family 'NanumBarunGothic' not found.\n",
            "WARNING:matplotlib.font_manager:findfont: Font family 'NanumBarunGothic' not found.\n",
            "WARNING:matplotlib.font_manager:findfont: Font family 'NanumBarunGothic' not found.\n",
            "WARNING:matplotlib.font_manager:findfont: Font family 'NanumBarunGothic' not found.\n",
            "WARNING:matplotlib.font_manager:findfont: Font family 'NanumBarunGothic' not found.\n",
            "WARNING:matplotlib.font_manager:findfont: Font family 'NanumBarunGothic' not found.\n",
            "WARNING:matplotlib.font_manager:findfont: Font family 'NanumBarunGothic' not found.\n",
            "WARNING:matplotlib.font_manager:findfont: Font family 'NanumBarunGothic' not found.\n",
            "WARNING:matplotlib.font_manager:findfont: Font family 'NanumBarunGothic' not found.\n",
            "WARNING:matplotlib.font_manager:findfont: Font family 'NanumBarunGothic' not found.\n",
            "WARNING:matplotlib.font_manager:findfont: Font family 'NanumBarunGothic' not found.\n",
            "WARNING:matplotlib.font_manager:findfont: Font family 'NanumBarunGothic' not found.\n",
            "WARNING:matplotlib.font_manager:findfont: Font family 'NanumBarunGothic' not found.\n",
            "WARNING:matplotlib.font_manager:findfont: Font family 'NanumBarunGothic' not found.\n",
            "WARNING:matplotlib.font_manager:findfont: Font family 'NanumBarunGothic' not found.\n",
            "WARNING:matplotlib.font_manager:findfont: Font family 'NanumBarunGothic' not found.\n",
            "WARNING:matplotlib.font_manager:findfont: Font family 'NanumBarunGothic' not found.\n",
            "WARNING:matplotlib.font_manager:findfont: Font family 'NanumBarunGothic' not found.\n",
            "WARNING:matplotlib.font_manager:findfont: Font family 'NanumBarunGothic' not found.\n",
            "WARNING:matplotlib.font_manager:findfont: Font family 'NanumBarunGothic' not found.\n",
            "WARNING:matplotlib.font_manager:findfont: Font family 'NanumBarunGothic' not found.\n",
            "WARNING:matplotlib.font_manager:findfont: Font family 'NanumBarunGothic' not found.\n",
            "WARNING:matplotlib.font_manager:findfont: Font family 'NanumBarunGothic' not found.\n",
            "WARNING:matplotlib.font_manager:findfont: Font family 'NanumBarunGothic' not found.\n",
            "WARNING:matplotlib.font_manager:findfont: Font family 'NanumBarunGothic' not found.\n",
            "WARNING:matplotlib.font_manager:findfont: Font family 'NanumBarunGothic' not found.\n",
            "WARNING:matplotlib.font_manager:findfont: Font family 'NanumBarunGothic' not found.\n",
            "WARNING:matplotlib.font_manager:findfont: Font family 'NanumBarunGothic' not found.\n",
            "WARNING:matplotlib.font_manager:findfont: Font family 'NanumBarunGothic' not found.\n",
            "WARNING:matplotlib.font_manager:findfont: Font family 'NanumBarunGothic' not found.\n",
            "WARNING:matplotlib.font_manager:findfont: Font family 'NanumBarunGothic' not found.\n",
            "WARNING:matplotlib.font_manager:findfont: Font family 'NanumBarunGothic' not found.\n",
            "WARNING:matplotlib.font_manager:findfont: Font family 'NanumBarunGothic' not found.\n",
            "WARNING:matplotlib.font_manager:findfont: Font family 'NanumBarunGothic' not found.\n",
            "WARNING:matplotlib.font_manager:findfont: Font family 'NanumBarunGothic' not found.\n",
            "WARNING:matplotlib.font_manager:findfont: Font family 'NanumBarunGothic' not found.\n",
            "WARNING:matplotlib.font_manager:findfont: Font family 'NanumBarunGothic' not found.\n",
            "WARNING:matplotlib.font_manager:findfont: Font family 'NanumBarunGothic' not found.\n",
            "WARNING:matplotlib.font_manager:findfont: Font family 'NanumBarunGothic' not found.\n",
            "WARNING:matplotlib.font_manager:findfont: Font family 'NanumBarunGothic' not found.\n",
            "WARNING:matplotlib.font_manager:findfont: Font family 'NanumBarunGothic' not found.\n",
            "WARNING:matplotlib.font_manager:findfont: Font family 'NanumBarunGothic' not found.\n",
            "WARNING:matplotlib.font_manager:findfont: Font family 'NanumBarunGothic' not found.\n",
            "WARNING:matplotlib.font_manager:findfont: Font family 'NanumBarunGothic' not found.\n",
            "WARNING:matplotlib.font_manager:findfont: Font family 'NanumBarunGothic' not found.\n",
            "WARNING:matplotlib.font_manager:findfont: Font family 'NanumBarunGothic' not found.\n",
            "WARNING:matplotlib.font_manager:findfont: Font family 'NanumBarunGothic' not found.\n",
            "WARNING:matplotlib.font_manager:findfont: Font family 'NanumBarunGothic' not found.\n",
            "WARNING:matplotlib.font_manager:findfont: Font family 'NanumBarunGothic' not found.\n",
            "WARNING:matplotlib.font_manager:findfont: Font family 'NanumBarunGothic' not found.\n",
            "WARNING:matplotlib.font_manager:findfont: Font family 'NanumBarunGothic' not found.\n",
            "WARNING:matplotlib.font_manager:findfont: Font family 'NanumBarunGothic' not found.\n",
            "WARNING:matplotlib.font_manager:findfont: Font family 'NanumBarunGothic' not found.\n",
            "WARNING:matplotlib.font_manager:findfont: Font family 'NanumBarunGothic' not found.\n",
            "WARNING:matplotlib.font_manager:findfont: Font family 'NanumBarunGothic' not found.\n",
            "WARNING:matplotlib.font_manager:findfont: Font family 'NanumBarunGothic' not found.\n",
            "WARNING:matplotlib.font_manager:findfont: Font family 'NanumBarunGothic' not found.\n",
            "WARNING:matplotlib.font_manager:findfont: Font family 'NanumBarunGothic' not found.\n",
            "WARNING:matplotlib.font_manager:findfont: Font family 'NanumBarunGothic' not found.\n"
          ]
        },
        {
          "output_type": "display_data",
          "data": {
            "text/plain": [
              "<Figure size 1200x800 with 2 Axes>"
            ],
            "image/png": "[encoded data removed]"
          },
          "metadata": {}
        }
      ]
    },
    {
      "cell_type": "markdown",
      "source": [
        "# **3. 고객 세분화**\n",
        "\n",
        "**비즈니스 맥락**: 마케팅팀에서 \"고객을 몇 개 그룹으로 나누어서 각각 다른 유지 전략을 적용하고 싶어요. 어떤 그룹이 가장 위험한지도 알고 싶습니다\"라고 요청했습니다.\n",
        "\n",
        "**분석 목적**: k-평균 군집분석을 통해 고객을 동질적인 3개 세그먼트로 분류하고, 각 세그먼트의 특성과 이탈 위험도를 분석합니다.\n",
        "\n",
        "**학습 이해도 점검**: 아래 코드에서 k-평균 군집분석을 수행하는 부분을 채워주세요."
      ],
      "metadata": {
        "id": "dKxCpj6q3U8c"
      }
    },
    {
      "cell_type": "code",
      "source": [
        "kmeans = KMeans(n_clusters=3, random_state=789)\n",
        "data_streaming['cluster'] = kmeans.fit_predict(X_scaled)\n",
        "cluster_summary = data_streaming.groupby('cluster')[features + ['churn']].mean()\n",
        "\n",
        "print(\"📊 고객 세그먼트별 특징 분석\")\n",
        "print(cluster_summary.round(2))\n",
        "\n",
        "# 각 클러스터의 비즈니스 해석\n",
        "print(\"\\n🎯 세그먼트 특성 해석:\")\n",
        "for cluster_id in range(3):\n",
        "    cluster_data = cluster_summary.loc[cluster_id]\n",
        "    churn_rate = cluster_data['churn'] * 100\n",
        "\n",
        "    print(f\"\\n[세그먼트 {cluster_id}] - 이탈률: {churn_rate:.1f}%\")\n",
        "    print(f\"  • 월 시청시간: {cluster_data['watch_hours']:.1f}시간\")\n",
        "    print(f\"  • 콘텐츠 다양성: {cluster_data['content_diversity']:.1f}/10\")\n",
        "    print(f\"  • 구독기간: {cluster_data['subscription_duration']:.1f}개월\")\n",
        "    print(f\"  • 만족도: {cluster_data['satisfaction_score']:.1f}/10\")\n",
        "\n",
        "    if churn_rate > 30:\n",
        "        print(f\"  → 🚨 고위험군 (즉시 대응 필요)\")\n",
        "    elif churn_rate > 15:\n",
        "        print(f\"  → ⚠️ 중위험군 (예방적 관리 필요)\")\n",
        "    else:\n",
        "        print(f\"  → ✅ 저위험군 (현 상태 유지)\")\n",
        "\n",
        "# 세그먼트 크기\n",
        "segment_sizes = data_streaming['cluster'].value_counts().sort_index()\n",
        "print(f\"\\n📈 세그먼트 규모:\")\n",
        "for i, size in enumerate(segment_sizes):\n",
        "    print(f\"  세그먼트 {i}: {size}명 ({size/len(data_streaming)*100:.1f}%)\")"
      ],
      "metadata": {
        "colab": {
          "base_uri": "https://localhost:8080/"
        },
        "id": "kqoOeo_n3QCc",
        "outputId": "4205b516-2512-4da8-bd6a-5f1c47cb5ee8"
      },
      "execution_count": 26,
      "outputs": [
        {
          "output_type": "stream",
          "name": "stdout",
          "text": [
            "📊 고객 세그먼트별 특징 분석\n",
            "         watch_hours  content_diversity  subscription_duration  \\\n",
            "cluster                                                          \n",
            "0              10.62               7.69                   7.81   \n",
            "1              13.92               5.56                  31.43   \n",
            "2              10.95               3.10                   7.12   \n",
            "\n",
            "         satisfaction_score  churn  \n",
            "cluster                             \n",
            "0                      7.32   0.09  \n",
            "1                      7.15   0.25  \n",
            "2                      6.67   0.16  \n",
            "\n",
            "🎯 세그먼트 특성 해석:\n",
            "\n",
            "[세그먼트 0] - 이탈률: 9.2%\n",
            "  • 월 시청시간: 10.6시간\n",
            "  • 콘텐츠 다양성: 7.7/10\n",
            "  • 구독기간: 7.8개월\n",
            "  • 만족도: 7.3/10\n",
            "  → ✅ 저위험군 (현 상태 유지)\n",
            "\n",
            "[세그먼트 1] - 이탈률: 25.3%\n",
            "  • 월 시청시간: 13.9시간\n",
            "  • 콘텐츠 다양성: 5.6/10\n",
            "  • 구독기간: 31.4개월\n",
            "  • 만족도: 7.2/10\n",
            "  → ⚠️ 중위험군 (예방적 관리 필요)\n",
            "\n",
            "[세그먼트 2] - 이탈률: 16.0%\n",
            "  • 월 시청시간: 10.9시간\n",
            "  • 콘텐츠 다양성: 3.1/10\n",
            "  • 구독기간: 7.1개월\n",
            "  • 만족도: 6.7/10\n",
            "  → ⚠️ 중위험군 (예방적 관리 필요)\n",
            "\n",
            "📈 세그먼트 규모:\n",
            "  세그먼트 0: 207명 (41.4%)\n",
            "  세그먼트 1: 99명 (19.8%)\n",
            "  세그먼트 2: 194명 (38.8%)\n"
          ]
        }
      ]
    },
    {
      "cell_type": "markdown",
      "source": [
        "# **4. 이탈 예측 모델**\n",
        "\n",
        "**비즈니스 맥락**: 고객서비스팀장이 \"고객이 이탈하기 전에 미리 알 수 있는 시스템을 만들어주세요. 그러면 할인 쿠폰이나 개인화 추천으로 선제적으로 대응할 수 있어요\"라고 요청했습니다.\n",
        "\n",
        "**분석 목적**: 로지스틱 회귀 모델을 학습하여 고객의 이탈 확률을 예측하고, 예측 정확도를 평가합니다.\n",
        "\n",
        "**학습 이해도 점검**: 아래 코드에서 로지스틱 회귀 모델을 학습시키는 부분을 채워주세요."
      ],
      "metadata": {
        "id": "fUVeas9-4I8Q"
      }
    },
    {
      "cell_type": "code",
      "source": [
        "X_logistic = X_scaled\n",
        "y_logistic = data_streaming['churn']\n",
        "logistic_model = LogisticRegression(random_state=789)\n",
        "logistic_model.fit(X_logistic, y_logistic)  # 모델 학습\n",
        "\n",
        "y_pred_proba = logistic_model.predict_proba(X_logistic)[:, 1]\n",
        "y_pred = logistic_model.predict(X_logistic)\n",
        "\n",
        "accuracy = (y_pred == y_logistic).mean()\n",
        "print(f\"이탈 예측 모델 정확도: {accuracy:.3f} ({accuracy*100:.1f}%)\")\n",
        "\n",
        "# 변수별 중요도 분석\n",
        "feature_importance = pd.DataFrame({\n",
        "    '변수': features,\n",
        "    '계수': logistic_model.coef_[0],\n",
        "    '중요도': np.abs(logistic_model.coef_[0])\n",
        "}).sort_values('중요도', ascending=False)\n",
        "\n",
        "print(\"\\n📊 이탈 예측 주요 변수\")\n",
        "print(feature_importance.round(3))\n",
        "\n",
        "# 이탈 확률별 고객 분포\n",
        "data_streaming['churn_probability'] = y_pred_proba\n",
        "print(f\"\\n🎯 이탈 위험도별 고객 분포:\")\n",
        "print(f\"  고위험 (확률 > 0.7): {(y_pred_proba > 0.7).sum()}명\")\n",
        "print(f\"  중위험 (0.3 < 확률 ≤ 0.7): {((y_pred_proba > 0.3) & (y_pred_proba <= 0.7)).sum()}명\")\n",
        "print(f\"  저위험 (확률 ≤ 0.3): {(y_pred_proba <= 0.3).sum()}명\")"
      ],
      "metadata": {
        "colab": {
          "base_uri": "https://localhost:8080/"
        },
        "id": "St0n9kRG3vEg",
        "outputId": "7dedd4e4-c1e9-49e3-87cb-9a0fd0b2b2c8"
      },
      "execution_count": 27,
      "outputs": [
        {
          "output_type": "stream",
          "name": "stdout",
          "text": [
            "이탈 예측 모델 정확도: 0.870 (87.0%)\n",
            "\n",
            "📊 이탈 예측 주요 변수\n",
            "                      변수     계수    중요도\n",
            "3     satisfaction_score -1.366  1.366\n",
            "2  subscription_duration  0.599  0.599\n",
            "0            watch_hours -0.441  0.441\n",
            "1      content_diversity  0.028  0.028\n",
            "\n",
            "🎯 이탈 위험도별 고객 분포:\n",
            "  고위험 (확률 > 0.7): 11명\n",
            "  중위험 (0.3 < 확률 ≤ 0.7): 69명\n",
            "  저위험 (확률 ≤ 0.3): 420명\n"
          ]
        }
      ]
    },
    {
      "cell_type": "markdown",
      "source": [
        "# **5. 모델 성능 분석**\n",
        "\n",
        "**비즈니스 맥락**: 데이터팀 이사가 \"예측 모델이 실제로 얼마나 정확한지 세부적으로 분석해주세요. 특히 이탈할 고객을 놓치는 경우와 멀쩡한 고객을 이탈 위험으로 잘못 분류하는 경우의 비율을 알고 싶어요\"라고 요청했습니다.\n",
        "\n",
        "**분석 목적**: 혼동 행렬을 통해 모델의 성능을 상세히 분석하고, 비즈니스 관점에서 오분류의 영향을 평가합니다.\n",
        "\n",
        "**학습 이해도 점검**: 아래 코드에서 혼동 행렬을 계산하는 부분을 채워주세요."
      ],
      "metadata": {
        "id": "iFYuw1xI5F6Y"
      }
    },
    {
      "cell_type": "code",
      "source": [
        "cm = confusion_matrix(y_logistic, y_pred)\n",
        "tn, fp, fn, tp = cm.ravel()\n",
        "\n",
        "print(\"📋 이탈 예측 모델 성능 분석\")\n",
        "print(f\"정확히 예측한 유지 고객 (True Negative): {tn}명\")\n",
        "print(f\"이탈로 잘못 예측한 유지 고객 (False Positive): {fp}명\")\n",
        "print(f\"유지로 잘못 예측한 이탈 고객 (False Negative): {fn}명\")\n",
        "print(f\"정확히 예측한 이탈 고객 (True Positive): {tp}명\")\n",
        "\n",
        "# 비즈니스 메트릭 계산\n",
        "precision = tp / (tp + fp) if (tp + fp) > 0 else 0\n",
        "recall = tp / (tp + fn) if (tp + fn) > 0 else 0\n",
        "f1_score = 2 * (precision * recall) / (precision + recall) if (precision + recall) > 0 else 0\n",
        "\n",
        "print(f\"\\n🎯 비즈니스 성과 지표:\")\n",
        "print(f\"정밀도 (Precision): {precision:.3f} - 이탈 예측 중 실제 이탈 비율\")\n",
        "print(f\"재현율 (Recall): {recall:.3f} - 실제 이탈 고객 중 예측 성공 비율\")\n",
        "print(f\"F1-Score: {f1_score:.3f} - 종합 성능 지표\")\n",
        "\n",
        "# 비즈니스 손실 분석\n",
        "retention_cost_per_customer = 50000  # 고객 유지 비용 (쿠폰, 할인 등)\n",
        "lost_revenue_per_churn = 200000      # 이탈 고객당 매출 손실\n",
        "\n",
        "unnecessary_retention_cost = fp * retention_cost_per_customer\n",
        "missed_revenue_loss = fn * lost_revenue_per_churn\n",
        "\n",
        "print(f\"\\n💰 예상 비용 분석:\")\n",
        "print(f\"불필요한 유지 비용 (False Positive): {unnecessary_retention_cost:,}원\")\n",
        "print(f\"놓친 이탈로 인한 손실 (False Negative): {missed_revenue_loss:,}원\")\n",
        "print(f\"총 예상 손실: {unnecessary_retention_cost + missed_revenue_loss:,}원\")"
      ],
      "metadata": {
        "colab": {
          "base_uri": "https://localhost:8080/"
        },
        "id": "RJBm5FvB4xHB",
        "outputId": "94599b73-c2a8-48bb-f560-dabd5d59ba16"
      },
      "execution_count": 28,
      "outputs": [
        {
          "output_type": "stream",
          "name": "stdout",
          "text": [
            "📋 이탈 예측 모델 성능 분석\n",
            "정확히 예측한 유지 고객 (True Negative): 414명\n",
            "이탈로 잘못 예측한 유지 고객 (False Positive): 11명\n",
            "유지로 잘못 예측한 이탈 고객 (False Negative): 54명\n",
            "정확히 예측한 이탈 고객 (True Positive): 21명\n",
            "\n",
            "🎯 비즈니스 성과 지표:\n",
            "정밀도 (Precision): 0.656 - 이탈 예측 중 실제 이탈 비율\n",
            "재현율 (Recall): 0.280 - 실제 이탈 고객 중 예측 성공 비율\n",
            "F1-Score: 0.393 - 종합 성능 지표\n",
            "\n",
            "💰 예상 비용 분석:\n",
            "불필요한 유지 비용 (False Positive): 550,000원\n",
            "놓친 이탈로 인한 손실 (False Negative): 10,800,000원\n",
            "총 예상 손실: 11,350,000원\n"
          ]
        }
      ]
    },
    {
      "cell_type": "markdown",
      "source": [
        "# **6. ROC 곡선과 AUC**\n",
        "\n",
        "**비즈니스 맥락**: 경영진이 \"다른 회사의 이탈 예측 모델과 비교했을 때 우리 모델의 성능이 어느 정도인지 객관적인 지표로 보여주세요\"라고 요청했습니다.\n",
        "\n",
        "**분석 목적**: ROC 곡선과 AUC를 통해 모델의 성능을 시각화하고, 업계 표준 대비 성능을 평가합니다.\n",
        "\n",
        "**학습 이해도 점검**: 아래 코드에서 ROC 곡선과 AUC를 계산하는 부분을 채워주세요."
      ],
      "metadata": {
        "id": "XelLNVkK5yWx"
      }
    },
    {
      "cell_type": "code",
      "source": [
        "from sklearn.metrics import roc_curve, roc_auc_score\n",
        "\n",
        "fpr, tpr, thresholds = roc_curve(y_logistic, y_pred_proba)\n",
        "roc_auc = roc_auc_score(y_logistic, y_pred_proba)\n",
        "\n",
        "plt.figure(figsize=(10, 8))\n",
        "plt.plot(fpr, tpr, linewidth=2, label=f'StreamVibe 모델 (AUC = {roc_auc:.3f})')\n",
        "plt.plot([0, 1], [0, 1], 'k--', linewidth=1, label='랜덤 분류기 (AUC = 0.500)')\n",
        "plt.xlabel('위양성률 (False Positive Rate)')\n",
        "plt.ylabel('민감도 (True Positive Rate)')\n",
        "plt.title('StreamVibe 이탈 예측 모델 ROC 곡선')\n",
        "plt.legend()\n",
        "plt.grid(True, alpha=0.3)\n",
        "plt.show()\n",
        "\n",
        "# AUC 성능 평가\n",
        "if roc_auc > 0.9:\n",
        "    performance_level = \"탁월함 (업계 최고 수준)\"\n",
        "elif roc_auc > 0.8:\n",
        "    performance_level = \"우수함 (상용화 가능 수준)\"\n",
        "elif roc_auc > 0.7:\n",
        "    performance_level = \"양호함 (개선 여지 있음)\"\n",
        "else:\n",
        "    performance_level = \"부족함 (추가 개선 필요)\"\n",
        "\n",
        "print(f\"📊 AUC 성능 평가: {roc_auc:.3f} → {performance_level}\")\n",
        "\n",
        "# 최적 임계값 찾기\n",
        "optimal_idx = np.argmax(tpr - fpr)\n",
        "optimal_threshold = thresholds[optimal_idx]\n",
        "print(f\"🎯 최적 예측 임계값: {optimal_threshold:.3f}\")\n",
        "print(f\"   이 임계값에서 민감도: {tpr[optimal_idx]:.3f}, 특이도: {1 - fpr[optimal_idx]:.3f}\")"
      ],
      "metadata": {
        "colab": {
          "base_uri": "https://localhost:8080/",
          "height": 1000
        },
        "id": "s6tSJ0Bz5ee9",
        "outputId": "59313d58-d681-4727-8571-11373984a61a"
      },
      "execution_count": 30,
      "outputs": [
        {
          "output_type": "stream",
          "name": "stderr",
          "text": [
            "WARNING:matplotlib.font_manager:findfont: Font family 'NanumBarunGothic' not found.\n",
            "WARNING:matplotlib.font_manager:findfont: Font family 'NanumBarunGothic' not found.\n",
            "WARNING:matplotlib.font_manager:findfont: Font family 'NanumBarunGothic' not found.\n",
            "WARNING:matplotlib.font_manager:findfont: Font family 'NanumBarunGothic' not found.\n",
            "WARNING:matplotlib.font_manager:findfont: Font family 'NanumBarunGothic' not found.\n",
            "WARNING:matplotlib.font_manager:findfont: Font family 'NanumBarunGothic' not found.\n",
            "WARNING:matplotlib.font_manager:findfont: Font family 'NanumBarunGothic' not found.\n",
            "WARNING:matplotlib.font_manager:findfont: Font family 'NanumBarunGothic' not found.\n",
            "WARNING:matplotlib.font_manager:findfont: Font family 'NanumBarunGothic' not found.\n",
            "WARNING:matplotlib.font_manager:findfont: Font family 'NanumBarunGothic' not found.\n",
            "WARNING:matplotlib.font_manager:findfont: Font family 'NanumBarunGothic' not found.\n",
            "WARNING:matplotlib.font_manager:findfont: Font family 'NanumBarunGothic' not found.\n",
            "WARNING:matplotlib.font_manager:findfont: Font family 'NanumBarunGothic' not found.\n",
            "WARNING:matplotlib.font_manager:findfont: Font family 'NanumBarunGothic' not found.\n",
            "WARNING:matplotlib.font_manager:findfont: Font family 'NanumBarunGothic' not found.\n",
            "WARNING:matplotlib.font_manager:findfont: Font family 'NanumBarunGothic' not found.\n",
            "WARNING:matplotlib.font_manager:findfont: Font family 'NanumBarunGothic' not found.\n",
            "WARNING:matplotlib.font_manager:findfont: Font family 'NanumBarunGothic' not found.\n",
            "WARNING:matplotlib.font_manager:findfont: Font family 'NanumBarunGothic' not found.\n",
            "WARNING:matplotlib.font_manager:findfont: Font family 'NanumBarunGothic' not found.\n",
            "WARNING:matplotlib.font_manager:findfont: Font family 'NanumBarunGothic' not found.\n",
            "WARNING:matplotlib.font_manager:findfont: Font family 'NanumBarunGothic' not found.\n",
            "WARNING:matplotlib.font_manager:findfont: Font family 'NanumBarunGothic' not found.\n",
            "WARNING:matplotlib.font_manager:findfont: Font family 'NanumBarunGothic' not found.\n",
            "WARNING:matplotlib.font_manager:findfont: Font family 'NanumBarunGothic' not found.\n",
            "WARNING:matplotlib.font_manager:findfont: Font family 'NanumBarunGothic' not found.\n",
            "WARNING:matplotlib.font_manager:findfont: Font family 'NanumBarunGothic' not found.\n",
            "WARNING:matplotlib.font_manager:findfont: Font family 'NanumBarunGothic' not found.\n",
            "WARNING:matplotlib.font_manager:findfont: Font family 'NanumBarunGothic' not found.\n",
            "WARNING:matplotlib.font_manager:findfont: Font family 'NanumBarunGothic' not found.\n",
            "WARNING:matplotlib.font_manager:findfont: Font family 'NanumBarunGothic' not found.\n",
            "WARNING:matplotlib.font_manager:findfont: Font family 'NanumBarunGothic' not found.\n",
            "WARNING:matplotlib.font_manager:findfont: Font family 'NanumBarunGothic' not found.\n",
            "WARNING:matplotlib.font_manager:findfont: Font family 'NanumBarunGothic' not found.\n",
            "WARNING:matplotlib.font_manager:findfont: Font family 'NanumBarunGothic' not found.\n",
            "WARNING:matplotlib.font_manager:findfont: Font family 'NanumBarunGothic' not found.\n",
            "WARNING:matplotlib.font_manager:findfont: Font family 'NanumBarunGothic' not found.\n",
            "WARNING:matplotlib.font_manager:findfont: Font family 'NanumBarunGothic' not found.\n",
            "WARNING:matplotlib.font_manager:findfont: Font family 'NanumBarunGothic' not found.\n",
            "WARNING:matplotlib.font_manager:findfont: Font family 'NanumBarunGothic' not found.\n",
            "WARNING:matplotlib.font_manager:findfont: Font family 'NanumBarunGothic' not found.\n",
            "WARNING:matplotlib.font_manager:findfont: Font family 'NanumBarunGothic' not found.\n",
            "WARNING:matplotlib.font_manager:findfont: Font family 'NanumBarunGothic' not found.\n",
            "WARNING:matplotlib.font_manager:findfont: Font family 'NanumBarunGothic' not found.\n",
            "WARNING:matplotlib.font_manager:findfont: Font family 'NanumBarunGothic' not found.\n",
            "WARNING:matplotlib.font_manager:findfont: Font family 'NanumBarunGothic' not found.\n",
            "WARNING:matplotlib.font_manager:findfont: Font family 'NanumBarunGothic' not found.\n",
            "WARNING:matplotlib.font_manager:findfont: Font family 'NanumBarunGothic' not found.\n",
            "WARNING:matplotlib.font_manager:findfont: Font family 'NanumBarunGothic' not found.\n",
            "WARNING:matplotlib.font_manager:findfont: Font family 'NanumBarunGothic' not found.\n",
            "WARNING:matplotlib.font_manager:findfont: Font family 'NanumBarunGothic' not found.\n",
            "WARNING:matplotlib.font_manager:findfont: Font family 'NanumBarunGothic' not found.\n",
            "WARNING:matplotlib.font_manager:findfont: Font family 'NanumBarunGothic' not found.\n",
            "WARNING:matplotlib.font_manager:findfont: Font family 'NanumBarunGothic' not found.\n",
            "WARNING:matplotlib.font_manager:findfont: Font family 'NanumBarunGothic' not found.\n",
            "WARNING:matplotlib.font_manager:findfont: Font family 'NanumBarunGothic' not found.\n",
            "WARNING:matplotlib.font_manager:findfont: Font family 'NanumBarunGothic' not found.\n",
            "WARNING:matplotlib.font_manager:findfont: Font family 'NanumBarunGothic' not found.\n",
            "WARNING:matplotlib.font_manager:findfont: Font family 'NanumBarunGothic' not found.\n",
            "WARNING:matplotlib.font_manager:findfont: Font family 'NanumBarunGothic' not found.\n",
            "WARNING:matplotlib.font_manager:findfont: Font family 'NanumBarunGothic' not found.\n",
            "WARNING:matplotlib.font_manager:findfont: Font family 'NanumBarunGothic' not found.\n",
            "WARNING:matplotlib.font_manager:findfont: Font family 'NanumBarunGothic' not found.\n",
            "WARNING:matplotlib.font_manager:findfont: Font family 'NanumBarunGothic' not found.\n",
            "WARNING:matplotlib.font_manager:findfont: Font family 'NanumBarunGothic' not found.\n"
          ]
        },
        {
          "output_type": "display_data",
          "data": {
            "text/plain": [
              "<Figure size 1000x800 with 1 Axes>"
            ],
            "image/png": "[encoded data removed]"
          },
          "metadata": {}
        },
        {
          "output_type": "stream",
          "name": "stdout",
          "text": [
            "📊 AUC 성능 평가: 0.851 → 우수함 (상용화 가능 수준)\n",
            "🎯 최적 예측 임계값: 0.165\n",
            "   이 임계값에서 민감도: 0.760, 특이도: 0.798\n"
          ]
        }
      ]
    },
    {
      "cell_type": "markdown",
      "source": [
        "# **7. 경영진 보고서 작성**\n",
        "\n",
        "**비즈니스 맥락**: 내일 오전 이사회에서 CEO, CMO, CTO, 고객서비스 이사에게 고객 이탈 위기 해결 방안과 구체적인 실행 계획을 제시해야 합니다. 매출 회복과 고객 만족도 개선이 시급한 상황입니다.\n",
        "\n",
        "**학습 이해도 점검**: 아래 텍스트를 작성하여 보고서를 완성하세요."
      ],
      "metadata": {
        "id": "7g0OomGe6m_l"
      }
    },
    {
      "cell_type": "markdown",
      "source": [
        "📋 경영진 보고서: StreamVibe 고객 이탈 방지 전략\n",
        "==================================================\n",
        "🚨 현재 상황\n",
        "• 전체 이탈률: [분석 결과로 채워주세요]%\n",
        "• 고객 세그먼트 수: [분석 결과로 채워주세요]개\n",
        "• 이탈 예측 모델 AUC: [분석 결과로 채워주세요]\n",
        "• 모델 정확도: [분석 결과로 채워주세요]%\n",
        "\n",
        "🎯 핵심 발견사항\n",
        "1. 고위험 세그먼트 특성: [가장 이탈률이 높은 세그먼트의 특징을 작성하세요]\n",
        "2. 이탈 주요 예측 변수: [모델에서 중요도가 높은 변수들을 작성하세요]\n",
        "3. 예측 가능한 이탈 고객: [고위험군 고객 수와 비율을 작성하세요]\n",
        "\n",
        "💡 즉시 실행 가능한 대응 전략\n",
        "1. 선제적 고객 유지: [이탈 예측 모델을 활용한 구체적인 방안을 작성하세요]\n",
        "2. 세그먼트별 맞춤 전략: [각 고객 군집에 대한 차별화된 접근법을 작성하세요]\n",
        "3. 콘텐츠 전략 개선: [시청 패턴 분석 결과를 바탕으로 한 콘텐츠 방향을 작성하세요]\n",
        "\n",
        "📈 예상 효과\n",
        "• 이탈률 감소 목표: [현재 대비 목표 감소율을 작성하세요]\n",
        "• 예상 매출 회복: [유지 고객 증가로 인한 매출 효과를 작성하세요]\n",
        "• ROI: [투자 대비 기대 수익을 작성하세요]\n",
        "\n",
        "⏰ 실행 일정 (향후 3개월)\n",
        "[구체적인 실행 계획과 일정을 작성하세요]\n",
        "\n",
        "🔧 필요 리소스\n",
        "[인력, 예산, 시스템 등 필요한 자원을 작성하세요]"
      ],
      "metadata": {
        "id": "jD11e_5S6svr"
      }
    },
    {
      "cell_type": "markdown",
      "source": [
        "# **■ 현재 상황**\n",
        "\n",
        "- 전체 이탈률: 15.0%\n",
        "\n",
        "- 고객 세그먼트 수: 3개\n",
        "\n",
        "- 이탈 예측 모델 AUC: 0.851 (우수함 – 상용화 가능 수준)\n",
        "\n",
        "- 모델 정확도: 87%\n",
        "\n",
        "# **■ 핵심 발견사항**\n",
        "\n",
        "**1. 고위험 세그먼트 특성:**\n",
        "\n",
        " - 세그먼트 1이 가장 높은 이탈률(25%)을 보유.\n",
        "\n",
        " - 평균 시청시간이 길지만(13.9시간), 구독 기간이 31개월로 매우 길어 피로도가 높고 만족도(7.1점)가 낮은 고객들이 다수.\n",
        "\n",
        "**2. 이탈 주요 예측 변수:**\n",
        "\n",
        " - 만족도(satisfaction_score) (가장 큰 영향력, 계수 -1.367)\n",
        "\n",
        " - 구독기간(subscription_duration) (계수 0.600)\n",
        "\n",
        " - 시청시간(watch_hours) (계수 -0.442)\n",
        "\n",
        "**3. 예측 가능한 이탈 고객:**\n",
        "\n",
        " - 고위험군(이탈 확률 > 0.7): 11명 (2.2%)\n",
        "\n",
        " - 중위험군(0.3 < 확률 ≤ 0.7): 69명 (13.8%)\n",
        "\n",
        "# **■ 즉시 실행 가능한 대응 전략**\n",
        "\n",
        "**1. 선제적 고객 유지:**\n",
        "\n",
        " - 이탈 확률 > 0.7 고객에게 1:1 맞춤형 할인 쿠폰 및 프리미엄 콘텐츠 무료 체험권 제공.\n",
        "\n",
        " - 0.3 < 확률 ≤ 0.7 중위험군 고객에게는 개인화 추천 콘텐츠 이메일 발송 및 VIP 혜택 프로그램 소개.\n",
        "\n",
        "**2. 세그먼트별 맞춤 전략:**\n",
        "\n",
        " - 세그먼트 1 (중·고위험군): 장기 구독 고객 피로도 해소를 위한 신규 오리지널 콘텐츠 우선 제공 및 개인화 알림 최소화.\n",
        "\n",
        " - 세그먼트 0 (저위험군): 충성도 높은 고객에게 로열티 리워드 프로그램 강화.\n",
        "\n",
        " - 세그먼트 2 (중위험군): 콘텐츠 다양성이 낮아 이탈 경향이 있는 고객에게 맞춤형 콘텐츠 큐레이션 제공.\n",
        "\n",
        "**3. 콘텐츠 전략 개선:**\n",
        "\n",
        " - 시청 패턴 분석 결과, 장르별 편중이 심한 고객이 이탈 가능성이 높으므로 다양한 장르 추천 및 AI 추천 알고리즘 개선 추진.\n",
        "\n",
        "# **■ 예상 효과**\n",
        "\n",
        "1. 이탈률 감소 목표\n",
        "\n",
        " - 현재 평균 이탈률 15%를 3개월 내 10% 이하로 5%p 절감.\n",
        "\n",
        " - 고위험·중위험 고객 타겟팅 및 개인화 마케팅을 통해 고위험 고객의 50% 이상을 유지 고객으로 전환.\n",
        "\n",
        " - 세그먼트별 맞춤 전략으로 중위험군의 이탈률을 20% 이상 감소시키는 것을 목표로 설정.\n",
        "\n",
        "2. 매출 회복 효과\n",
        "\n",
        " - 이탈 방지로 월 평균 20억 원 이상의 매출 회복 예상 (고위험 및 중위험 고객의 평균 객단가 × 유지 고객 수 기반 추정).\n",
        "\n",
        " - 장기 구독 고객 유지로 연간 매출 손실 약 240억 원을 예방.\n",
        "\n",
        " - 고위험 고객 11명 중 6명만 유지해도 월 약 2천만 원 이상의 매출 추가 확보 가능.\n",
        "\n",
        "3. ROI (투자 대비 효과)\n",
        "\n",
        " - 맞춤형 쿠폰 및 개인화 마케팅 비용 약 5천만 원을 투자하여 **최소 4억 원 이상의 매출 효과(ROI 약 800%)**를 달성.\n",
        "\n",
        " - 콘텐츠 제작·마케팅 최적화로 불필요한 비용을 20~30% 절감, 동일 비용 대비 효율 1.5배 이상 향상.\n",
        "\n",
        "4. 고객 만족도 및 브랜드 충성도 상승\n",
        "\n",
        " - 맞춤형 콘텐츠 추천과 혜택 제공으로 고객 만족도 지표(NPS) 10%p 상승 예상.\n",
        "\n",
        " - 장기적으로 재가입율(Churn → Win-back 고객) 5% 이상 향상 및 구독자 충성도 강화.\n",
        "\n",
        "5. 데이터 활용 역량 강화\n",
        "\n",
        " - 이탈 예측 모델(AUC 0.851) 상용화로 향후 신규 고객 및 특정 세그먼트의 이탈 위험 조기 경보 시스템 구축.\n",
        "\n",
        " - 분석 인프라 및 추천 알고리즘 개선으로 개인화 마케팅 효율성을 2배 이상 강화.\n",
        "\n",
        "\n",
        "\n",
        "\n",
        "# **■ 실행 일정 (향후 3개월)**\n",
        "***1개월 차: 타겟 고객 식별 및 맞춤 마케팅 개시***\n",
        "- 이탈 예측 모델 기반 고위험·중위험 고객 리스트 확정: 고위험 고객(11명), 중위험 고객(69명)을 식별.\n",
        "- 맞춤형 프로모션 시행:\n",
        "  - 고위험 고객에게 30% 할인 쿠폰 + 신규 콘텐츠 체험권 제공.\n",
        "  - 중위험 고객에게 AI 개인화 콘텐츠 추천 이메일 발송.\n",
        "- 초기 반응 모니터링: 발송 후 2주 동안 고객 반응률(쿠폰 사용률, 시청 시간 변화) 실시간 분석.\n",
        "- 이탈률 베이스라인 측정: 현재 세그먼트별 이탈률과 평균 매출 데이터 수집 및 초기 리포트 작성.\n",
        "\n",
        "***2개월 차: 콘텐츠 전략 강화 및 추천 알고리즘 개선***\n",
        "- 콘텐츠 다양성 확대:\n",
        "  - 장르 편중 고객(세그먼트 2)에 맞춤형 큐레이션 제공.\n",
        "  - 신규 오리지널 콘텐츠(드라마·다큐·영화) 테스트 론칭.\n",
        "- 추천 시스템 고도화:\n",
        "  - AI 추천 알고리즘에 콘텐츠 다양성 지표 반영, 개인화 추천 품질 향상.\n",
        "  - 파일럿 테스트 → CTR(클릭률) 및 시청완료율 기반 모델 보정.\n",
        "- 마케팅 실험:\n",
        "  - 중위험 고객에게 2차 리타겟팅 캠페인 및 푸시 알림 시행.\n",
        "- 중간 성과 점검: 1개월 차 대비 이탈률 변화, 쿠폰 발행 대비 ROI 분석.\n",
        "\n",
        "***3개월 차: 성과 측정 및 전략 고도화***\n",
        "- 최종 성과 분석:\n",
        "  - 이탈률 변화율, 매출 회복 수치, ROI 등 비즈니스 성과 평가.\n",
        "  - 고위험·중위험 고객군의 실제 유지율 및 재구매율 분석.\n",
        "- 차기 분기 전략 수립:\n",
        "  - 상위 성과 전략(콘텐츠 다양화, 맞춤형 쿠폰 등) 정규 프로세스화.\n",
        "  - 고급 예측 모델(랜덤포레스트, XGBoost) 추가 개발 계획 수립.\n",
        "- 보고서 제출: 3개월간 실행 성과 + 개선 방향을 정리한 최종 보고서 제출.\n",
        "\n",
        "# **■ 필요 리소스**\n",
        "\n",
        "- 인력: 데이터 분석가 1명, 마케팅 담당자 2명, 콘텐츠 기획자 2명\n",
        "\n",
        "- 예산: 고객 유지 프로그램(쿠폰 및 마케팅 비용) 약 5천만 원\n",
        "\n",
        "- 시스템: AI 추천 알고리즘 고도화 및 CRM 리마케팅 자동화 시스템 구축"
      ],
      "metadata": {
        "id": "rFLGY4ty7cHR"
      }
    }
  ]
}