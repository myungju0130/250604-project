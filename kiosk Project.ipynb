{
 "cells": [
  {
   "cell_type": "code",
   "execution_count": 1,
   "id": "5bb29198",
   "metadata": {},
   "outputs": [
    {
     "name": "stdout",
     "output_type": "stream",
     "text": [
      "넓이를 구하고 싶은 사각형의 숫자를 써주세요.\n",
      " 1.직사각형 2.평행사변형 3.사다리꼴 \n",
      " >>>1\n",
      "직사각형 함수는 rect()입니다.\n"
     ]
    }
   ],
   "source": [
    "# 사각형 넓이를 구하는 클래스 완성!\n",
    "class Square:\n",
    "    def __init__(self):\n",
    "        self.square = int(input('넓이를 구하고 싶은 사각형의 숫자를 써주세요.\\n 1.직사각형 2.평행사변형 3.사다리꼴 \\n >>>'))\n",
    "\n",
    "        if self.square == 1:\n",
    "            print('직사각형 함수는 rect()입니다.')\n",
    "\n",
    "        elif self.square == 2:\n",
    "            print('평행사변형 함수는 par()입니다.')\n",
    "        \n",
    "        elif self.square == 3:\n",
    "            print('사다리꼴 함수는 trape()입니다.')\n",
    "        \n",
    "        else:\n",
    "            print('1, 2, 3 중에서 다시 입력해주세요')\n",
    "\n",
    "    def rect(self):\n",
    "        width, vertical = map(int, input('가로, 세로를 입력하세요. 예시 : 가로,세로\\n >>>').split(','))\n",
    "        area = width * vertical\n",
    "        result = '직사각형의 넓이는 : ' + str(area)\n",
    "        return result\n",
    "\n",
    "    def par(self):\n",
    "        lower, height = map(int, input('밑변, 높이를 입력하세요. 예시 : 밑변,높이\\n >>>').split(','))\n",
    "        area = lower * height\n",
    "        result = '평행사변형의 넓이는 : ' + str(area)\n",
    "        return result\n",
    "\n",
    "    def trape(self):\n",
    "        lower, upper, height = map(int, input('밑변,윗변,높이를 입력하세요. 예시 : 밑변,윗변,높이\\n >>>').split(','))\n",
    "        area = (lower + upper) * height / 2\n",
    "        result = '사다리꼴의 넓이는 : ' + str(area)\n",
    "        return result\n",
    "\n",
    "a = Square()  # 객체 생성 & 2, 3을 각각 입력해 봅시다."
   ]
  },
  {
   "cell_type": "code",
   "execution_count": 2,
   "id": "dad965ed",
   "metadata": {},
   "outputs": [
    {
     "name": "stdout",
     "output_type": "stream",
     "text": [
      "가로, 세로를 입력하세요. 예시 : 가로,세로\n",
      " >>>1,2\n"
     ]
    },
    {
     "data": {
      "text/plain": [
       "'직사각형의 넓이는 : 2'"
      ]
     },
     "execution_count": 2,
     "metadata": {},
     "output_type": "execute_result"
    }
   ],
   "source": [
    "a.rect()"
   ]
  },
  {
   "cell_type": "code",
   "execution_count": 3,
   "id": "8d1b53e1",
   "metadata": {},
   "outputs": [
    {
     "name": "stdout",
     "output_type": "stream",
     "text": [
      "밑변, 높이를 입력하세요. 예시 : 밑변,높이\n",
      " >>>3,2\n"
     ]
    },
    {
     "data": {
      "text/plain": [
       "'평행사변형의 넓이는 : 6'"
      ]
     },
     "execution_count": 3,
     "metadata": {},
     "output_type": "execute_result"
    }
   ],
   "source": [
    "a.par()  # 3,2를 입력했을 때 넓이가 6이 나와야 합니다."
   ]
  },
  {
   "cell_type": "code",
   "execution_count": 5,
   "id": "7f022723",
   "metadata": {},
   "outputs": [
    {
     "name": "stdout",
     "output_type": "stream",
     "text": [
      "밑변,윗변,높이를 입력하세요. 예시 : 밑변,윗변,높이\n",
      " >>>3,2,1\n"
     ]
    },
    {
     "data": {
      "text/plain": [
       "'사다리꼴의 넓이는 : 2.5'"
      ]
     },
     "execution_count": 5,
     "metadata": {},
     "output_type": "execute_result"
    }
   ],
   "source": [
    "a.trape()  # 3,2,1 을 입력했을 때 넓이가 2.5이 나와야 합니다."
   ]
  },
  {
   "cell_type": "code",
   "execution_count": 1,
   "id": "533febb1",
   "metadata": {},
   "outputs": [
    {
     "name": "stdout",
     "output_type": "stream",
     "text": [
      "1 americano  :  2000 원\n",
      "2 latte  :  3000 원\n",
      "3 mocha  :  3000 원\n",
      "4 yuza_tea  :  2500 원\n",
      "5 green_tea  :  2500 원\n",
      "6 choco_latte  :  3000 원\n",
      "\n",
      "음료 번호를 입력하세요 : 5\n",
      "HOT 음료는 1을, ICE 음료는 2를 입력하세요 : 1\n",
      "주문 음료 HOT green_tea  :  2500 원\n",
      "\n",
      "추가 주문은 음료 번호를, 지불은 0을 누르세요 : 2\n",
      "HOT 음료는 1을, ICE 음료는 2를 입력하세요 : 2\n",
      "추가 주문 음료 ICE latte : 3000 원\n",
      " 합계 :  5500 원\n",
      "\n",
      "추가 주문은 음료 번호를, 지불은 0을 누르세요 : 3\n",
      "HOT 음료는 1을, ICE 음료는 2를 입력하세요 : 3\n",
      "1과 2 중 하나를 입력하세요.\n",
      "\n",
      "HOT 음료는 1을, ICE 음료는 2를 입력하세요 : 2\n",
      "추가 주문 음료 ICE mocha : 3000 원\n",
      " 합계 :  8500 원\n",
      "\n",
      "추가 주문은 음료 번호를, 지불은 0을 누르세요 : 0\n",
      "주문이 완료되었습니다.\n",
      "['HOT green_tea', 'ICE latte', 'ICE mocha'] [2500, 3000, 3000]\n",
      "\n",
      "총 합계 금액은 8500 원 입니다.\n",
      "현금 결제는 1번, 카드 결제는 2번을 입력해 주세요. : 2\n",
      "IC칩 방향에 맞게 카드를 꽂아주세요.\n",
      "⟝------------------------------⟞\n",
      "|                               |\n",
      "|                               |\n",
      "|                               |\n",
      "|                               |\n",
      "|                               |\n",
      "HOT green_tea : 2500 원\n",
      "ICE latte : 3000 원\n",
      "ICE mocha : 3000 원\n",
      "\n",
      "총 합계 금액 8500 원\n",
      "|                               |\n",
      "|                               |\n",
      "|                               |\n",
      "|                               |\n",
      "|                               |\n",
      "⟝------------------------------⟞\n"
     ]
    }
   ],
   "source": [
    "class Kiosk:\n",
    "    def __init__(self):\n",
    "        self.menu=['americano', 'latte', 'mocha', 'yuza_tea', 'green_tea', 'choco_latte']\n",
    "        self.price=[2000, 3000, 3000, 2500 ,2500, 3000]\n",
    "        \n",
    "        \n",
    "# 메뉴 출력 메서드\n",
    "    def menu_print(self):\n",
    "        for i in range(len(self.menu)):\n",
    "            print(i+1, self.menu[i], ' : ', self.price[i], '원')\n",
    "# 메뉴 주문            \n",
    "    def menu_select(self):\n",
    "        print()  # 줄 바꿈\n",
    "        self.order_menu=[]\n",
    "        self.order_price=[]\n",
    "        n = int(input(\"음료 번호를 입력하세요 : \"))  # 음료 번호 입력\n",
    "        self.price_sum = self.price[n-1]\n",
    "            \n",
    "    # 음료 온도 물어보기/ 주문 받기 안에 \n",
    "        t = 0  # 기본값을 넣어주고\n",
    "        while t != 1 and t != 2:  # 연산자값 True면 반복, 1이나 2를 입력할 때까지.\n",
    "            t= int(input(\"HOT 음료는 1을, ICE 음료는 2를 입력하세요 : \"))     \n",
    "            if t==1:\n",
    "                self.temp=\"HOT\"\n",
    "            elif t==2:\n",
    "                self.temp=\"ICE\"\n",
    "            else:    \n",
    "                print(\"1과 2 중 하나를 입력하세요.\\n\")\n",
    "                \n",
    "        self.order_menu.append(self.temp + ' ' + self.menu[n-1])\n",
    "        self.order_price.append(self.price[n-1])\n",
    "        \n",
    "        print('주문 음료', self.temp, self.menu[n-1], ' : ', self.price[n-1], '원')\n",
    "        \n",
    "        # 추가 주문 또는 지불\n",
    "        while n != 0:  # 지불을 선택하기 전까지 반복합니다.\n",
    "            print()  # 줄 바꾸면서\n",
    "            n = int(input(\"추가 주문은 음료 번호를, 지불은 0을 누르세요 : \"))\n",
    "            if n > 0 and n < len(self.menu) + 1: # 추가주문이면,\n",
    "                t = 0\n",
    "                while t != 1 and t != 2:\n",
    "                    t= int(input(\"HOT 음료는 1을, ICE 음료는 2를 입력하세요 : \"))\n",
    "                    if t==1:\n",
    "                        self.temp=\"HOT\"\n",
    "                    elif t==2:\n",
    "                        self.temp=\"ICE\" \n",
    "                    else:\n",
    "                        print(\"1과 2 중 하나를 입력하세요.\\n\")\n",
    "                self.order_price.append(self.price[n-1])\n",
    "                self.order_menu.append(self.temp + ' ' + self.menu[n-1])\n",
    "                self.price_sum += self.price[n-1]\n",
    "                \n",
    "                print('추가 주문 음료', self.temp, self.menu[n-1], ':',  self.price[n-1], '원\\n', '합계 : ', self.price_sum, '원')\n",
    "            else :\n",
    "                if n == 0 :  # 지불을 입력하면\n",
    "                    print(\"주문이 완료되었습니다.\")\n",
    "                    print(self.order_menu, self.order_price)  # 확인을 위한 리스트를 출력합니다.\n",
    "                else :  # 없는 번호를 입력할 때\n",
    "                    print(\"없는 메뉴입니다. 다시 주문해 주세요.\")\n",
    "                    \n",
    "    def pay(self):\n",
    "        print()\n",
    "        print('총 합계 금액은', self.price_sum, '원 입니다.')\n",
    "        self.pay_method = 0\n",
    "        while self.pay_method !=1 and self.pay_method !=2:\n",
    "            self.pay_method = int(input('현금 결제는 1번, 카드 결제는 2번을 입력해 주세요. : '))\n",
    "            if self.pay_method == 1:\n",
    "                print('직원을 호출하겠습니다.')\n",
    "            elif self.pay_method == 2:\n",
    "                print('IC칩 방향에 맞게 카드를 꽂아주세요.')\n",
    "            else:\n",
    "                print('다시 시도해 주세요')\n",
    "                \n",
    "    def table(self):\n",
    "        outline1 = '⟝' + '-' * 30 + '⟞'\n",
    "        outline2 = '|' + ' ' * 31 + '|'\n",
    "    #외곽\n",
    "        print(outline1)\n",
    "        for i in range(5):\n",
    "            print(outline2)\n",
    "        \n",
    "    # 주문 내역\n",
    "        for i in range(len(self.order_menu)):\n",
    "            print(self.order_menu[i], ':',self.order_price[i], '원' )\n",
    "        print()\n",
    "        print('총 합계 금액', self.price_sum, '원')\n",
    "    \n",
    "    # 외곽\n",
    "        for i in range(5):\n",
    "            print(outline2)\n",
    "        print(outline1) \n",
    "        \n",
    "        \n",
    "a = Kiosk()\n",
    "a.menu_print()\n",
    "a.menu_select()\n",
    "a.pay()\n",
    "a.table()"
   ]
  },
  {
   "cell_type": "code",
   "execution_count": null,
   "id": "7a656676",
   "metadata": {},
   "outputs": [],
   "source": []
  }
 ],
 "metadata": {
  "kernelspec": {
   "display_name": "Python 3 (ipykernel)",
   "language": "python",
   "name": "python3"
  },
  "language_info": {
   "codemirror_mode": {
    "name": "ipython",
    "version": 3
   },
   "file_extension": ".py",
   "mimetype": "text/x-python",
   "name": "python",
   "nbconvert_exporter": "python",
   "pygments_lexer": "ipython3",
   "version": "3.9.7"
  }
 },
 "nbformat": 4,
 "nbformat_minor": 5
}
