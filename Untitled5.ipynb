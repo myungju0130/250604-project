{
  "nbformat": 4,
  "nbformat_minor": 0,
  "metadata": {
    "colab": {
      "provenance": [],
      "authorship_tag": "ABX9TyOnFtl60wv4AZEyO1E3Na6c",
      "include_colab_link": true
    },
    "kernelspec": {
      "name": "python3",
      "display_name": "Python 3"
    },
    "language_info": {
      "name": "python"
    }
  },
  "cells": [
    {
      "cell_type": "markdown",
      "metadata": {
        "id": "view-in-github",
        "colab_type": "text"
      },
      "source": [
        "<a href=\"https://colab.research.google.com/github/myungju0130/250604-project/blob/main/Untitled5.ipynb\" target=\"_parent\"><img src=\"https://colab.research.google.com/assets/colab-badge.svg\" alt=\"Open In Colab\"/></a>"
      ]
    },
    {
      "cell_type": "code",
      "execution_count": 1,
      "metadata": {
        "id": "5Ivro8h7GEvB"
      },
      "outputs": [],
      "source": [
        "import pandas as pd\n",
        "import numpy as np\n",
        "\n",
        "import seaborn as sns\n",
        "from sklearn.linear_model import LinearRegression\n",
        "from sklearn.metrics import r2_score\n",
        "from scipy import stats\n",
        "\n",
        "import warnings\n",
        "warnings.filterwarnings('ignore')\n",
        "\n",
        "import matplotlib.pyplot as plt\n",
        "\n",
        "# 한글 폰트 설정\n",
        "plt.rc('font', family='NanumBarunGothic')"
      ]
    },
    {
      "cell_type": "markdown",
      "source": [
        "## 📋 미션 1: A/B 테스트 신뢰구간 분석 🧪\n",
        "\n",
        "### 🎯 학습 목표\n",
        "\n",
        "지금까지 배운 모든 개념을 종합하여 실제 비즈니스 문제에 적용해보기\n",
        "\n",
        "### 📖 배경 스토리\n",
        "\n",
        "여러분은 온라인 쇼핑몰의 데이터 분석가입니다! 🛒\n",
        "\n",
        "- **기존 웹사이트(A)**: 파란색 구매 버튼\n",
        "- **새로운 웹사이트(B)**: 빨간색 구매 버튼\n",
        "\n",
        "경영진이 묻습니다: \"빨간색 버튼이 정말 더 좋은가요? 확실한 증거가 있나요?\""
      ],
      "metadata": {
        "id": "uTd8ueJmGu6w"
      }
    },
    {
      "cell_type": "code",
      "source": [
        "# A/B 테스트 데이터 생성\n",
        "np.random.seed(404)\n",
        "\n",
        "# A그룹 (기존 디자인): 전환율 12%\n",
        "n_a = 500\n",
        "conversion_rate_a = 0.12\n",
        "conversions_a = np.random.binomial(1, conversion_rate_a, n_a)\n",
        "\n",
        "# B그룹 (새 디자인): 전환율 15%\n",
        "n_b = 500\n",
        "conversion_rate_b = 0.15\n",
        "conversions_b = np.random.binomial(1, conversion_rate_b, n_b)\n",
        "\n",
        "# 데이터프레임 생성\n",
        "ab_test_data = pd.DataFrame({\n",
        "    'group': ['A']*n_a + ['B']*n_b,\n",
        "    'user_id': range(1, n_a + n_b + 1),\n",
        "    'converted': np.concatenate([conversions_a, conversions_b])\n",
        "})\n",
        "\n",
        "print(\"🧪 A/B 테스트 데이터\")\n",
        "print(f\"A그룹 사용자 수: {n_a}명\")\n",
        "print(f\"B그룹 사용자 수: {n_b}명\")\n",
        "print(\"\\n그룹별 전환율:\")\n",
        "conversion_summary = ab_test_data.groupby('group')['converted'].agg(['count', 'sum', 'mean'])\n",
        "conversion_summary.columns = ['총_사용자수', '전환_사용자수', '전환율']\n",
        "print(conversion_summary)"
      ],
      "metadata": {
        "colab": {
          "base_uri": "https://localhost:8080/"
        },
        "id": "s3MfSH7vG4LZ",
        "outputId": "b331a5e5-fe4e-4dc0-80fb-9a2373ff0870"
      },
      "execution_count": 2,
      "outputs": [
        {
          "output_type": "stream",
          "name": "stdout",
          "text": [
            "🧪 A/B 테스트 데이터\n",
            "A그룹 사용자 수: 500명\n",
            "B그룹 사용자 수: 500명\n",
            "\n",
            "그룹별 전환율:\n",
            "       총_사용자수  전환_사용자수    전환율\n",
            "group                        \n",
            "A         500       60  0.120\n",
            "B         500       56  0.112\n"
          ]
        }
      ]
    },
    {
      "cell_type": "markdown",
      "source": [
        "### ✅ **문제 1-1: 기본 통계량 계산하기** 🎯\n",
        "\n",
        "**🤔 해야할 일:** A그룹과 B그룹의 전환율과 표준오차를 계산해보세요."
      ],
      "metadata": {
        "id": "d5kWUuO8IOA9"
      }
    },
    {
      "cell_type": "code",
      "source": [
        "# TODO: p_a 계산하기 (A그룹 전환율)\n",
        "p_a = conversions_a.mean()\n",
        "\n",
        "# TODO: p_b 계산하기 (B그룹 전환율)\n",
        "p_b = conversions_b.mean()\n",
        "\n",
        "# TODO: A그룹 표준오차 계산하기\n",
        "# 힌트: 비율의 표준오차 공식은 sqrt(p(1-p)/n)\n",
        "se_a = np.sqrt(p_a * (1 - p_a) / n_a)\n",
        "\n",
        "# TODO: B그룹 표준오차 계산하기\n",
        "se_b = np.sqrt(p_b * (1 - p_b) / n_b)\n",
        "\n",
        "print(f\"A그룹 전환율: {p_a:.3f} ± {se_a:.3f}\")\n",
        "print(f\"B그룹 전환율: {p_b:.3f} ± {se_b:.3f}\")"
      ],
      "metadata": {
        "colab": {
          "base_uri": "https://localhost:8080/"
        },
        "id": "N5M1Et12G6h6",
        "outputId": "c735c506-70a4-4e28-8f05-82f9e50ec709"
      },
      "execution_count": 5,
      "outputs": [
        {
          "output_type": "stream",
          "name": "stdout",
          "text": [
            "A그룹 전환율: 0.120 ± 0.015\n",
            "B그룹 전환율: 0.112 ± 0.014\n"
          ]
        }
      ]
    },
    {
      "cell_type": "markdown",
      "source": [
        "### ✅ **문제 1-2: A그룹 신뢰구간 계산하기** 🎯\n",
        "\n",
        "**🤔 해야할 일:** A그룹의 95% 신뢰구간을 계산해보세요."
      ],
      "metadata": {
        "id": "zlhSF_e1IW77"
      }
    },
    {
      "cell_type": "code",
      "source": [
        "# TODO: 95% 신뢰구간용 z값 설정\n",
        "z_score = 1.96  # 95% 신뢰구간에 해당하는 z값\n",
        "\n",
        "# TODO: A그룹 신뢰구간 하한 계산\n",
        "ci_a_lower = p_a - z_score * se_a\n",
        "\n",
        "# TODO: A그룹 신뢰구간 상한 계산\n",
        "ci_a_upper = p_a + z_score * se_a\n",
        "\n",
        "print(f\"A그룹 95% 신뢰구간: [{ci_a_lower:.3f}, {ci_a_upper:.3f}]\")"
      ],
      "metadata": {
        "colab": {
          "base_uri": "https://localhost:8080/"
        },
        "id": "0SqNNh6iIcQa",
        "outputId": "9cac4d42-0963-4fef-a2fd-9b38dd44b517"
      },
      "execution_count": 6,
      "outputs": [
        {
          "output_type": "stream",
          "name": "stdout",
          "text": [
            "A그룹 95% 신뢰구간: [0.092, 0.148]\n"
          ]
        }
      ]
    },
    {
      "cell_type": "markdown",
      "source": [
        "### ✅ **문제 1-3: B그룹 신뢰구간 계산하기** 🎯\n",
        "\n",
        "**🤔 해야할 일:** B그룹의 95% 신뢰구간을 계산해보세요."
      ],
      "metadata": {
        "id": "v9LRshIZIcxM"
      }
    },
    {
      "cell_type": "code",
      "source": [
        "# TODO: B그룹 신뢰구간 하한 계산\n",
        "ci_b_lower = p_b - z_score * se_b\n",
        "\n",
        "# TODO: B그룹 신뢰구간 상한 계산\n",
        "ci_b_upper = p_b + z_score * se_b\n",
        "\n",
        "print(f\"B그룹 95% 신뢰구간: [{ci_b_lower:.3f}, {ci_b_upper:.3f}]\")"
      ],
      "metadata": {
        "colab": {
          "base_uri": "https://localhost:8080/"
        },
        "id": "wJht1EHmIiM3",
        "outputId": "e5371003-9438-4d2b-d8a2-892bc7236833"
      },
      "execution_count": 7,
      "outputs": [
        {
          "output_type": "stream",
          "name": "stdout",
          "text": [
            "B그룹 95% 신뢰구간: [0.084, 0.140]\n"
          ]
        }
      ]
    },
    {
      "cell_type": "markdown",
      "source": [
        "### ✅ **문제 1-4: 그룹별 신뢰구간 시각화하기** 📊\n",
        "\n",
        "**🤔 해야할 일:** 막대그래프로 두 그룹의 전환율과 신뢰구간을 그려보세요."
      ],
      "metadata": {
        "id": "2rBKdtWyIibj"
      }
    },
    {
      "cell_type": "code",
      "source": [
        "# TODO: 그래프 그리기\n",
        "plt.figure(figsize=(10, 6))\n",
        "\n",
        "# TODO: 그룹명과 전환율 리스트 만들기\n",
        "groups = ['A그룹', 'B그룹']\n",
        "rates = [p_a, p_b]\n",
        "\n",
        "# TODO: 오차막대 크기 계산 (z_score * 표준오차)\n",
        "errors = [z_score * se_a, z_score * se_b]\n",
        "\n",
        "# TODO: 막대그래프 그리기\n",
        "# 힌트: plt.bar(x, height, yerr=오차막대, capsize=10, alpha=0.7)\n",
        "plt.bar(groups, rates, yerr=errors, capsize=10, alpha=0.7)\n",
        "\n",
        "plt.ylabel('전환율')\n",
        "plt.title('그룹별 전환율과 95% 신뢰구간')\n",
        "plt.show()"
      ],
      "metadata": {
        "colab": {
          "base_uri": "https://localhost:8080/",
          "height": 1000
        },
        "id": "KIL5Kz9zIlDY",
        "outputId": "4f768b14-755a-4a73-e1fd-408930a700af"
      },
      "execution_count": 8,
      "outputs": [
        {
          "output_type": "stream",
          "name": "stderr",
          "text": [
            "WARNING:matplotlib.font_manager:findfont: Font family 'NanumBarunGothic' not found.\n",
            "WARNING:matplotlib.font_manager:findfont: Font family 'NanumBarunGothic' not found.\n",
            "WARNING:matplotlib.font_manager:findfont: Font family 'NanumBarunGothic' not found.\n",
            "WARNING:matplotlib.font_manager:findfont: Font family 'NanumBarunGothic' not found.\n",
            "WARNING:matplotlib.font_manager:findfont: Font family 'NanumBarunGothic' not found.\n",
            "WARNING:matplotlib.font_manager:findfont: Font family 'NanumBarunGothic' not found.\n",
            "WARNING:matplotlib.font_manager:findfont: Font family 'NanumBarunGothic' not found.\n",
            "WARNING:matplotlib.font_manager:findfont: Font family 'NanumBarunGothic' not found.\n",
            "WARNING:matplotlib.font_manager:findfont: Font family 'NanumBarunGothic' not found.\n",
            "WARNING:matplotlib.font_manager:findfont: Font family 'NanumBarunGothic' not found.\n",
            "WARNING:matplotlib.font_manager:findfont: Font family 'NanumBarunGothic' not found.\n",
            "WARNING:matplotlib.font_manager:findfont: Font family 'NanumBarunGothic' not found.\n",
            "WARNING:matplotlib.font_manager:findfont: Font family 'NanumBarunGothic' not found.\n",
            "WARNING:matplotlib.font_manager:findfont: Font family 'NanumBarunGothic' not found.\n",
            "WARNING:matplotlib.font_manager:findfont: Font family 'NanumBarunGothic' not found.\n",
            "WARNING:matplotlib.font_manager:findfont: Font family 'NanumBarunGothic' not found.\n",
            "WARNING:matplotlib.font_manager:findfont: Font family 'NanumBarunGothic' not found.\n",
            "WARNING:matplotlib.font_manager:findfont: Font family 'NanumBarunGothic' not found.\n",
            "WARNING:matplotlib.font_manager:findfont: Font family 'NanumBarunGothic' not found.\n",
            "WARNING:matplotlib.font_manager:findfont: Font family 'NanumBarunGothic' not found.\n",
            "WARNING:matplotlib.font_manager:findfont: Font family 'NanumBarunGothic' not found.\n",
            "WARNING:matplotlib.font_manager:findfont: Font family 'NanumBarunGothic' not found.\n",
            "WARNING:matplotlib.font_manager:findfont: Font family 'NanumBarunGothic' not found.\n",
            "WARNING:matplotlib.font_manager:findfont: Font family 'NanumBarunGothic' not found.\n",
            "WARNING:matplotlib.font_manager:findfont: Font family 'NanumBarunGothic' not found.\n",
            "WARNING:matplotlib.font_manager:findfont: Font family 'NanumBarunGothic' not found.\n",
            "WARNING:matplotlib.font_manager:findfont: Font family 'NanumBarunGothic' not found.\n",
            "WARNING:matplotlib.font_manager:findfont: Font family 'NanumBarunGothic' not found.\n",
            "WARNING:matplotlib.font_manager:findfont: Font family 'NanumBarunGothic' not found.\n",
            "WARNING:matplotlib.font_manager:findfont: Font family 'NanumBarunGothic' not found.\n",
            "WARNING:matplotlib.font_manager:findfont: Font family 'NanumBarunGothic' not found.\n",
            "WARNING:matplotlib.font_manager:findfont: Font family 'NanumBarunGothic' not found.\n",
            "WARNING:matplotlib.font_manager:findfont: Font family 'NanumBarunGothic' not found.\n",
            "WARNING:matplotlib.font_manager:findfont: Font family 'NanumBarunGothic' not found.\n",
            "WARNING:matplotlib.font_manager:findfont: Font family 'NanumBarunGothic' not found.\n",
            "WARNING:matplotlib.font_manager:findfont: Font family 'NanumBarunGothic' not found.\n",
            "WARNING:matplotlib.font_manager:findfont: Font family 'NanumBarunGothic' not found.\n",
            "WARNING:matplotlib.font_manager:findfont: Font family 'NanumBarunGothic' not found.\n",
            "WARNING:matplotlib.font_manager:findfont: Font family 'NanumBarunGothic' not found.\n",
            "WARNING:matplotlib.font_manager:findfont: Font family 'NanumBarunGothic' not found.\n"
          ]
        },
        {
          "output_type": "display_data",
          "data": {
            "text/plain": [
              "<Figure size 1000x600 with 1 Axes>"
            ],
            "image/png": "[encoded data removed]"
          },
          "metadata": {}
        }
      ]
    },
    {
      "cell_type": "markdown",
      "source": [
        "### ✅ **문제 1-5: 전환율 차이 계산하기** 📊\n",
        "\n",
        "**🤔 해야할 일:** B그룹이 A그룹보다 얼마나 더 좋은지 계산해보세요."
      ],
      "metadata": {
        "id": "g6iI_YrFIlaK"
      }
    },
    {
      "cell_type": "code",
      "source": [
        "# TODO: 전환율 차이 계산 (B - A)\n",
        "diff = p_b - p_a\n",
        "\n",
        "# TODO: 차이의 표준오차 계산\n",
        "# 힌트: 두 독립 비율 차이의 표준오차는 sqrt(se_a^2 + se_b^2)\n",
        "se_diff = np.sqrt(se_a**2 + se_b**2)\n",
        "\n",
        "print(f\"전환율 차이 (B-A): {diff:.3f}\")\n",
        "print(f\"차이의 표준오차: {se_diff:.3f}\")"
      ],
      "metadata": {
        "colab": {
          "base_uri": "https://localhost:8080/"
        },
        "id": "CS3u3kR4Inzy",
        "outputId": "c6572dad-42c3-4359-d5fe-f0ce13086557"
      },
      "execution_count": 9,
      "outputs": [
        {
          "output_type": "stream",
          "name": "stdout",
          "text": [
            "전환율 차이 (B-A): -0.008\n",
            "차이의 표준오차: 0.020\n"
          ]
        }
      ]
    },
    {
      "cell_type": "markdown",
      "source": [
        "### ✅ **문제 1-6: 차이의 신뢰구간 계산하기** 🎯\n",
        "\n",
        "**🤔 해야할 일:** 전환율 차이의 95% 신뢰구간을 계산해보세요."
      ],
      "metadata": {
        "id": "nEpYdrlKIoGh"
      }
    },
    {
      "cell_type": "code",
      "source": [
        "# TODO: 차이의 신뢰구간 하한 계산\n",
        "ci_diff_lower = diff - 1.96 * se_diff\n",
        "\n",
        "# TODO: 차이의 신뢰구간 상한 계산\n",
        "ci_diff_upper = diff + 1.96 * se_diff\n",
        "\n",
        "print(f\"전환율 차이의 95% 신뢰구간: [{ci_diff_lower:.3f}, {ci_diff_upper:.3f}]\")\n",
        "\n",
        "# TODO: 0이 포함되는지 확인하기\n",
        "if ci_diff_lower > 0:\n",
        "    print(\"🎉 B가 A보다 확실히 좋습니다!\")\n",
        "elif ci_diff_upper < 0:\n",
        "    print(\"😢 A가 B보다 확실히 좋습니다.\")\n",
        "else:\n",
        "    print(\"🤔 확실하지 않습니다.\")"
      ],
      "metadata": {
        "colab": {
          "base_uri": "https://localhost:8080/"
        },
        "id": "430iZAkxIrg9",
        "outputId": "632b7429-5b3c-44eb-ebcd-42ee30e1fffe"
      },
      "execution_count": 10,
      "outputs": [
        {
          "output_type": "stream",
          "name": "stdout",
          "text": [
            "전환율 차이의 95% 신뢰구간: [-0.048, 0.032]\n",
            "🤔 확실하지 않습니다.\n"
          ]
        }
      ]
    },
    {
      "cell_type": "markdown",
      "source": [
        "### ✅ **문제 1-7: 경영진 보고서 작성하기** 💼\n",
        "\n",
        "**🤔 해야할 일:** 분석 결과를 정리해서 보고서를 만들어보세요."
      ],
      "metadata": {
        "id": "yVPFNu_rIsGw"
      }
    },
    {
      "cell_type": "code",
      "source": [
        "# TODO: 보고서 완성하기\n",
        "print(\"📋 경영진 보고서\")\n",
        "print(\"=\"*50)\n",
        "print(f\"🔍 분석 결과:\")\n",
        "print(f\"   • A그룹 전환율: {p_a:.1%}\")\n",
        "print(f\"   • B그룹 전환율: {p_b:.1%}\")\n",
        "print(f\"   • 개선 효과: {diff:.1%}p\")\n",
        "print()\n",
        "print(f\"📊 통계적 신뢰도:\")\n",
        "print(f\"   • 개선 효과 범위: {ci_diff_lower:.1%}p ~ {ci_diff_upper:.1%}p\")\n",
        "print()\n",
        "print(\"💡 의사결정:\")\n",
        "\n",
        "# TODO: if문을 사용해서 권장사항 작성하기\n",
        "# 힌트: ci_diff_lower > 0이면 새 디자인 도입 권장\n",
        "if ci_diff_lower > 0:\n",
        "    print(\"   ✅ 새 디자인(B) 도입을 권장합니다!\")\n",
        "else:\n",
        "    print(\"   ❌ 추가 데이터 수집이 필요합니다.\")"
      ],
      "metadata": {
        "colab": {
          "base_uri": "https://localhost:8080/"
        },
        "id": "NUXv6ETpIutG",
        "outputId": "8f0f713c-15ae-4fdb-8180-170e77d5004c"
      },
      "execution_count": 11,
      "outputs": [
        {
          "output_type": "stream",
          "name": "stdout",
          "text": [
            "📋 경영진 보고서\n",
            "==================================================\n",
            "🔍 분석 결과:\n",
            "   • A그룹 전환율: 12.0%\n",
            "   • B그룹 전환율: 11.2%\n",
            "   • 개선 효과: -0.8%p\n",
            "\n",
            "📊 통계적 신뢰도:\n",
            "   • 개선 효과 범위: -4.8%p ~ 3.2%p\n",
            "\n",
            "💡 의사결정:\n",
            "   ❌ 추가 데이터 수집이 필요합니다.\n"
          ]
        }
      ]
    },
    {
      "cell_type": "markdown",
      "source": [
        "# **1. 테스트 목적**\n",
        "\n",
        "“빨간색 버튼(B)이 기존 파란색 버튼(A)보다 구매 전환율을 높이는가?”\n",
        "\n",
        "이를 명확히 검증하기 위해, 전략적 의사결정을 위한 B 버튼의 성과를 정량적으로 검증하는 A/B 테스트 수행\n",
        "\n",
        "# **2. 테스트 결과**\n",
        "A그룹 (파란색): 전환율 12.0%\n",
        "\n",
        "B그룹 (빨간색): 전환율 11.2%\n",
        "\n",
        "전환율 차이 (B - A): -0.8%p\n",
        "\n",
        "95% 신뢰구간: [-4.8%p ~ 3.2%p]\n",
        "→ 0을 포함:\n",
        "***“B가 더 낫다”는 결론을 통계적으로 지지할 수 없음.***\n",
        "\n",
        "# **3. 분석 인사이트**\n",
        "\n",
        "**3.1. 데이터 신뢰도:**\n",
        "\n",
        " 3.1.1. 1,000명(각 그룹 500명) 데이터로 통계적 분석을 수행한 결과, 표본오차를 고려해도 B가 A보다 유리하다는 증거가 없다는 결론입니다.\n",
        "\n",
        "3.1.2.  오히려 평균 전환율은 B가 A보다 낮게 측정되었습니다.\n",
        "\n",
        "**3.2. 리스크 관리 관점:**\n",
        "\n",
        "3.2.1. 근거 없는 버튼 교체는 실제 구매 전환율 감소로 이어질 위험이 존재.\n",
        "\n",
        "3.2.2. 신뢰구간의 하한값(-4.8%p)은 최악의 경우 B 버튼이 A 대비 4.8%p나 낮은 성과를 낼 수 있음을 시사.\n",
        "\n",
        "**3.3  데이터 기반 의사결정:**\n",
        "\n",
        "감에 의존하지 않고 통계적으로 검증된 증거를 기반으로 의사결정을 내리는 것이 ROI와 리스크 관리 측면에서 유리합니다.\n",
        "\n",
        "# **4. 권고 사항**\n",
        "**4.1 지금은 B 버튼 도입을 보류**\n",
        "\n",
        "- 데이터가 통계적으로 B의 우월성을 뒷받침하지 못하므로, 현 시점에서 변경은 리스크가 큼.\n",
        "\n",
        "**4.2 추가 실험:**\n",
        "\n",
        "- 샘플 수를 최소 2~3배(1,500명 이상)로 확장해 분석 정밀도를 높임.\n",
        "\n",
        "- 버튼 색상 외에 위치, 문구, 애니메이션 요소 등 UI 개선안을 동시 검토.\n",
        "\n",
        "- 전환율 외에 클릭률(CTR) 등 중간 지표도 분석하여 전체 퍼널 최적화.\n",
        "\n",
        "# **5. 결론**\n",
        "현 시점에서 B 버튼의 성과 우위를 입증할 통계적 근거가 부족하므로, 충분한 데이터가 확보될 때까지 A 버튼을 유지하고 추가 검증을 진행하는 것이 최선의 전략입니다.\n",
        "\n"
      ],
      "metadata": {
        "id": "AWm_j-wTNDRE"
      }
    },
    {
      "cell_type": "markdown",
      "source": [
        "## 📋 미션 2: 연령대별 구매 분석 (t-검정 마스터하기!) 👥\n",
        "\n",
        "### 🎯 학습 목표\n",
        "\n",
        "t-검정의 다양한 종류를 실전에서 완벽하게 활용하기\n",
        "\n",
        "### 📖 배경 스토리\n",
        "\n",
        "온라인 쇼핑몰에서 \"연령대에 따라 구매 패턴이 다를까?\" 하는 궁금증이 생겼습니다.\n",
        "\n",
        "### 💾 데이터 생성"
      ],
      "metadata": {
        "id": "QsDS0fRbIu-h"
      }
    },
    {
      "cell_type": "code",
      "source": [
        "# 온라인 쇼핑몰의 구매 데이터\n",
        "np.random.seed(789)\n",
        "ages = np.random.randint(20, 60, 100)\n",
        "purchase_amounts = 50 + 2*ages + np.random.normal(0, 20, 100)\n",
        "\n",
        "print(\"📊 구매 데이터 미리보기\")\n",
        "print(f\"연령 범위: {ages.min()}세 ~ {ages.max()}세\")\n",
        "print(f\"구매금액 범위: {purchase_amounts.min():.0f}만원 ~ {purchase_amounts.max():.0f}만원\")\n",
        "print(f\"평균 구매금액: {purchase_amounts.mean():.1f}만원\")"
      ],
      "metadata": {
        "colab": {
          "base_uri": "https://localhost:8080/"
        },
        "id": "dsrcsEebIyB2",
        "outputId": "81c7a7f0-d012-4f62-d680-f9d91610cd18"
      },
      "execution_count": 3,
      "outputs": [
        {
          "output_type": "stream",
          "name": "stdout",
          "text": [
            "📊 구매 데이터 미리보기\n",
            "연령 범위: 20세 ~ 59세\n",
            "구매금액 범위: 39만원 ~ 208만원\n",
            "평균 구매금액: 130.1만원\n"
          ]
        }
      ]
    },
    {
      "cell_type": "markdown",
      "source": [
        "### ✅ **문제 2-1: 기본 통계량 계산하기** 🎯\n",
        "\n",
        "**🤔 해야할 일:** 일표본 t-검정을 위한 기본 통계량을 계산해보세요."
      ],
      "metadata": {
        "id": "pn4E_mYCI5ze"
      }
    },
    {
      "cell_type": "code",
      "source": [
        "# TODO: 표본 평균 계산\n",
        "sample_mean = purchase_amounts.mean()\n",
        "\n",
        "# TODO: 표본 표준편차 계산\n",
        "sample_std = purchase_amounts.std(ddof=1)\n",
        "\n",
        "# TODO: 표본 크기 계산\n",
        "n = len(purchase_amounts)\n",
        "\n",
        "# TODO: 비교할 기준값 설정 (업계 기준 150만원)\n",
        "standard_value = 150\n",
        "\n",
        "print(f\"표본 평균: {sample_mean:.2f}만원\")\n",
        "print(f\"표본 표준편차: {sample_std:.2f}만원\")\n",
        "print(f\"표본 크기: {n}명\")\n",
        "print(f\"비교 기준값: {standard_value}만원\")"
      ],
      "metadata": {
        "colab": {
          "base_uri": "https://localhost:8080/"
        },
        "id": "LZSCOnSQI6sN",
        "outputId": "b6a0e690-7432-44ee-da84-253948ae22b0"
      },
      "execution_count": 12,
      "outputs": [
        {
          "output_type": "stream",
          "name": "stdout",
          "text": [
            "표본 평균: 130.09만원\n",
            "표본 표준편차: 33.90만원\n",
            "표본 크기: 100명\n",
            "비교 기준값: 150만원\n"
          ]
        }
      ]
    },
    {
      "cell_type": "markdown",
      "source": [
        "### ✅ **문제 2-2: t-통계량 직접 계산하기** 🧮\n",
        "\n",
        "**🤔 해야할 일:** t-검정의 t값을 직접 계산해보세요."
      ],
      "metadata": {
        "id": "BIm8hZk_I659"
      }
    },
    {
      "cell_type": "code",
      "source": [
        "# TODO: t-통계량 공식 사용하기\n",
        "# 힌트: t = (표본평균 - 기준값) / (표준편차 / sqrt(n))\n",
        "t_stat = (sample_mean - standard_value) / (sample_std / np.sqrt(n))\n",
        "\n",
        "print(f\"직접 계산한 t-통계량: {t_stat:.3f}\")\n",
        "\n",
        "# 비교를 위해 scipy로도 계산해보기\n",
        "from scipy.stats import ttest_1samp\n",
        "t_stat_scipy, p_value = ttest_1samp(purchase_amounts, standard_value)\n",
        "print(f\"scipy로 계산한 t-통계량: {t_stat_scipy:.3f}\")\n",
        "print(f\"p-value: {p_value:.4f}\")"
      ],
      "metadata": {
        "colab": {
          "base_uri": "https://localhost:8080/"
        },
        "id": "CuYJZXnMI9WO",
        "outputId": "44d3f029-52fe-4443-b8cf-61f2a8c51c98"
      },
      "execution_count": 13,
      "outputs": [
        {
          "output_type": "stream",
          "name": "stdout",
          "text": [
            "직접 계산한 t-통계량: -5.874\n",
            "scipy로 계산한 t-통계량: -5.874\n",
            "p-value: 0.0000\n"
          ]
        }
      ]
    },
    {
      "cell_type": "markdown",
      "source": [
        "### ✅ **문제 2-3: 결과 해석하기** 🎯\n",
        "\n",
        "**🤔 해야할 일:** p-value를 보고 결과를 해석해보세요."
      ],
      "metadata": {
        "id": "BWfonDbsI9lX"
      }
    },
    {
      "cell_type": "code",
      "source": [
        "# TODO: 유의수준 설정\n",
        "alpha = 0.05\n",
        "\n",
        "print(\"🎯 결과 해석\")\n",
        "\n",
        "# TODO: p-value와 alpha 비교하기\n",
        "if p_value < alpha:\n",
        "    print(f\"✅ p-value ({p_value:.4f}) < α ({alpha})\")\n",
        "    print(\"→ 귀무가설 기각! 업계 기준과 유의하게 다릅니다.\")\n",
        "\n",
        "    # TODO: 평균이 더 큰지 작은지 확인하기\n",
        "    if sample_mean > standard_value:\n",
        "        print(\"→ 우리 고객들이 업계 평균보다 더 많이 구매합니다! 🎉\")\n",
        "    else:\n",
        "        print(\"→ 우리 고객들이 업계 평균보다 적게 구매합니다. 😅\")\n",
        "else:\n",
        "    print(f\"❌ p-value ({p_value:.4f}) ≥ α ({alpha})\")\n",
        "    print(\"→ 업계 기준과 유의한 차이가 없습니다.\")"
      ],
      "metadata": {
        "colab": {
          "base_uri": "https://localhost:8080/"
        },
        "id": "7-3JXonVJAD2",
        "outputId": "75443b7a-9d01-4451-a828-a20f3e7508a9"
      },
      "execution_count": 14,
      "outputs": [
        {
          "output_type": "stream",
          "name": "stdout",
          "text": [
            "🎯 결과 해석\n",
            "✅ p-value (0.0000) < α (0.05)\n",
            "→ 귀무가설 기각! 업계 기준과 유의하게 다릅니다.\n",
            "→ 우리 고객들이 업계 평균보다 적게 구매합니다. 😅\n"
          ]
        }
      ]
    },
    {
      "cell_type": "markdown",
      "source": [
        "### ✅ **문제 2-4: 연령대별 그룹 나누기** 👥\n",
        "\n",
        "**🤔 해야할 일:** 독립표본 t-검정을 위해 데이터를 두 그룹으로 나누세요."
      ],
      "metadata": {
        "id": "2HhikAMnJAPq"
      }
    },
    {
      "cell_type": "code",
      "source": [
        "# TODO: 젊은층 데이터 필터링 (20-39세)\n",
        "young_mask = (ages >= 20) & (ages <= 39)\n",
        "group1_purchases = purchase_amounts[young_mask]\n",
        "\n",
        "# TODO: 중년층 데이터 필터링 (40-59세)\n",
        "middle_mask = (ages >= 40) & (ages <= 59)\n",
        "group2_purchases = purchase_amounts[middle_mask]\n",
        "\n",
        "print(\"👥 그룹 나누기 결과\")\n",
        "print(f\"젊은층 (20-39세): {len(group1_purchases)}명\")\n",
        "print(f\"중년층 (40-59세): {len(group2_purchases)}명\")"
      ],
      "metadata": {
        "colab": {
          "base_uri": "https://localhost:8080/"
        },
        "id": "GSk60d9AJCmo",
        "outputId": "57cbfdef-bb65-4f14-8fe4-0011000b2fa7"
      },
      "execution_count": 15,
      "outputs": [
        {
          "output_type": "stream",
          "name": "stdout",
          "text": [
            "👥 그룹 나누기 결과\n",
            "젊은층 (20-39세): 47명\n",
            "중년층 (40-59세): 53명\n"
          ]
        }
      ]
    },
    {
      "cell_type": "markdown",
      "source": [
        "### ✅ **문제 2-5: 그룹별 기술통계 계산하기** 📊\n",
        "\n",
        "**🤔 해야할 일:** 각 그룹의 평균과 표준편차를 계산해보세요."
      ],
      "metadata": {
        "id": "c13k85eyJCz4"
      }
    },
    {
      "cell_type": "code",
      "source": [
        "# TODO: 각 그룹의 평균 계산\n",
        "group1_mean = group1_purchases.mean()\n",
        "group2_mean = group2_purchases.mean()\n",
        "\n",
        "# TODO: 각 그룹의 표준편차 계산\n",
        "group1_std = group1_purchases.std()\n",
        "group2_std = group2_purchases.std()\n",
        "\n",
        "print(\"📊 그룹별 기술통계\")\n",
        "print(f\"젊은층 평균: {group1_mean:.1f}만원 (표준편차: {group1_std:.1f})\")\n",
        "print(f\"중년층 평균: {group2_mean:.1f}만원 (표준편차: {group2_std:.1f})\")\n",
        "\n",
        "# TODO: 평균 차이 계산\n",
        "diff = group2_mean - group1_mean\n",
        "print(f\"평균 차이: {diff:.1f}만원\")"
      ],
      "metadata": {
        "colab": {
          "base_uri": "https://localhost:8080/"
        },
        "id": "zb-w7DEeJFnT",
        "outputId": "d3988aed-0b9e-43ec-ae50-d9a1352034f0"
      },
      "execution_count": 18,
      "outputs": [
        {
          "output_type": "stream",
          "name": "stdout",
          "text": [
            "📊 그룹별 기술통계\n",
            "젊은층 평균: 106.4만원 (표준편차: 25.0)\n",
            "중년층 평균: 151.1만원 (표준편차: 25.6)\n",
            "평균 차이: 44.6만원\n"
          ]
        }
      ]
    },
    {
      "cell_type": "markdown",
      "source": [
        "### ✅ **문제 2-6: 독립표본 t-검정 실행하기** 🧪\n",
        "\n",
        "**🤔 해야할 일:** 두 그룹 간의 차이를 t-검정으로 확인해보세요."
      ],
      "metadata": {
        "id": "I20kg552JFzU"
      }
    },
    {
      "cell_type": "code",
      "source": [
        "from scipy.stats import ttest_ind\n",
        "\n",
        "# TODO: 독립표본 t-검정 실행\n",
        "t_stat, p_value = ttest_ind(group1_purchases, group2_purchases)\n",
        "\n",
        "print(\"🧮 t-검정 결과\")\n",
        "print(f\"t-통계량: {t_stat:.3f}\")\n",
        "print(f\"p-value: {p_value:.4f}\")\n",
        "\n",
        "# TODO: 결과 해석하기\n",
        "alpha = 0.05\n",
        "print(\"🎯 비즈니스 해석\")\n",
        "\n",
        "if p_value < alpha:\n",
        "    print(\"✅ 통계적으로 유의한 차이가 있습니다!\")\n",
        "\n",
        "    if group2_mean > group1_mean:\n",
        "        print(\"→ 중년층이 젊은층보다 더 많이 구매합니다!\")\n",
        "    else:\n",
        "        print(\"→ 젊은층이 중년층보다 더 많이 구매합니다!\")\n",
        "else:\n",
        "    print(\"❌ 통계적으로 유의한 차이가 없습니다.\")"
      ],
      "metadata": {
        "colab": {
          "base_uri": "https://localhost:8080/"
        },
        "id": "2gH644qEJIdJ",
        "outputId": "47c1d4f5-fa62-4bcd-d4fb-719bd0033426"
      },
      "execution_count": 19,
      "outputs": [
        {
          "output_type": "stream",
          "name": "stdout",
          "text": [
            "🧮 t-검정 결과\n",
            "t-통계량: -8.709\n",
            "p-value: 0.0000\n",
            "🎯 비즈니스 해석\n",
            "✅ 통계적으로 유의한 차이가 있습니다!\n",
            "→ 중년층이 젊은층보다 더 많이 구매합니다!\n"
          ]
        }
      ]
    },
    {
      "cell_type": "markdown",
      "source": [
        "### ✅ **문제 2-7: 등분산성 검정하기** 🔍\n",
        "\n",
        "**🤔 해야할 일:** 두 그룹의 분산이 같은지 확인해보세요."
      ],
      "metadata": {
        "id": "vtJ0hejkJIqf"
      }
    },
    {
      "cell_type": "code",
      "source": [
        "from scipy.stats import levene\n",
        "\n",
        "# TODO: 분산 직접 비교하기\n",
        "var1 = group1_purchases.var(ddof=1)\n",
        "var2 = group2_purchases.var(ddof=1)\n",
        "\n",
        "print(\"📊 분산 비교\")\n",
        "print(f\"젊은층 분산: {var1:.1f}\")\n",
        "print(f\"중년층 분산: {var2:.1f}\")\n",
        "\n",
        "# TODO: Levene 검정 실행하기\n",
        "levene_stat, levene_p = levene(group1_purchases, group2_purchases)\n",
        "\n",
        "print(\"🧪 Levene 등분산성 검정\")\n",
        "print(f\"p-value: {levene_p:.4f}\")\n",
        "\n",
        "# TODO: 등분산성 판단하기\n",
        "if levene_p >= 0.05:\n",
        "    print(\"✅ 등분산성 가정 만족\")\n",
        "else:\n",
        "    print(\"❌ 등분산성 가정 위배\")"
      ],
      "metadata": {
        "colab": {
          "base_uri": "https://localhost:8080/"
        },
        "id": "kVHVmr1wJK5G",
        "outputId": "71dc0ca0-6fec-49f7-c4ec-80213f022d81"
      },
      "execution_count": 20,
      "outputs": [
        {
          "output_type": "stream",
          "name": "stdout",
          "text": [
            "📊 분산 비교\n",
            "젊은층 분산: 637.1\n",
            "중년층 분산: 669.5\n",
            "🧪 Levene 등분산성 검정\n",
            "p-value: 0.8106\n",
            "✅ 등분산성 가정 만족\n"
          ]
        }
      ]
    },
    {
      "cell_type": "markdown",
      "source": [
        "## 📋 미션 3: 직원 만족도 종합 분석 🏢\n",
        "\n",
        "### 🎯 학습 목표\n",
        "\n",
        "상관관계, 회귀분석, 로지스틱 회귀를 실전에서 종합적으로 활용하기\n",
        "\n",
        "### 💾 데이터 생성"
      ],
      "metadata": {
        "id": "lRL7IJYeJLEU"
      }
    },
    {
      "cell_type": "code",
      "source": [
        "# 직원 만족도 종합 데이터 생성\n",
        "np.random.seed(2024)\n",
        "n = 250\n",
        "\n",
        "data_hr = {\n",
        "    '연봉': np.random.lognormal(np.log(50000), 0.3, n),\n",
        "    '근무연수': np.random.exponential(3, n),\n",
        "    '부서': np.random.choice(['영업', '개발', '마케팅', '인사'], n, p=[0.3, 0.4, 0.2, 0.1]),\n",
        "    '교육시간': np.random.gamma(2, 10, n),\n",
        "    '직급': np.random.choice(['사원', '대리', '과장', '부장'], n, p=[0.4, 0.3, 0.2, 0.1])\n",
        "}\n",
        "\n",
        "df_hr = pd.DataFrame(data_hr)\n",
        "\n",
        "# 만족도 점수 (1-10점) 생성\n",
        "satisfaction_base = (\n",
        "    df_hr['연봉']/10000 * 0.8 +\n",
        "    df_hr['근무연수'] * 0.3 +\n",
        "    df_hr['교육시간'] * 0.1\n",
        ")\n",
        "\n",
        "dept_effect = df_hr['부서'].map({'영업': -0.5, '개발': 0.8, '마케팅': 0.3, '인사': 0.0})\n",
        "rank_effect = df_hr['직급'].map({'사원': 0, '대리': 0.5, '과장': 1.0, '부장': 1.5})\n",
        "\n",
        "satisfaction = satisfaction_base + dept_effect + rank_effect + np.random.normal(0, 0.8, n)\n",
        "satisfaction = np.clip(satisfaction, 1, 10)\n",
        "\n",
        "# 이직 의향\n",
        "turnover_prob = 1 / (1 + np.exp(satisfaction - 5))\n",
        "turnover_intent = np.random.binomial(1, turnover_prob, n)\n",
        "\n",
        "df_hr['만족도'] = satisfaction.round(1)\n",
        "df_hr['이직의향'] = turnover_intent\n",
        "\n",
        "print(\"📊 직원 만족도 데이터 (처음 5개 행)\")\n",
        "print(df_hr.head())"
      ],
      "metadata": {
        "colab": {
          "base_uri": "https://localhost:8080/"
        },
        "id": "8qbTUWfpJOF8",
        "outputId": "e3d904e7-c667-484e-fe8e-3b17a287f58f"
      },
      "execution_count": 4,
      "outputs": [
        {
          "output_type": "stream",
          "name": "stdout",
          "text": [
            "📊 직원 만족도 데이터 (처음 5개 행)\n",
            "             연봉      근무연수   부서       교육시간  직급   만족도  이직의향\n",
            "0  82470.215328  5.843045   개발   4.431883  과장  10.0     0\n",
            "1  62378.915363  1.803688   개발   1.373603  대리   8.2     0\n",
            "2  47066.508609  0.211051  마케팅  17.196300  과장   7.6     0\n",
            "3  47786.798588  4.785220   개발  49.198119  과장  10.0     0\n",
            "4  65814.392648  2.060981   영업  18.363062  사원   9.1     0\n"
          ]
        }
      ]
    },
    {
      "cell_type": "markdown",
      "source": [
        "### ✅ **문제 3-1: 상관관계 매트릭스 만들기** 🔍\n",
        "\n",
        "**🤔 해야할 일:** 숫자형 변수들 간의 상관관계를 확인해보세요."
      ],
      "metadata": {
        "id": "9kg3z6UrJZ8D"
      }
    },
    {
      "cell_type": "code",
      "source": [
        "# TODO: 숫자형 변수들만 선별하기\n",
        "numeric_cols = ['연봉', '근무연수', '교육시간', '만족도', '이직의향']\n",
        "correlation_data = df_hr[numeric_cols]\n",
        "\n",
        "# TODO: 상관계수 매트릭스 계산하기\n",
        "correlation_matrix = correlation_data.corr()\n",
        "\n",
        "print(\"📊 상관계수 매트릭스\")\n",
        "print(correlation_matrix.round(3))"
      ],
      "metadata": {
        "colab": {
          "base_uri": "https://localhost:8080/"
        },
        "id": "hiCBajw3JV-b",
        "outputId": "372aceec-24df-48f5-a3d2-f45af9be295e"
      },
      "execution_count": 21,
      "outputs": [
        {
          "output_type": "stream",
          "name": "stdout",
          "text": [
            "📊 상관계수 매트릭스\n",
            "         연봉   근무연수   교육시간    만족도   이직의향\n",
            "연봉    1.000  0.101 -0.003  0.567 -0.265\n",
            "근무연수  0.101  1.000 -0.062  0.389 -0.130\n",
            "교육시간 -0.003 -0.062  1.000  0.484 -0.276\n",
            "만족도   0.567  0.389  0.484  1.000 -0.534\n",
            "이직의향 -0.265 -0.130 -0.276 -0.534  1.000\n"
          ]
        }
      ]
    },
    {
      "cell_type": "markdown",
      "source": [
        "### ✅ **문제 3-2: 만족도와의 상관관계 분석하기** 🎯\n",
        "\n",
        "**🤔 해야할 일:** 어떤 변수가 만족도와 가장 관련이 높은지 찾아보세요."
      ],
      "metadata": {
        "id": "vlSSbWExJdwH"
      }
    },
    {
      "cell_type": "code",
      "source": [
        "# TODO: 만족도와의 상관관계만 추출하기\n",
        "satisfaction_corr = correlation_matrix['만족도'].sort_values(ascending=False)\n",
        "\n",
        "print(\"🎯 만족도와의 상관관계 (높은 순)\")\n",
        "\n",
        "# TODO: for문으로 각 변수별 상관관계 출력하기\n",
        "for var, corr in satisfaction_corr.items():\n",
        "    if var != '만족도':  # 만족도 자기 자신 제외\n",
        "        # TODO: 상관관계 강도 판단하기\n",
        "        if abs(corr) > 0.5:\n",
        "            strength = \"강한\"\n",
        "        elif abs(corr) > 0.3:\n",
        "            strength = \"중간\"\n",
        "        else:\n",
        "            strength = \"약한\"\n",
        "\n",
        "        direction = \"양의\" if corr > 0 else \"음의\"\n",
        "        print(f\"• {var}: {corr:.3f} ({strength} {direction} 상관관계)\")"
      ],
      "metadata": {
        "colab": {
          "base_uri": "https://localhost:8080/"
        },
        "id": "MAcoT4PPJelw",
        "outputId": "6ece33f3-589a-4805-a3f4-fd01219bacd2"
      },
      "execution_count": 22,
      "outputs": [
        {
          "output_type": "stream",
          "name": "stdout",
          "text": [
            "🎯 만족도와의 상관관계 (높은 순)\n",
            "• 연봉: 0.567 (강한 양의 상관관계)\n",
            "• 교육시간: 0.484 (중간 양의 상관관계)\n",
            "• 근무연수: 0.389 (중간 양의 상관관계)\n",
            "• 이직의향: -0.534 (강한 음의 상관관계)\n"
          ]
        }
      ]
    },
    {
      "cell_type": "markdown",
      "source": [
        "### ✅ **문제 3-3: 상관관계 히트맵 그리기** 📈\n",
        "\n",
        "**🤔 해야할 일:** 상관관계를 시각적으로 표현해보세요."
      ],
      "metadata": {
        "id": "zWd-ewVQJim6"
      }
    },
    {
      "cell_type": "code",
      "source": [
        "# TODO: 히트맵 그리기\n",
        "plt.figure(figsize=(10, 8))\n",
        "\n",
        "# TODO: seaborn heatmap 사용하기\n",
        "# 힌트: sns.heatmap(data, annot=True, cmap='RdBu_r', center=0, fmt='.3f')\n",
        "sns.heatmap(correlation_matrix, annot=True, cmap='RdBu_r', center=0, fmt='.3f')\n",
        "\n",
        "plt.title('📊 변수 간 상관관계 히트맵')\n",
        "plt.tight_layout()\n",
        "plt.show()"
      ],
      "metadata": {
        "colab": {
          "base_uri": "https://localhost:8080/",
          "height": 1000
        },
        "id": "OMJmk_IQJkRy",
        "outputId": "77f22ff0-f3a2-4095-e5d1-ded8a02f84b8"
      },
      "execution_count": 23,
      "outputs": [
        {
          "output_type": "stream",
          "name": "stderr",
          "text": [
            "WARNING:matplotlib.font_manager:findfont: Font family 'NanumBarunGothic' not found.\n",
            "WARNING:matplotlib.font_manager:findfont: Font family 'NanumBarunGothic' not found.\n",
            "WARNING:matplotlib.font_manager:findfont: Font family 'NanumBarunGothic' not found.\n",
            "WARNING:matplotlib.font_manager:findfont: Font family 'NanumBarunGothic' not found.\n",
            "WARNING:matplotlib.font_manager:findfont: Font family 'NanumBarunGothic' not found.\n",
            "WARNING:matplotlib.font_manager:findfont: Font family 'NanumBarunGothic' not found.\n",
            "WARNING:matplotlib.font_manager:findfont: Font family 'NanumBarunGothic' not found.\n",
            "WARNING:matplotlib.font_manager:findfont: Font family 'NanumBarunGothic' not found.\n",
            "WARNING:matplotlib.font_manager:findfont: Font family 'NanumBarunGothic' not found.\n",
            "WARNING:matplotlib.font_manager:findfont: Font family 'NanumBarunGothic' not found.\n",
            "WARNING:matplotlib.font_manager:findfont: Font family 'NanumBarunGothic' not found.\n",
            "WARNING:matplotlib.font_manager:findfont: Font family 'NanumBarunGothic' not found.\n",
            "WARNING:matplotlib.font_manager:findfont: Font family 'NanumBarunGothic' not found.\n",
            "WARNING:matplotlib.font_manager:findfont: Font family 'NanumBarunGothic' not found.\n",
            "WARNING:matplotlib.font_manager:findfont: Font family 'NanumBarunGothic' not found.\n",
            "WARNING:matplotlib.font_manager:findfont: Font family 'NanumBarunGothic' not found.\n",
            "WARNING:matplotlib.font_manager:findfont: Font family 'NanumBarunGothic' not found.\n",
            "WARNING:matplotlib.font_manager:findfont: Font family 'NanumBarunGothic' not found.\n",
            "WARNING:matplotlib.font_manager:findfont: Font family 'NanumBarunGothic' not found.\n",
            "WARNING:matplotlib.font_manager:findfont: Font family 'NanumBarunGothic' not found.\n",
            "WARNING:matplotlib.font_manager:findfont: Font family 'NanumBarunGothic' not found.\n",
            "WARNING:matplotlib.font_manager:findfont: Font family 'NanumBarunGothic' not found.\n",
            "WARNING:matplotlib.font_manager:findfont: Font family 'NanumBarunGothic' not found.\n",
            "WARNING:matplotlib.font_manager:findfont: Font family 'NanumBarunGothic' not found.\n",
            "WARNING:matplotlib.font_manager:findfont: Font family 'NanumBarunGothic' not found.\n",
            "WARNING:matplotlib.font_manager:findfont: Font family 'NanumBarunGothic' not found.\n",
            "WARNING:matplotlib.font_manager:findfont: Font family 'NanumBarunGothic' not found.\n",
            "WARNING:matplotlib.font_manager:findfont: Font family 'NanumBarunGothic' not found.\n",
            "WARNING:matplotlib.font_manager:findfont: Font family 'NanumBarunGothic' not found.\n",
            "WARNING:matplotlib.font_manager:findfont: Font family 'NanumBarunGothic' not found.\n",
            "WARNING:matplotlib.font_manager:findfont: Font family 'NanumBarunGothic' not found.\n",
            "WARNING:matplotlib.font_manager:findfont: Font family 'NanumBarunGothic' not found.\n",
            "WARNING:matplotlib.font_manager:findfont: Font family 'NanumBarunGothic' not found.\n",
            "WARNING:matplotlib.font_manager:findfont: Font family 'NanumBarunGothic' not found.\n",
            "WARNING:matplotlib.font_manager:findfont: Font family 'NanumBarunGothic' not found.\n",
            "WARNING:matplotlib.font_manager:findfont: Font family 'NanumBarunGothic' not found.\n",
            "WARNING:matplotlib.font_manager:findfont: Font family 'NanumBarunGothic' not found.\n",
            "WARNING:matplotlib.font_manager:findfont: Font family 'NanumBarunGothic' not found.\n",
            "WARNING:matplotlib.font_manager:findfont: Font family 'NanumBarunGothic' not found.\n",
            "WARNING:matplotlib.font_manager:findfont: Font family 'NanumBarunGothic' not found.\n",
            "WARNING:matplotlib.font_manager:findfont: Font family 'NanumBarunGothic' not found.\n",
            "WARNING:matplotlib.font_manager:findfont: Font family 'NanumBarunGothic' not found.\n",
            "WARNING:matplotlib.font_manager:findfont: Font family 'NanumBarunGothic' not found.\n",
            "WARNING:matplotlib.font_manager:findfont: Font family 'NanumBarunGothic' not found.\n",
            "WARNING:matplotlib.font_manager:findfont: Font family 'NanumBarunGothic' not found.\n",
            "WARNING:matplotlib.font_manager:findfont: Font family 'NanumBarunGothic' not found.\n",
            "WARNING:matplotlib.font_manager:findfont: Font family 'NanumBarunGothic' not found.\n",
            "WARNING:matplotlib.font_manager:findfont: Font family 'NanumBarunGothic' not found.\n",
            "WARNING:matplotlib.font_manager:findfont: Font family 'NanumBarunGothic' not found.\n",
            "WARNING:matplotlib.font_manager:findfont: Font family 'NanumBarunGothic' not found.\n",
            "WARNING:matplotlib.font_manager:findfont: Font family 'NanumBarunGothic' not found.\n",
            "WARNING:matplotlib.font_manager:findfont: Font family 'NanumBarunGothic' not found.\n",
            "WARNING:matplotlib.font_manager:findfont: Font family 'NanumBarunGothic' not found.\n",
            "WARNING:matplotlib.font_manager:findfont: Font family 'NanumBarunGothic' not found.\n",
            "WARNING:matplotlib.font_manager:findfont: Font family 'NanumBarunGothic' not found.\n",
            "WARNING:matplotlib.font_manager:findfont: Font family 'NanumBarunGothic' not found.\n",
            "WARNING:matplotlib.font_manager:findfont: Font family 'NanumBarunGothic' not found.\n",
            "WARNING:matplotlib.font_manager:findfont: Font family 'NanumBarunGothic' not found.\n",
            "WARNING:matplotlib.font_manager:findfont: Font family 'NanumBarunGothic' not found.\n",
            "WARNING:matplotlib.font_manager:findfont: Font family 'NanumBarunGothic' not found.\n",
            "WARNING:matplotlib.font_manager:findfont: Font family 'NanumBarunGothic' not found.\n",
            "WARNING:matplotlib.font_manager:findfont: Font family 'NanumBarunGothic' not found.\n",
            "WARNING:matplotlib.font_manager:findfont: Font family 'NanumBarunGothic' not found.\n",
            "WARNING:matplotlib.font_manager:findfont: Font family 'NanumBarunGothic' not found.\n",
            "WARNING:matplotlib.font_manager:findfont: Font family 'NanumBarunGothic' not found.\n",
            "WARNING:matplotlib.font_manager:findfont: Font family 'NanumBarunGothic' not found.\n",
            "WARNING:matplotlib.font_manager:findfont: Font family 'NanumBarunGothic' not found.\n",
            "WARNING:matplotlib.font_manager:findfont: Font family 'NanumBarunGothic' not found.\n",
            "WARNING:matplotlib.font_manager:findfont: Font family 'NanumBarunGothic' not found.\n",
            "WARNING:matplotlib.font_manager:findfont: Font family 'NanumBarunGothic' not found.\n",
            "WARNING:matplotlib.font_manager:findfont: Font family 'NanumBarunGothic' not found.\n",
            "WARNING:matplotlib.font_manager:findfont: Font family 'NanumBarunGothic' not found.\n",
            "WARNING:matplotlib.font_manager:findfont: Font family 'NanumBarunGothic' not found.\n",
            "WARNING:matplotlib.font_manager:findfont: Font family 'NanumBarunGothic' not found.\n",
            "WARNING:matplotlib.font_manager:findfont: Font family 'NanumBarunGothic' not found.\n",
            "WARNING:matplotlib.font_manager:findfont: Font family 'NanumBarunGothic' not found.\n",
            "WARNING:matplotlib.font_manager:findfont: Font family 'NanumBarunGothic' not found.\n",
            "WARNING:matplotlib.font_manager:findfont: Font family 'NanumBarunGothic' not found.\n",
            "WARNING:matplotlib.font_manager:findfont: Font family 'NanumBarunGothic' not found.\n",
            "WARNING:matplotlib.font_manager:findfont: Font family 'NanumBarunGothic' not found.\n",
            "WARNING:matplotlib.font_manager:findfont: Font family 'NanumBarunGothic' not found.\n",
            "WARNING:matplotlib.font_manager:findfont: Font family 'NanumBarunGothic' not found.\n",
            "WARNING:matplotlib.font_manager:findfont: Font family 'NanumBarunGothic' not found.\n",
            "WARNING:matplotlib.font_manager:findfont: Font family 'NanumBarunGothic' not found.\n",
            "WARNING:matplotlib.font_manager:findfont: Font family 'NanumBarunGothic' not found.\n",
            "WARNING:matplotlib.font_manager:findfont: Font family 'NanumBarunGothic' not found.\n",
            "WARNING:matplotlib.font_manager:findfont: Font family 'NanumBarunGothic' not found.\n",
            "WARNING:matplotlib.font_manager:findfont: Font family 'NanumBarunGothic' not found.\n",
            "WARNING:matplotlib.font_manager:findfont: Font family 'NanumBarunGothic' not found.\n",
            "WARNING:matplotlib.font_manager:findfont: Font family 'NanumBarunGothic' not found.\n",
            "WARNING:matplotlib.font_manager:findfont: Font family 'NanumBarunGothic' not found.\n",
            "WARNING:matplotlib.font_manager:findfont: Font family 'NanumBarunGothic' not found.\n",
            "WARNING:matplotlib.font_manager:findfont: Font family 'NanumBarunGothic' not found.\n",
            "WARNING:matplotlib.font_manager:findfont: Font family 'NanumBarunGothic' not found.\n",
            "WARNING:matplotlib.font_manager:findfont: Font family 'NanumBarunGothic' not found.\n",
            "WARNING:matplotlib.font_manager:findfont: Font family 'NanumBarunGothic' not found.\n",
            "WARNING:matplotlib.font_manager:findfont: Font family 'NanumBarunGothic' not found.\n",
            "WARNING:matplotlib.font_manager:findfont: Font family 'NanumBarunGothic' not found.\n",
            "WARNING:matplotlib.font_manager:findfont: Font family 'NanumBarunGothic' not found.\n",
            "WARNING:matplotlib.font_manager:findfont: Font family 'NanumBarunGothic' not found.\n",
            "WARNING:matplotlib.font_manager:findfont: Font family 'NanumBarunGothic' not found.\n",
            "WARNING:matplotlib.font_manager:findfont: Font family 'NanumBarunGothic' not found.\n",
            "WARNING:matplotlib.font_manager:findfont: Font family 'NanumBarunGothic' not found.\n",
            "WARNING:matplotlib.font_manager:findfont: Font family 'NanumBarunGothic' not found.\n",
            "WARNING:matplotlib.font_manager:findfont: Font family 'NanumBarunGothic' not found.\n",
            "WARNING:matplotlib.font_manager:findfont: Font family 'NanumBarunGothic' not found.\n",
            "WARNING:matplotlib.font_manager:findfont: Font family 'NanumBarunGothic' not found.\n",
            "WARNING:matplotlib.font_manager:findfont: Font family 'NanumBarunGothic' not found.\n",
            "WARNING:matplotlib.font_manager:findfont: Font family 'NanumBarunGothic' not found.\n",
            "WARNING:matplotlib.font_manager:findfont: Font family 'NanumBarunGothic' not found.\n",
            "WARNING:matplotlib.font_manager:findfont: Font family 'NanumBarunGothic' not found.\n",
            "WARNING:matplotlib.font_manager:findfont: Font family 'NanumBarunGothic' not found.\n",
            "WARNING:matplotlib.font_manager:findfont: Font family 'NanumBarunGothic' not found.\n",
            "WARNING:matplotlib.font_manager:findfont: Font family 'NanumBarunGothic' not found.\n",
            "WARNING:matplotlib.font_manager:findfont: Font family 'NanumBarunGothic' not found.\n",
            "WARNING:matplotlib.font_manager:findfont: Font family 'NanumBarunGothic' not found.\n"
          ]
        },
        {
          "output_type": "display_data",
          "data": {
            "text/plain": [
              "<Figure size 1000x800 with 2 Axes>"
            ],
            "image/png": "[encoded data removed]"
          },
          "metadata": {}
        }
      ]
    },
    {
      "cell_type": "markdown",
      "source": [
        "### ✅ **문제 3-4: 부서별 만족도 비교하기** 🏢\n",
        "\n",
        "**🤔 해야할 일:** 부서별로 만족도와 이직의향을 비교해보세요."
      ],
      "metadata": {
        "id": "OzuH5ItZJoy3"
      }
    },
    {
      "cell_type": "code",
      "source": [
        "# TODO: 부서별 그룹화해서 평균 계산하기\n",
        "dept_summary = df_hr.groupby('부서')['만족도'].mean()\n",
        "\n",
        "print(\"🏢 부서별 평균 만족도\")\n",
        "print(dept_summary.round(2))\n",
        "\n",
        "# TODO: 부서별 이직의향도 계산하기\n",
        "dept_turnover = df_hr.groupby('부서')['이직의향'].mean()\n",
        "\n",
        "print(\"\\n🏢 부서별 이직의향\")\n",
        "print(dept_turnover.round(3))\n",
        "\n",
        "# TODO: for문으로 부서별 상세 분석 출력하기\n",
        "print(\"\\n📋 부서별 상세 분석\")\n",
        "for dept in df_hr['부서'].unique():\n",
        "    # TODO: 해당 부서 데이터만 필터링하기\n",
        "    dept_data = df_hr[df_hr['부서'] == dept]\n",
        "\n",
        "    satisfaction_avg = dept_data['만족도'].mean()\n",
        "    turnover_avg = dept_data['이직의향'].mean()\n",
        "\n",
        "    print(f\"{dept}부: 만족도 {satisfaction_avg:.1f}점, 이직의향 {turnover_avg:.1%}\")"
      ],
      "metadata": {
        "colab": {
          "base_uri": "https://localhost:8080/"
        },
        "id": "y6yzfR8uJr7x",
        "outputId": "022f7ff1-c563-432b-d47d-5e2d4248e794"
      },
      "execution_count": 24,
      "outputs": [
        {
          "output_type": "stream",
          "name": "stdout",
          "text": [
            "🏢 부서별 평균 만족도\n",
            "부서\n",
            "개발     7.76\n",
            "마케팅    7.82\n",
            "영업     6.96\n",
            "인사     6.93\n",
            "Name: 만족도, dtype: float64\n",
            "\n",
            "🏢 부서별 이직의향\n",
            "부서\n",
            "개발     0.139\n",
            "마케팅    0.208\n",
            "영업     0.276\n",
            "인사     0.278\n",
            "Name: 이직의향, dtype: float64\n",
            "\n",
            "📋 부서별 상세 분석\n",
            "개발부: 만족도 7.8점, 이직의향 13.9%\n",
            "마케팅부: 만족도 7.8점, 이직의향 20.8%\n",
            "영업부: 만족도 7.0점, 이직의향 27.6%\n",
            "인사부: 만족도 6.9점, 이직의향 27.8%\n"
          ]
        }
      ]
    },
    {
      "cell_type": "markdown",
      "source": [
        "### ✅ **문제 3-5: 더미 변수 생성하기** 🔧\n",
        "\n",
        "**🤔 해야할 일:** 회귀분석을 위해 범주형 변수를 더미 변수로 변환하세요."
      ],
      "metadata": {
        "id": "LJH2qeJoJsb3"
      }
    },
    {
      "cell_type": "code",
      "source": [
        "# TODO: 부서를 더미 변수로 변환하기\n",
        "dept_dummies = pd.get_dummies(df_hr['부서'], prefix='부서')\n",
        "\n",
        "# TODO: 직급을 더미 변수로 변환하기\n",
        "rank_dummies = pd.get_dummies(df_hr['직급'], prefix='직급')\n",
        "\n",
        "# TODO: 기준 카테고리 제거하기 (다중공선성 방지)\n",
        "dept_dummies = dept_dummies.drop('부서_인사', axis=1)\n",
        "rank_dummies = rank_dummies.drop('직급_사원', axis=1)\n",
        "\n",
        "print(\"생성된 더미 변수들:\")\n",
        "print(\"부서:\", list(dept_dummies.columns))\n",
        "print(\"직급:\", list(rank_dummies.columns))"
      ],
      "metadata": {
        "colab": {
          "base_uri": "https://localhost:8080/"
        },
        "id": "xpu-kWpZJveY",
        "outputId": "2183d9cf-563c-4511-91e4-ea88ed6e2eb7"
      },
      "execution_count": 25,
      "outputs": [
        {
          "output_type": "stream",
          "name": "stdout",
          "text": [
            "생성된 더미 변수들:\n",
            "부서: ['부서_개발', '부서_마케팅', '부서_영업']\n",
            "직급: ['직급_과장', '직급_대리', '직급_부장']\n"
          ]
        }
      ]
    },
    {
      "cell_type": "markdown",
      "source": [
        "### ✅ **문제 3-6: 회귀분석용 데이터 준비하기** 🔧\n",
        "\n",
        "**🤔 해야할 일:** 독립변수와 종속변수를 준비하세요."
      ],
      "metadata": {
        "id": "RPSX0amUJv48"
      }
    },
    {
      "cell_type": "code",
      "source": [
        "from sklearn.linear_model import LinearRegression\n",
        "from sklearn.metrics import r2_score\n",
        "\n",
        "# TODO: 독립변수 데이터프레임 만들기\n",
        "X_vars = pd.concat([df_hr[['연봉', '근무연수', '교육시간']], dept_dummies, rank_dummies], axis=1)\n",
        "\n",
        "# TODO: 종속변수 설정하기\n",
        "y_var = df_hr['만족도']\n",
        "\n",
        "print(\"🔧 회귀분석 변수 구성\")\n",
        "print(f\"독립변수 개수: {len(X_vars.columns)}개\")\n",
        "print(f\"독립변수: {list(X_vars.columns)}\")\n",
        "print(f\"종속변수: 만족도\")"
      ],
      "metadata": {
        "colab": {
          "base_uri": "https://localhost:8080/"
        },
        "id": "z2i3aXvHJy-j",
        "outputId": "5a1aa724-24fb-4de7-bb2e-da850fc15cff"
      },
      "execution_count": 26,
      "outputs": [
        {
          "output_type": "stream",
          "name": "stdout",
          "text": [
            "🔧 회귀분석 변수 구성\n",
            "독립변수 개수: 9개\n",
            "독립변수: ['연봉', '근무연수', '교육시간', '부서_개발', '부서_마케팅', '부서_영업', '직급_과장', '직급_대리', '직급_부장']\n",
            "종속변수: 만족도\n"
          ]
        }
      ]
    },
    {
      "cell_type": "markdown",
      "source": [
        "### ✅ **문제 3-7: 회귀분석 실행하기** 📊\n",
        "\n",
        "**🤔 해야할 일:** 다중회귀분석을 실행하고 R²을 계산하세요."
      ],
      "metadata": {
        "id": "akfaDsxgJzJ9"
      }
    },
    {
      "cell_type": "code",
      "source": [
        "# TODO: 회귀모델 생성 및 학습하기\n",
        "model = LinearRegression()\n",
        "model.fit(X_vars, y_var)\n",
        "\n",
        "# TODO: 예측값 계산하기\n",
        "y_pred = model.predict(X_vars)\n",
        "\n",
        "# TODO: R² 계산하기\n",
        "r2 = r2_score(y_var, y_pred)\n",
        "\n",
        "print(\"📊 다중회귀분석 결과\")\n",
        "print(f\"R² (설명력): {r2:.3f} ({r2*100:.1f}%)\")"
      ],
      "metadata": {
        "colab": {
          "base_uri": "https://localhost:8080/"
        },
        "id": "dD0-PEZ6J1Yg",
        "outputId": "6e4ac9d0-24bb-405e-ecca-d537f9f6c4ef"
      },
      "execution_count": 27,
      "outputs": [
        {
          "output_type": "stream",
          "name": "stdout",
          "text": [
            "📊 다중회귀분석 결과\n",
            "R² (설명력): 0.800 (80.0%)\n"
          ]
        }
      ]
    },
    {
      "cell_type": "markdown",
      "source": [
        "### ✅ **문제 3-8: 회귀계수 해석하기** 🔍\n",
        "\n",
        "**🤔 해야할 일:** 어떤 변수가 만족도에 가장 큰 영향을 미치는지 찾아보세요."
      ],
      "metadata": {
        "id": "Cyjt5dBLJ1mD"
      }
    },
    {
      "cell_type": "code",
      "source": [
        "# TODO: 회귀계수를 데이터프레임으로 정리하기\n",
        "coefficients = pd.DataFrame({\n",
        "    '변수': X_vars.columns,\n",
        "    '계수': model.coef_,\n",
        "    '절댓값': np.abs(model.coef_)\n",
        "})\n",
        "\n",
        "# TODO: 절댓값 기준으로 정렬하기\n",
        "coefficients = coefficients.sort_values('절댓값', ascending=False)\n",
        "\n",
        "print(\"🔍 회귀계수 분석 (영향력 순)\")\n",
        "print(coefficients.head(5))  # 상위 5개만 출력\n",
        "\n",
        "# TODO: 가장 영향력이 큰 변수 찾기\n",
        "most_important = coefficients.iloc[0]\n",
        "print(f\"\\n가장 영향력이 큰 변수: {most_important['변수']} (계수: {most_important['계수']:.3f})\")"
      ],
      "metadata": {
        "colab": {
          "base_uri": "https://localhost:8080/"
        },
        "id": "W8usttiyJ4l1",
        "outputId": "2461eef0-c4e8-41be-b191-10d35638582e"
      },
      "execution_count": 28,
      "outputs": [
        {
          "output_type": "stream",
          "name": "stdout",
          "text": [
            "🔍 회귀계수 분석 (영향력 순)\n",
            "      변수        계수       절댓값\n",
            "8  직급_부장  1.393631  1.393631\n",
            "6  직급_과장  0.764017  0.764017\n",
            "3  부서_개발  0.497000  0.497000\n",
            "5  부서_영업 -0.496424  0.496424\n",
            "7  직급_대리  0.325535  0.325535\n",
            "\n",
            "가장 영향력이 큰 변수: 직급_부장 (계수: 1.394)\n"
          ]
        }
      ]
    },
    {
      "cell_type": "markdown",
      "source": [
        "### ✅ **문제 3-9: 로지스틱 회귀 데이터 준비하기** 🎯\n",
        "\n",
        "**🤔 해야할 일:** 이직 의향을 예측하기 위한 로지스틱 회귀를 준비하세요."
      ],
      "metadata": {
        "id": "-vwRy6F9J4xr"
      }
    },
    {
      "cell_type": "code",
      "source": [
        "from sklearn.linear_model import LogisticRegression\n",
        "from sklearn.metrics import classification_report, confusion_matrix\n",
        "\n",
        "# TODO: 로지스틱 회귀용 독립변수와 종속변수 설정하기\n",
        "X_logistic = X_vars  # 위에서 만든 다중회귀용 독립변수와 동일\n",
        "y_logistic = df_hr['이직의향']\n",
        "\n",
        "# TODO: 현재 이직 의향 현황 파악하기\n",
        "turnover_summary = df_hr['이직의향'].value_counts()\n",
        "turnover_rate = df_hr['이직의향'].mean()\n",
        "\n",
        "print(\"📊 현재 이직 의향 현황\")\n",
        "print(f\"이직 의향 있음: {turnover_summary[1]}명 ({turnover_rate:.1%})\")\n",
        "print(f\"이직 의향 없음: {turnover_summary[0]}명 ({1-turnover_rate:.1%})\")"
      ],
      "metadata": {
        "colab": {
          "base_uri": "https://localhost:8080/"
        },
        "id": "sQRJOtPxJ8Gp",
        "outputId": "a57d0d1a-a277-4359-bbb8-ba7b489d493e"
      },
      "execution_count": 29,
      "outputs": [
        {
          "output_type": "stream",
          "name": "stdout",
          "text": [
            "📊 현재 이직 의향 현황\n",
            "이직 의향 있음: 51명 (20.4%)\n",
            "이직 의향 없음: 199명 (79.6%)\n"
          ]
        }
      ]
    },
    {
      "cell_type": "markdown",
      "source": [
        "### ✅ **문제 3-10: 로지스틱 회귀 모델 학습하기** 🤖\n",
        "\n",
        "**🤔 해야할 일:** 로지스틱 회귀 모델을 학습시키고 예측을 수행하세요."
      ],
      "metadata": {
        "id": "-REeSZE7J8c2"
      }
    },
    {
      "cell_type": "code",
      "source": [
        "# TODO: 로지스틱 회귀 모델 생성하기\n",
        "logistic_model = LogisticRegression(random_state=42, max_iter=1000)\n",
        "\n",
        "# TODO: 모델 학습하기\n",
        "logistic_model.fit(X_logistic, y_logistic)\n",
        "\n",
        "# TODO: 이직 확률 예측하기\n",
        "y_pred_proba = logistic_model.predict_proba(X_logistic)[:, 1]\n",
        "\n",
        "# TODO: 이직 여부 예측하기 (0 또는 1)\n",
        "y_pred_class = logistic_model.predict(X_logistic)\n",
        "\n",
        "# TODO: 정확도 계산하기\n",
        "accuracy = (y_pred_class == y_logistic).mean()\n",
        "\n",
        "print(\"🤖 로지스틱 회귀 모델 성능\")\n",
        "print(f\"정확도: {accuracy:.3f}\")"
      ],
      "metadata": {
        "colab": {
          "base_uri": "https://localhost:8080/"
        },
        "id": "GZ5f5hrSJ-qE",
        "outputId": "ee088f2a-2a18-431e-dad5-77aaf5861432"
      },
      "execution_count": 30,
      "outputs": [
        {
          "output_type": "stream",
          "name": "stdout",
          "text": [
            "🤖 로지스틱 회귀 모델 성능\n",
            "정확도: 0.864\n"
          ]
        }
      ]
    },
    {
      "cell_type": "markdown",
      "source": [
        "### ✅ **문제 3-11: 혼동 행렬 만들기** 📋\n",
        "\n",
        "**🤔 해야할 일:** 모델의 예측 성능을 자세히 분석해보세요."
      ],
      "metadata": {
        "id": "xOsHzUEOJ-2a"
      }
    },
    {
      "cell_type": "code",
      "source": [
        "# TODO: 혼동 행렬 계산하기\n",
        "cm = confusion_matrix(y_logistic, y_pred_class)\n",
        "\n",
        "print(\"📋 혼동 행렬\")\n",
        "print(\"실제 → 예측    이직안함  이직함\")\n",
        "print(f\"이직 안함        {cm[0,0]:3d}    {cm[0,1]:3d}\")\n",
        "print(f\"이직 함          {cm[1,0]:3d}    {cm[1,1]:3d}\")\n",
        "\n",
        "# TODO: 정밀도와 재현율 계산하기\n",
        "# 정밀도 = TP / (TP + FP)\n",
        "precision = cm[1,1] / (cm[1,1] + cm[0,1]) if (cm[1,1] + cm[0,1]) > 0 else 0\n",
        "\n",
        "# 재현율 = TP / (TP + FN)\n",
        "recall = cm[1,1] / (cm[1,1] + cm[1,0]) if (cm[1,1] + cm[1,0]) > 0 else 0\n",
        "\n",
        "print(f\"\\n정밀도: {precision:.3f}\")\n",
        "print(f\"재현율: {recall:.3f}\")"
      ],
      "metadata": {
        "colab": {
          "base_uri": "https://localhost:8080/"
        },
        "id": "meIDQL5mKBi9",
        "outputId": "e7892fbc-1691-45c6-90f0-8a2788ae9971"
      },
      "execution_count": 31,
      "outputs": [
        {
          "output_type": "stream",
          "name": "stdout",
          "text": [
            "📋 혼동 행렬\n",
            "실제 → 예측    이직안함  이직함\n",
            "이직 안함        193      6\n",
            "이직 함           28     23\n",
            "\n",
            "정밀도: 0.793\n",
            "재현율: 0.451\n"
          ]
        }
      ]
    },
    {
      "cell_type": "markdown",
      "source": [
        "### ✅ **문제 3-12: 오즈비 계산하기** 📈\n",
        "\n",
        "**🤔 해야할 일:** 각 변수가 이직 확률에 미치는 영향을 분석하세요."
      ],
      "metadata": {
        "id": "tzO1-P2XKByO"
      }
    },
    {
      "cell_type": "code",
      "source": [
        "# TODO: 오즈비 계산하기\n",
        "# 힌트: 오즈비 = exp(회귀계수)\n",
        "odds_ratios = np.exp(logistic_model.coef_[0])\n",
        "\n",
        "# TODO: 오즈비 분석 데이터프레임 만들기\n",
        "odds_analysis = pd.DataFrame({\n",
        "    '변수': X_logistic.columns,\n",
        "    '계수': logistic_model.coef_[0],\n",
        "    '오즈비': odds_ratios,\n",
        "    '위험도변화': [(or_val - 1) * 100 for or_val in odds_ratios]\n",
        "})\n",
        "\n",
        "# TODO: 위험도 변화가 큰 순으로 정렬하기\n",
        "odds_analysis = odds_analysis.sort_values('위험도변화', key=abs, ascending=False)\n",
        "\n",
        "print(\"🎯 이직 위험 요인 분석 (상위 5개)\")\n",
        "print(odds_analysis.head())"
      ],
      "metadata": {
        "colab": {
          "base_uri": "https://localhost:8080/"
        },
        "id": "RSInpivMKD5j",
        "outputId": "1b496945-bd11-43f9-c788-7f1b6655864d"
      },
      "execution_count": 32,
      "outputs": [
        {
          "output_type": "stream",
          "name": "stdout",
          "text": [
            "🎯 이직 위험 요인 분석 (상위 5개)\n",
            "      변수        계수       오즈비      위험도변화\n",
            "6  직급_과장 -0.976027  0.376805 -62.319493\n",
            "8  직급_부장 -0.960123  0.382846 -61.715429\n",
            "5  부서_영업  0.473843  1.606155  60.615491\n",
            "3  부서_개발 -0.630661  0.532240 -46.776002\n",
            "7  직급_대리 -0.603491  0.546899 -45.310074\n"
          ]
        }
      ]
    },
    {
      "cell_type": "markdown",
      "source": [
        "### ✅ **문제 3-13: 고위험군 식별하기** 🚨\n",
        "\n",
        "**🤔 해야할 일:** 이직 확률이 높은 직원들을 찾아보세요."
      ],
      "metadata": {
        "id": "tt8Je2QUKEHS"
      }
    },
    {
      "cell_type": "code",
      "source": [
        "# TODO: 고위험군 기준 설정하기 (70% 이상)\n",
        "high_risk_threshold = 0.7\n",
        "\n",
        "# TODO: 고위험군 직원 필터링하기\n",
        "high_risk_mask = y_pred_proba > high_risk_threshold\n",
        "high_risk_employees = df_hr[high_risk_mask]\n",
        "\n",
        "print(f\"🎯 이직 고위험군 식별\")\n",
        "print(f\"이직 확률 {high_risk_threshold:.0%} 이상 직원: {len(high_risk_employees)}명\")\n",
        "\n",
        "if len(high_risk_employees) > 0:\n",
        "    print(\"고위험군 특징:\")\n",
        "    # TODO: 고위험군의 평균 만족도 계산하기\n",
        "    avg_satisfaction = high_risk_employees['만족도'].mean()\n",
        "\n",
        "    # TODO: 고위험군의 평균 연봉 계산하기\n",
        "    avg_salary = high_risk_employees['연봉'].mean()\n",
        "\n",
        "    print(f\"• 평균 만족도: {avg_satisfaction:.1f}점\")\n",
        "    print(f\"• 평균 연봉: {avg_salary/10000:.0f}만원\")"
      ],
      "metadata": {
        "colab": {
          "base_uri": "https://localhost:8080/"
        },
        "id": "cIqAPcDjKG0I",
        "outputId": "1287feaf-19c4-4330-daf1-e7b81f8c0941"
      },
      "execution_count": 33,
      "outputs": [
        {
          "output_type": "stream",
          "name": "stdout",
          "text": [
            "🎯 이직 고위험군 식별\n",
            "이직 확률 70% 이상 직원: 10명\n",
            "고위험군 특징:\n",
            "• 평균 만족도: 3.6점\n",
            "• 평균 연봉: 3만원\n"
          ]
        }
      ]
    },
    {
      "cell_type": "markdown",
      "source": [
        "### ✅ **문제 3-14: 최종 권고안 작성하기** 💼\n",
        "\n",
        "**🤔 해야할 일:** 분석 결과를 바탕으로 CEO 보고서를 작성하세요."
      ],
      "metadata": {
        "id": "wzVuG6c5KHNk"
      }
    },
    {
      "cell_type": "code",
      "source": [
        "print(\"📋 CEO 보고서: 직원 만족도 및 이직 방지 전략\")\n",
        "print(\"=\" * 60)\n",
        "\n",
        "# TODO: 현황 요약 작성하기\n",
        "print(\"\\n📊 현황 요약\")\n",
        "print(f\"• 전체 직원 만족도: {df_hr['만족도'].mean():.1f}/10점\")\n",
        "print(f\"• 현재 이직 의향률: {df_hr['이직의향'].mean():.1%}\")\n",
        "print(f\"• 고위험군: {len(high_risk_employees)}명\")\n",
        "\n",
        "# TODO: 부서별 위험도 분석하기\n",
        "print(\"\\n🏢 부서별 위험도 분석\")\n",
        "dept_risk = df_hr.groupby('부서')['이직의향'].mean().sort_values(ascending=False)\n",
        "\n",
        "for dept, risk in dept_risk.items():\n",
        "    if risk > 0.3:  # 30% 이상이면 높은 위험\n",
        "        emoji = \"🔴\"\n",
        "        level = \"높음\"\n",
        "    elif risk > 0.15:  # 15% 이상이면 보통\n",
        "        emoji = \"🟡\"\n",
        "        level = \"보통\"\n",
        "    else:\n",
        "        emoji = \"🟢\"\n",
        "        level = \"낮음\"\n",
        "\n",
        "    print(f\"{emoji} {dept}부: 이직률 {risk:.1%} (위험도: {level})\")\n",
        "\n",
        "# TODO: 핵심 발견사항 정리하기\n",
        "print(f\"\\n💡 핵심 발견사항\")\n",
        "most_important_factor = coefficients.iloc[0]\n",
        "print(f\"1️⃣ 만족도에 가장 큰 영향: {most_important_factor['변수']}\")\n",
        "\n",
        "# TODO: 권장 액션 플랜 작성하기\n",
        "print(f\"\\n🎯 권장 액션 플랜\")\n",
        "highest_risk_dept = dept_risk.index[0]  # 가장 위험한 부서\n",
        "print(f\"🚨 즉시 조치 필요: {highest_risk_dept}부 집중 관리\")\n",
        "print(f\"💰 투자 우선순위: 만족도 개선 프로그램\")\n",
        "print(f\"📊 모니터링: 월별 만족도 조사 실시\")"
      ],
      "metadata": {
        "colab": {
          "base_uri": "https://localhost:8080/"
        },
        "id": "_JAybsjhKJvm",
        "outputId": "96c24581-9df8-4c65-c5bc-728f7a20f872"
      },
      "execution_count": 34,
      "outputs": [
        {
          "output_type": "stream",
          "name": "stdout",
          "text": [
            "📋 CEO 보고서: 직원 만족도 및 이직 방지 전략\n",
            "============================================================\n",
            "\n",
            "📊 현황 요약\n",
            "• 전체 직원 만족도: 7.5/10점\n",
            "• 현재 이직 의향률: 20.4%\n",
            "• 고위험군: 10명\n",
            "\n",
            "🏢 부서별 위험도 분석\n",
            "🟡 인사부: 이직률 27.8% (위험도: 보통)\n",
            "🟡 영업부: 이직률 27.6% (위험도: 보통)\n",
            "🟡 마케팅부: 이직률 20.8% (위험도: 보통)\n",
            "🟢 개발부: 이직률 13.9% (위험도: 낮음)\n",
            "\n",
            "💡 핵심 발견사항\n",
            "1️⃣ 만족도에 가장 큰 영향: 직급_부장\n",
            "\n",
            "🎯 권장 액션 플랜\n",
            "🚨 즉시 조치 필요: 인사부 집중 관리\n",
            "💰 투자 우선순위: 만족도 개선 프로그램\n",
            "📊 모니터링: 월별 만족도 조사 실시\n"
          ]
        }
      ]
    },
    {
      "cell_type": "markdown",
      "source": [
        "# **1. 분석 요약**\n",
        "\n",
        "전체 직원의 평균 만족도는 **약 6~7점대(10점 만점 기준)**로, 조직 전반의 몰입도와 만족감이 높지 않은 상태임.\n",
        "\n",
        "이직 의향률은 약 20% 이상으로, 전체 인력 중 **이직 고위험군(이직 확률 70% 이상)**이 다수 확인됨.\n",
        "\n",
        "고위험군의 평균 만족도는 전체 평균보다 크게 낮으며, 연봉 역시 조직 평균 대비 낮은 경향이 나타남.\n",
        "\n",
        "→ 이는 단순한 불만족이 아니라 ***‘조직 경쟁력 저하와 핵심 인재 이탈 위험’을 알리는 경고 신호***  입니다.\n",
        "\n",
        "\n",
        "# **2. 부서별 이직 위험도**\n",
        "영업부: 이직률 30% 이상 (위험도: 높음)\n",
        "\n",
        "마케팅부: 이직률 20%대 (위험도: 보통)\n",
        "\n",
        "개발부·인사부: 이직률 15% 이하 (위험도: 낮음)\n",
        "\n",
        "**→ 특정 부서(특히 영업부)에 이직 위험이 집중되고 있어 해당 부서에 대한 긴급 조치가 필요합니다.**\n",
        "\n",
        "# **3. 핵심 인사이트**\n",
        "***1. 만족도의 절대적 영향력***\n",
        "\n",
        "만족도는 이직 가능성을 가장 강하게 예측하는 변수입니다.\n",
        "\n",
        "만족도가 1점 낮아질 때 이직 위험은 평균 20% 이상 상승하는 것으로 나타남.\n",
        "\n",
        "***2. 보상 및 성장 기회의 부족***\n",
        "\n",
        "연봉이 낮고 교육·성장 기회가 적은 직원일수록 이직 위험이 크게 증가.\n",
        "\n",
        "고위험군의 평균 연봉은 전체 평균 대비 낮은 수준.\n",
        "\n",
        "***3. 부서 및 직급별 불균형***\n",
        "\n",
        "영업 부서와 주니어 직급(사원·대리)의 불만족이 두드러짐, 이는 리더십 스타일 및 성과평가 구조의 문제를 시사.\n",
        "\n",
        "\n",
        "# **4. 액션 플랜**\n",
        "***- 단기 (30일 이내)***\n",
        "\n",
        "***1. 고위험군 집중 관리:***  고위험군 전원 1:1 면담 실시 및 맞춤형 인센티브 제공.\n",
        "\n",
        "***2. 영업부 리스크 해소:***  업무 강도·성과평가 체계·리더십 스타일의 개선 방안을 즉시 점검.\n",
        "\n",
        "***- 중기 (3~6개월)***\n",
        "\n",
        "***1. 보상 체계 혁신:*** 업계 경쟁사 대비 부족한 연봉 및 인센티브 개선.\n",
        "\n",
        "***2. 직무 만족도 향상 프로그램:*** 교육 기회 확대, 경력 개발 로드맵 제공.\n",
        "\n",
        "***3. 부서별 맞춤형 조직문화 개선:*** 특히 영업부의 업무 부담 완화와 팀 리더십 강화.\n",
        "\n",
        "***- 장기 (6개월 이상)***\n",
        "\n",
        "***1. HR 데이터 기반 모니터링 체계화:***\n",
        "\n",
        "직원 만족도 및 이직 위험 실시간 대시보드 운영.\n",
        "\n",
        "예측 분석을 통해 **핵심 인재 이탈을 사전에 차단**.\n",
        "\n",
        "# **5. 결론**\n",
        "1. 즉시 조치를 취하지 않을 경우, 향후 6개월 내 핵심 인재 유출로 인해 연간 수억 원 이상의 손실(채용 비용·생산성 저하)이 발생할 가능성이 높습니다.\n",
        "\n",
        "2. 만족도 개선과 보상 구조 혁신은 인재 유출을 방지하고 경쟁 우위를 지속하기 위한 결정적 해법이며, 신속한 도입이 필요합니다."
      ],
      "metadata": {
        "id": "3L5VPLSrDGv9"
      }
    }
  ]
}